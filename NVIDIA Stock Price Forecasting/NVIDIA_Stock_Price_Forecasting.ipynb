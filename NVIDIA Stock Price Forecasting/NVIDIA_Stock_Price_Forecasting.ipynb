{
 "cells": [
  {
   "cell_type": "markdown",
   "id": "cdc218bf-8475-4c76-9f50-60a9e72a2b73",
   "metadata": {},
   "source": [
    "<div align=\"center\">\n",
    "\n",
    "---\n",
    "# NVIDIA Stock Price Forecasting\n",
    "---\n",
    "</div>\n",
    "\n",
    "This Project mainly focuses on trying to predict the **NVIDIA Stock's Market Price** using data from the yahoo Finance market history alongside with **Long Short-Term Memory Models** (LSTM's).\n",
    "\n",
    "The prediction methodology is based on **Univariate Forecasting**, which means that we are only to consider ``n`` previous values to predict the subsequent/next one."
   ]
  },
  {
   "cell_type": "code",
   "execution_count": 1,
   "id": "5b74a9fa-dacb-4e16-9ad8-4f3c4fb82140",
   "metadata": {},
   "outputs": [],
   "source": [
    "%load_ext autoreload\n",
    "%autoreload 2\n",
    "\n",
    "# Importing Dependencies\n",
    "import numpy as np\n",
    "import pandas as pd\n",
    "\n",
    "# Import json to help save dictionaries into .json files\n",
    "import json\n",
    "\n",
    "# Import matplotlib to help visualize the data\n",
    "import matplotlib.pyplot as plt\n",
    "\n",
    "# Import Datetime to properly format the Dates from the Dataset\n",
    "from datetime import (datetime, timedelta)\n",
    "\n",
    "# Importing an API to handle the Datset from Yahoo Finance\n",
    "import yfinance as yf\n",
    "\n",
    "# Import a Sequential Model from tensorflow alongside the Adam Optimizer and layers\n",
    "from tensorflow.keras.models import (Sequential)\n",
    "from tensorflow.keras.optimizers import (Adam)\n",
    "from tensorflow.keras import (layers)\n",
    "\n",
    "# Import developed functions to help preprocess and visualize the data\n",
    "from CustomUtilities.Configuration import (load_config)\n",
    "from CustomUtilities.DataPreProcessing import (str_to_datetime, df_to_windowed_df, windowed_df_to_date_X_y)\n",
    "from CustomUtilities.DataVisualization import (plot_model_performance, plot_model_overall_performance)"
   ]
  },
  {
   "cell_type": "code",
   "execution_count": 2,
   "id": "b109575c-32dc-44e8-9fd7-2e3144a49b95",
   "metadata": {},
   "outputs": [],
   "source": [
    "# ADD TO PROJECT DEPENDENCIES\n",
    "# !pip install yfinance"
   ]
  },
  {
   "cell_type": "markdown",
   "id": "87c69606-4113-44cb-8817-90e57ad3348a",
   "metadata": {},
   "source": [
    "---\n",
    "## Available Stocks\n",
    "---\n",
    "\n",
    "The user is free to change the stock being studied. Therefore, let's check which ones are covered by the yfinance module even though that this project focuses on the NVDIA Stocks."
   ]
  },
  {
   "cell_type": "code",
   "execution_count": 3,
   "id": "bdf937c2-2ab8-4d12-a26d-a85b77950693",
   "metadata": {},
   "outputs": [
    {
     "data": {
      "text/html": [
       "<div>\n",
       "<style scoped>\n",
       "    .dataframe tbody tr th:only-of-type {\n",
       "        vertical-align: middle;\n",
       "    }\n",
       "\n",
       "    .dataframe tbody tr th {\n",
       "        vertical-align: top;\n",
       "    }\n",
       "\n",
       "    .dataframe thead th {\n",
       "        text-align: right;\n",
       "    }\n",
       "</style>\n",
       "<table border=\"1\" class=\"dataframe\">\n",
       "  <thead>\n",
       "    <tr style=\"text-align: right;\">\n",
       "      <th></th>\n",
       "      <th>Name</th>\n",
       "      <th>Last Sale</th>\n",
       "      <th>Country</th>\n",
       "      <th>Volume</th>\n",
       "      <th>Sector</th>\n",
       "      <th>Industry</th>\n",
       "    </tr>\n",
       "    <tr>\n",
       "      <th>Symbol</th>\n",
       "      <th></th>\n",
       "      <th></th>\n",
       "      <th></th>\n",
       "      <th></th>\n",
       "      <th></th>\n",
       "      <th></th>\n",
       "    </tr>\n",
       "  </thead>\n",
       "  <tbody>\n",
       "    <tr>\n",
       "      <th>A</th>\n",
       "      <td>Agilent Technologies Inc. Common Stock</td>\n",
       "      <td>$136.94</td>\n",
       "      <td>United States</td>\n",
       "      <td>411298</td>\n",
       "      <td>Industrials</td>\n",
       "      <td>Biotechnology: Laboratory Analytical Instruments</td>\n",
       "    </tr>\n",
       "    <tr>\n",
       "      <th>AA</th>\n",
       "      <td>Alcoa Corporation Common Stock</td>\n",
       "      <td>$31.17</td>\n",
       "      <td>United States</td>\n",
       "      <td>2389048</td>\n",
       "      <td>Industrials</td>\n",
       "      <td>Aluminum</td>\n",
       "    </tr>\n",
       "    <tr>\n",
       "      <th>AACG</th>\n",
       "      <td>ATA Creativity Global American Depositary Shares</td>\n",
       "      <td>$0.613</td>\n",
       "      <td>China</td>\n",
       "      <td>3343</td>\n",
       "      <td>Real Estate</td>\n",
       "      <td>Other Consumer Services</td>\n",
       "    </tr>\n",
       "    <tr>\n",
       "      <th>AACI</th>\n",
       "      <td>Armada Acquisition Corp. I Common Stock</td>\n",
       "      <td>$10.80</td>\n",
       "      <td>United States</td>\n",
       "      <td>23380</td>\n",
       "      <td>Finance</td>\n",
       "      <td>Blank Checks</td>\n",
       "    </tr>\n",
       "    <tr>\n",
       "      <th>AACIU</th>\n",
       "      <td>Armada Acquisition Corp. I Unit</td>\n",
       "      <td>$11.95</td>\n",
       "      <td>United States</td>\n",
       "      <td>13630</td>\n",
       "      <td>Finance</td>\n",
       "      <td>Blank Checks</td>\n",
       "    </tr>\n",
       "    <tr>\n",
       "      <th>AACIW</th>\n",
       "      <td>Armada Acquisition Corp. I Warrant</td>\n",
       "      <td>$0.139</td>\n",
       "      <td>United States</td>\n",
       "      <td>107742</td>\n",
       "      <td>Finance</td>\n",
       "      <td>Blank Checks</td>\n",
       "    </tr>\n",
       "    <tr>\n",
       "      <th>AACT</th>\n",
       "      <td>Ares Acquisition Corporation II Class A Ordina...</td>\n",
       "      <td>$10.755</td>\n",
       "      <td>NaN</td>\n",
       "      <td>75691</td>\n",
       "      <td>Finance</td>\n",
       "      <td>Blank Checks</td>\n",
       "    </tr>\n",
       "    <tr>\n",
       "      <th>AADI</th>\n",
       "      <td>Aadi Bioscience Inc. Common Stock</td>\n",
       "      <td>$1.37</td>\n",
       "      <td>United States</td>\n",
       "      <td>37948</td>\n",
       "      <td>Health Care</td>\n",
       "      <td>Biotechnology: Pharmaceutical Preparations</td>\n",
       "    </tr>\n",
       "    <tr>\n",
       "      <th>AAGR</th>\n",
       "      <td>African Agriculture Holdings Inc. Common Stock</td>\n",
       "      <td>$0.128</td>\n",
       "      <td>United States</td>\n",
       "      <td>194849</td>\n",
       "      <td>Consumer Staples</td>\n",
       "      <td>Farming/Seeds/Milling</td>\n",
       "    </tr>\n",
       "    <tr>\n",
       "      <th>AAGRW</th>\n",
       "      <td>African Agriculture Holdings Inc. Warrant</td>\n",
       "      <td>$0.0087</td>\n",
       "      <td>United States</td>\n",
       "      <td>384</td>\n",
       "      <td>Consumer Staples</td>\n",
       "      <td>Farming/Seeds/Milling</td>\n",
       "    </tr>\n",
       "  </tbody>\n",
       "</table>\n",
       "</div>"
      ],
      "text/plain": [
       "                                                     Name Last Sale  \\\n",
       "Symbol                                                                \n",
       "A                  Agilent Technologies Inc. Common Stock   $136.94   \n",
       "AA                        Alcoa Corporation Common Stock     $31.17   \n",
       "AACG     ATA Creativity Global American Depositary Shares    $0.613   \n",
       "AACI              Armada Acquisition Corp. I Common Stock    $10.80   \n",
       "AACIU                     Armada Acquisition Corp. I Unit    $11.95   \n",
       "AACIW                  Armada Acquisition Corp. I Warrant    $0.139   \n",
       "AACT    Ares Acquisition Corporation II Class A Ordina...   $10.755   \n",
       "AADI                    Aadi Bioscience Inc. Common Stock     $1.37   \n",
       "AAGR       African Agriculture Holdings Inc. Common Stock    $0.128   \n",
       "AAGRW           African Agriculture Holdings Inc. Warrant   $0.0087   \n",
       "\n",
       "              Country   Volume            Sector  \\\n",
       "Symbol                                             \n",
       "A       United States   411298       Industrials   \n",
       "AA      United States  2389048       Industrials   \n",
       "AACG            China     3343       Real Estate   \n",
       "AACI    United States    23380           Finance   \n",
       "AACIU   United States    13630           Finance   \n",
       "AACIW   United States   107742           Finance   \n",
       "AACT              NaN    75691           Finance   \n",
       "AADI    United States    37948       Health Care   \n",
       "AAGR    United States   194849  Consumer Staples   \n",
       "AAGRW   United States      384  Consumer Staples   \n",
       "\n",
       "                                                Industry  \n",
       "Symbol                                                    \n",
       "A       Biotechnology: Laboratory Analytical Instruments  \n",
       "AA                                              Aluminum  \n",
       "AACG                             Other Consumer Services  \n",
       "AACI                                        Blank Checks  \n",
       "AACIU                                       Blank Checks  \n",
       "AACIW                                       Blank Checks  \n",
       "AACT                                        Blank Checks  \n",
       "AADI          Biotechnology: Pharmaceutical Preparations  \n",
       "AAGR                               Farming/Seeds/Milling  \n",
       "AAGRW                              Farming/Seeds/Milling  "
      ]
     },
     "execution_count": 3,
     "metadata": {},
     "output_type": "execute_result"
    }
   ],
   "source": [
    "# Load the Dataset and display a few stocks\n",
    "stocks_df = pd.read_csv(\"./Available_Stocks.csv\", index_col=[\"Symbol\"], usecols=[\"Symbol\", \"Name\", \"Last Sale\", \"Country\", \"Volume\", \"Sector\", \"Industry\"])\n",
    "stocks_df.head(10)"
   ]
  },
  {
   "cell_type": "code",
   "execution_count": 4,
   "id": "c06d0cf6-86f2-43b3-8d79-202000063378",
   "metadata": {
    "scrolled": true
   },
   "outputs": [],
   "source": [
    "# Create a dictionary with the stocks names and the corresponding symbols\n",
    "stocks_dict = pd.Series(stocks_df.Name, index=stocks_df.index).to_dict()"
   ]
  },
  {
   "cell_type": "code",
   "execution_count": 5,
   "id": "181c230b-2fa9-475d-ad24-fa21355b945e",
   "metadata": {
    "scrolled": true
   },
   "outputs": [],
   "source": [
    "# Save the stocks into a .json file to later visualize the data on a proper editor\n",
    "json.dump(stocks_dict, open(\"./Available_Stocks.json\", 'w'))"
   ]
  },
  {
   "cell_type": "markdown",
   "id": "efdc39a9-f694-472d-8050-cfd7e5cf5ca9",
   "metadata": {},
   "source": [
    "---\n",
    "## Dataset Extraction\n",
    "---\n",
    "\n",
    "In this Section we extract the market's history data of the NVIDIA Stock to further use in the LSTM's."
   ]
  },
  {
   "cell_type": "code",
   "execution_count": 6,
   "id": "64f5055b-93f3-414f-8338-2337fc19bd65",
   "metadata": {},
   "outputs": [],
   "source": [
    "# dataset @ https://finance.yahoo.com/quote/NVDA/history/"
   ]
  },
  {
   "cell_type": "code",
   "execution_count": 7,
   "id": "466acd02-ba93-4408-b6ad-a4bbe48b75fe",
   "metadata": {},
   "outputs": [],
   "source": [
    "# Load the config\n",
    "config = load_config()"
   ]
  },
  {
   "cell_type": "code",
   "execution_count": 8,
   "id": "ad6f284c-3754-4487-a8d8-50496cbe70cc",
   "metadata": {},
   "outputs": [],
   "source": [
    "# Getting the Stock Market Information\n",
    "stock_information = yf.Ticker(config['stock'])\n",
    "\n",
    "# Fetching a dataset with the stock's history data\n",
    "if config['max_period']:\n",
    "    stock_history = stock_information.history(period=\"max\")\n",
    "else:\n",
    "    stock_history = stock_information.history(start=config['start_date'], end=config['end_date'])\n",
    "\n",
    "# Saving the History data into a csv file\n",
    "stock_history.to_csv(f\"./{config['stock']}.csv\")"
   ]
  },
  {
   "cell_type": "code",
   "execution_count": 9,
   "id": "bc3146be-e961-4c71-b331-f84d1c6b440d",
   "metadata": {},
   "outputs": [],
   "source": [
    "# Defining a N degree for the Model - Choosing the amount of previous values to consider for a certain instant\n",
    "N = 3 if config['N'] is None else config['N']"
   ]
  },
  {
   "cell_type": "markdown",
   "id": "d8a6372f-7c6e-4604-86c2-bef2525aebf2",
   "metadata": {},
   "source": [
    "---\n",
    "## Dataset PreProcessing\n",
    "---"
   ]
  },
  {
   "cell_type": "code",
   "execution_count": 10,
   "id": "f8a69aed-e36a-467d-9bbf-e4b6a7c1ed4a",
   "metadata": {},
   "outputs": [],
   "source": [
    "# Loading the Dataset\n",
    "df = pd.read_csv(f\"./{config['stock']}.csv\")"
   ]
  },
  {
   "cell_type": "code",
   "execution_count": 11,
   "id": "ac48650b-e429-45b0-9508-6e598375684c",
   "metadata": {},
   "outputs": [
    {
     "name": "stdout",
     "output_type": "stream",
     "text": [
      "The dataset contains 422 rows and 8 columns\n"
     ]
    }
   ],
   "source": [
    "# Getting the Number of Rows and Columns of the Dataset\n",
    "n_rows, n_cols = df.shape\n",
    "print(f\"The dataset contains {n_rows} rows and {n_cols} columns\")"
   ]
  },
  {
   "cell_type": "code",
   "execution_count": 12,
   "id": "1bb9cafa-4b47-4386-90e7-9a6f13150e3b",
   "metadata": {},
   "outputs": [
    {
     "data": {
      "text/html": [
       "<div>\n",
       "<style scoped>\n",
       "    .dataframe tbody tr th:only-of-type {\n",
       "        vertical-align: middle;\n",
       "    }\n",
       "\n",
       "    .dataframe tbody tr th {\n",
       "        vertical-align: top;\n",
       "    }\n",
       "\n",
       "    .dataframe thead th {\n",
       "        text-align: right;\n",
       "    }\n",
       "</style>\n",
       "<table border=\"1\" class=\"dataframe\">\n",
       "  <thead>\n",
       "    <tr style=\"text-align: right;\">\n",
       "      <th></th>\n",
       "      <th>Date</th>\n",
       "      <th>Open</th>\n",
       "      <th>High</th>\n",
       "      <th>Low</th>\n",
       "      <th>Close</th>\n",
       "      <th>Volume</th>\n",
       "      <th>Dividends</th>\n",
       "      <th>Stock Splits</th>\n",
       "    </tr>\n",
       "  </thead>\n",
       "  <tbody>\n",
       "    <tr>\n",
       "      <th>0</th>\n",
       "      <td>2022-12-05 00:00:00-05:00</td>\n",
       "      <td>16.669453</td>\n",
       "      <td>16.985272</td>\n",
       "      <td>16.462571</td>\n",
       "      <td>16.600492</td>\n",
       "      <td>352255000</td>\n",
       "      <td>0.0</td>\n",
       "      <td>0.0</td>\n",
       "    </tr>\n",
       "    <tr>\n",
       "      <th>1</th>\n",
       "      <td>2022-12-06 00:00:00-05:00</td>\n",
       "      <td>16.520537</td>\n",
       "      <td>16.563512</td>\n",
       "      <td>15.809944</td>\n",
       "      <td>15.977848</td>\n",
       "      <td>352694000</td>\n",
       "      <td>0.0</td>\n",
       "      <td>0.0</td>\n",
       "    </tr>\n",
       "    <tr>\n",
       "      <th>2</th>\n",
       "      <td>2022-12-07 00:00:00-05:00</td>\n",
       "      <td>15.762972</td>\n",
       "      <td>16.176735</td>\n",
       "      <td>15.658031</td>\n",
       "      <td>16.110773</td>\n",
       "      <td>372388000</td>\n",
       "      <td>0.0</td>\n",
       "      <td>0.0</td>\n",
       "    </tr>\n",
       "    <tr>\n",
       "      <th>3</th>\n",
       "      <td>2022-12-08 00:00:00-05:00</td>\n",
       "      <td>16.263687</td>\n",
       "      <td>17.169168</td>\n",
       "      <td>15.949866</td>\n",
       "      <td>17.159174</td>\n",
       "      <td>515456000</td>\n",
       "      <td>0.0</td>\n",
       "      <td>0.0</td>\n",
       "    </tr>\n",
       "    <tr>\n",
       "      <th>4</th>\n",
       "      <td>2022-12-09 00:00:00-05:00</td>\n",
       "      <td>17.150176</td>\n",
       "      <td>17.572934</td>\n",
       "      <td>16.965282</td>\n",
       "      <td>16.991266</td>\n",
       "      <td>465338000</td>\n",
       "      <td>0.0</td>\n",
       "      <td>0.0</td>\n",
       "    </tr>\n",
       "  </tbody>\n",
       "</table>\n",
       "</div>"
      ],
      "text/plain": [
       "                        Date       Open       High        Low      Close  \\\n",
       "0  2022-12-05 00:00:00-05:00  16.669453  16.985272  16.462571  16.600492   \n",
       "1  2022-12-06 00:00:00-05:00  16.520537  16.563512  15.809944  15.977848   \n",
       "2  2022-12-07 00:00:00-05:00  15.762972  16.176735  15.658031  16.110773   \n",
       "3  2022-12-08 00:00:00-05:00  16.263687  17.169168  15.949866  17.159174   \n",
       "4  2022-12-09 00:00:00-05:00  17.150176  17.572934  16.965282  16.991266   \n",
       "\n",
       "      Volume  Dividends  Stock Splits  \n",
       "0  352255000        0.0           0.0  \n",
       "1  352694000        0.0           0.0  \n",
       "2  372388000        0.0           0.0  \n",
       "3  515456000        0.0           0.0  \n",
       "4  465338000        0.0           0.0  "
      ]
     },
     "execution_count": 12,
     "metadata": {},
     "output_type": "execute_result"
    }
   ],
   "source": [
    "# Getting Initial / Oldest 5 Records\n",
    "df.head(5)"
   ]
  },
  {
   "cell_type": "code",
   "execution_count": 13,
   "id": "c8154196-5718-45c5-aae4-ce942710b93b",
   "metadata": {},
   "outputs": [
    {
     "data": {
      "text/html": [
       "<div>\n",
       "<style scoped>\n",
       "    .dataframe tbody tr th:only-of-type {\n",
       "        vertical-align: middle;\n",
       "    }\n",
       "\n",
       "    .dataframe tbody tr th {\n",
       "        vertical-align: top;\n",
       "    }\n",
       "\n",
       "    .dataframe thead th {\n",
       "        text-align: right;\n",
       "    }\n",
       "</style>\n",
       "<table border=\"1\" class=\"dataframe\">\n",
       "  <thead>\n",
       "    <tr style=\"text-align: right;\">\n",
       "      <th></th>\n",
       "      <th>Date</th>\n",
       "      <th>Open</th>\n",
       "      <th>High</th>\n",
       "      <th>Low</th>\n",
       "      <th>Close</th>\n",
       "      <th>Volume</th>\n",
       "      <th>Dividends</th>\n",
       "      <th>Stock Splits</th>\n",
       "    </tr>\n",
       "  </thead>\n",
       "  <tbody>\n",
       "    <tr>\n",
       "      <th>417</th>\n",
       "      <td>2024-08-05 00:00:00-04:00</td>\n",
       "      <td>92.059998</td>\n",
       "      <td>103.410004</td>\n",
       "      <td>90.690002</td>\n",
       "      <td>100.449997</td>\n",
       "      <td>552842400</td>\n",
       "      <td>0.0</td>\n",
       "      <td>0.0</td>\n",
       "    </tr>\n",
       "    <tr>\n",
       "      <th>418</th>\n",
       "      <td>2024-08-06 00:00:00-04:00</td>\n",
       "      <td>103.839996</td>\n",
       "      <td>107.709999</td>\n",
       "      <td>100.550003</td>\n",
       "      <td>104.250000</td>\n",
       "      <td>409012100</td>\n",
       "      <td>0.0</td>\n",
       "      <td>0.0</td>\n",
       "    </tr>\n",
       "    <tr>\n",
       "      <th>419</th>\n",
       "      <td>2024-08-07 00:00:00-04:00</td>\n",
       "      <td>107.809998</td>\n",
       "      <td>108.800003</td>\n",
       "      <td>98.690002</td>\n",
       "      <td>98.910004</td>\n",
       "      <td>411440400</td>\n",
       "      <td>0.0</td>\n",
       "      <td>0.0</td>\n",
       "    </tr>\n",
       "    <tr>\n",
       "      <th>420</th>\n",
       "      <td>2024-08-08 00:00:00-04:00</td>\n",
       "      <td>102.000000</td>\n",
       "      <td>105.500000</td>\n",
       "      <td>97.519997</td>\n",
       "      <td>104.970001</td>\n",
       "      <td>391910000</td>\n",
       "      <td>0.0</td>\n",
       "      <td>0.0</td>\n",
       "    </tr>\n",
       "    <tr>\n",
       "      <th>421</th>\n",
       "      <td>2024-08-09 00:00:00-04:00</td>\n",
       "      <td>105.639999</td>\n",
       "      <td>106.599998</td>\n",
       "      <td>103.430000</td>\n",
       "      <td>104.750000</td>\n",
       "      <td>290844200</td>\n",
       "      <td>0.0</td>\n",
       "      <td>0.0</td>\n",
       "    </tr>\n",
       "  </tbody>\n",
       "</table>\n",
       "</div>"
      ],
      "text/plain": [
       "                          Date        Open        High         Low  \\\n",
       "417  2024-08-05 00:00:00-04:00   92.059998  103.410004   90.690002   \n",
       "418  2024-08-06 00:00:00-04:00  103.839996  107.709999  100.550003   \n",
       "419  2024-08-07 00:00:00-04:00  107.809998  108.800003   98.690002   \n",
       "420  2024-08-08 00:00:00-04:00  102.000000  105.500000   97.519997   \n",
       "421  2024-08-09 00:00:00-04:00  105.639999  106.599998  103.430000   \n",
       "\n",
       "          Close     Volume  Dividends  Stock Splits  \n",
       "417  100.449997  552842400        0.0           0.0  \n",
       "418  104.250000  409012100        0.0           0.0  \n",
       "419   98.910004  411440400        0.0           0.0  \n",
       "420  104.970001  391910000        0.0           0.0  \n",
       "421  104.750000  290844200        0.0           0.0  "
      ]
     },
     "execution_count": 13,
     "metadata": {},
     "output_type": "execute_result"
    }
   ],
   "source": [
    "# Getting Final / Most Recent 5 Records\n",
    "df.tail(5)"
   ]
  },
  {
   "cell_type": "code",
   "execution_count": 14,
   "id": "38d29814-6afd-4ac2-a409-74aff8ad391e",
   "metadata": {},
   "outputs": [
    {
     "data": {
      "text/html": [
       "<div>\n",
       "<style scoped>\n",
       "    .dataframe tbody tr th:only-of-type {\n",
       "        vertical-align: middle;\n",
       "    }\n",
       "\n",
       "    .dataframe tbody tr th {\n",
       "        vertical-align: top;\n",
       "    }\n",
       "\n",
       "    .dataframe thead th {\n",
       "        text-align: right;\n",
       "    }\n",
       "</style>\n",
       "<table border=\"1\" class=\"dataframe\">\n",
       "  <thead>\n",
       "    <tr style=\"text-align: right;\">\n",
       "      <th></th>\n",
       "      <th>Date</th>\n",
       "    </tr>\n",
       "  </thead>\n",
       "  <tbody>\n",
       "    <tr>\n",
       "      <th>0</th>\n",
       "      <td>2022-12-05</td>\n",
       "    </tr>\n",
       "    <tr>\n",
       "      <th>1</th>\n",
       "      <td>2022-12-06</td>\n",
       "    </tr>\n",
       "    <tr>\n",
       "      <th>2</th>\n",
       "      <td>2022-12-07</td>\n",
       "    </tr>\n",
       "  </tbody>\n",
       "</table>\n",
       "</div>"
      ],
      "text/plain": [
       "         Date\n",
       "0  2022-12-05\n",
       "1  2022-12-06\n",
       "2  2022-12-07"
      ]
     },
     "execution_count": 14,
     "metadata": {},
     "output_type": "execute_result"
    }
   ],
   "source": [
    "# Formatting the Datetime in order to only keep the date\n",
    "df['Date'] = df['Date'].apply(lambda x: x.split(' ')[0])\n",
    "df[['Date']].head(3)"
   ]
  },
  {
   "cell_type": "code",
   "execution_count": 15,
   "id": "b411af9d-a8ca-4ae8-b2f0-8feb85ddca96",
   "metadata": {},
   "outputs": [
    {
     "data": {
      "text/html": [
       "<div>\n",
       "<style scoped>\n",
       "    .dataframe tbody tr th:only-of-type {\n",
       "        vertical-align: middle;\n",
       "    }\n",
       "\n",
       "    .dataframe tbody tr th {\n",
       "        vertical-align: top;\n",
       "    }\n",
       "\n",
       "    .dataframe thead th {\n",
       "        text-align: right;\n",
       "    }\n",
       "</style>\n",
       "<table border=\"1\" class=\"dataframe\">\n",
       "  <thead>\n",
       "    <tr style=\"text-align: right;\">\n",
       "      <th></th>\n",
       "      <th>Date</th>\n",
       "      <th>Close</th>\n",
       "    </tr>\n",
       "  </thead>\n",
       "  <tbody>\n",
       "    <tr>\n",
       "      <th>0</th>\n",
       "      <td>2022-12-05</td>\n",
       "      <td>16.600492</td>\n",
       "    </tr>\n",
       "    <tr>\n",
       "      <th>1</th>\n",
       "      <td>2022-12-06</td>\n",
       "      <td>15.977848</td>\n",
       "    </tr>\n",
       "    <tr>\n",
       "      <th>2</th>\n",
       "      <td>2022-12-07</td>\n",
       "      <td>16.110773</td>\n",
       "    </tr>\n",
       "  </tbody>\n",
       "</table>\n",
       "</div>"
      ],
      "text/plain": [
       "         Date      Close\n",
       "0  2022-12-05  16.600492\n",
       "1  2022-12-06  15.977848\n",
       "2  2022-12-07  16.110773"
      ]
     },
     "execution_count": 15,
     "metadata": {},
     "output_type": "execute_result"
    }
   ],
   "source": [
    "# Selecting Important Columns\n",
    "df = df[['Date', 'Close']]\n",
    "df.head(3)"
   ]
  },
  {
   "cell_type": "code",
   "execution_count": 16,
   "id": "ea59bfd9-623f-4018-9826-b8e5b4064bf6",
   "metadata": {},
   "outputs": [
    {
     "data": {
      "text/plain": [
       "datetime.datetime(2022, 12, 5, 0, 0)"
      ]
     },
     "execution_count": 16,
     "metadata": {},
     "output_type": "execute_result"
    }
   ],
   "source": [
    "# Getting a date string from the dataset [In this case it is the first one]\n",
    "first_date_dataset = df['Date'][0]\n",
    "\n",
    "# Testing the previous function on the extracted date\n",
    "str_to_datetime(first_date_dataset)"
   ]
  },
  {
   "cell_type": "code",
   "execution_count": 17,
   "id": "ed81738a-a697-48dd-ab64-105961e4e04b",
   "metadata": {},
   "outputs": [
    {
     "data": {
      "text/plain": [
       "0     2022-12-05\n",
       "1     2022-12-06\n",
       "2     2022-12-07\n",
       "3     2022-12-08\n",
       "4     2022-12-09\n",
       "         ...    \n",
       "417   2024-08-05\n",
       "418   2024-08-06\n",
       "419   2024-08-07\n",
       "420   2024-08-08\n",
       "421   2024-08-09\n",
       "Name: Date, Length: 422, dtype: datetime64[ns]"
      ]
     },
     "execution_count": 17,
     "metadata": {},
     "output_type": "execute_result"
    }
   ],
   "source": [
    "# Now, let's update the dataframe in order for the dates to be formated accordingly with this most recent approach\n",
    "df['Date'] = df['Date'].map(lambda date_string : str_to_datetime(date_string))\n",
    "\n",
    "# Inspect the result\n",
    "df['Date']"
   ]
  },
  {
   "cell_type": "code",
   "execution_count": 18,
   "id": "f7433913-da99-43d2-8ef4-97b0d0ebf63e",
   "metadata": {},
   "outputs": [],
   "source": [
    "# Saving the Earliest and Latest Dates to be considered\n",
    "earliest_date = str(df['Date'][N].date())\n",
    "latest_date = str(df['Date'][len(df) - 1].date())"
   ]
  },
  {
   "cell_type": "code",
   "execution_count": 19,
   "id": "d0229066-67bc-4162-9389-ea6dbc635990",
   "metadata": {},
   "outputs": [
    {
     "data": {
      "text/html": [
       "<div>\n",
       "<style scoped>\n",
       "    .dataframe tbody tr th:only-of-type {\n",
       "        vertical-align: middle;\n",
       "    }\n",
       "\n",
       "    .dataframe tbody tr th {\n",
       "        vertical-align: top;\n",
       "    }\n",
       "\n",
       "    .dataframe thead th {\n",
       "        text-align: right;\n",
       "    }\n",
       "</style>\n",
       "<table border=\"1\" class=\"dataframe\">\n",
       "  <thead>\n",
       "    <tr style=\"text-align: right;\">\n",
       "      <th></th>\n",
       "      <th>Close</th>\n",
       "    </tr>\n",
       "    <tr>\n",
       "      <th>Date</th>\n",
       "      <th></th>\n",
       "    </tr>\n",
       "  </thead>\n",
       "  <tbody>\n",
       "    <tr>\n",
       "      <th>2022-12-05</th>\n",
       "      <td>16.600492</td>\n",
       "    </tr>\n",
       "    <tr>\n",
       "      <th>2022-12-06</th>\n",
       "      <td>15.977848</td>\n",
       "    </tr>\n",
       "    <tr>\n",
       "      <th>2022-12-07</th>\n",
       "      <td>16.110773</td>\n",
       "    </tr>\n",
       "  </tbody>\n",
       "</table>\n",
       "</div>"
      ],
      "text/plain": [
       "                Close\n",
       "Date                 \n",
       "2022-12-05  16.600492\n",
       "2022-12-06  15.977848\n",
       "2022-12-07  16.110773"
      ]
     },
     "execution_count": 19,
     "metadata": {},
     "output_type": "execute_result"
    }
   ],
   "source": [
    "# Set the Date column as the index column\n",
    "df.set_index('Date', inplace=True)\n",
    "\n",
    "# Inspect the dataframe\n",
    "df.head(3)"
   ]
  },
  {
   "cell_type": "code",
   "execution_count": 20,
   "id": "29a32c1c-5d3d-4836-8b6e-3fbd6056583f",
   "metadata": {},
   "outputs": [
    {
     "data": {
      "text/plain": [
       "[<matplotlib.lines.Line2D at 0x1947ab3e6a0>]"
      ]
     },
     "execution_count": 20,
     "metadata": {},
     "output_type": "execute_result"
    },
    {
     "data": {
      "image/png": "[encoded data removed]",
      "text/plain": [
       "<Figure size 640x480 with 1 Axes>"
      ]
     },
     "metadata": {},
     "output_type": "display_data"
    }
   ],
   "source": [
    "# Plotting the Closing Values of the Stock throughout the years\n",
    "plt.rc('font', size=7);\n",
    "plt.plot(df.index, df['Close'])"
   ]
  },
  {
   "cell_type": "code",
   "execution_count": 21,
   "id": "2f16808f-4d00-4e7c-95c0-fcafb17b2d60",
   "metadata": {},
   "outputs": [
    {
     "data": {
      "text/html": [
       "<div>\n",
       "<style scoped>\n",
       "    .dataframe tbody tr th:only-of-type {\n",
       "        vertical-align: middle;\n",
       "    }\n",
       "\n",
       "    .dataframe tbody tr th {\n",
       "        vertical-align: top;\n",
       "    }\n",
       "\n",
       "    .dataframe thead th {\n",
       "        text-align: right;\n",
       "    }\n",
       "</style>\n",
       "<table border=\"1\" class=\"dataframe\">\n",
       "  <thead>\n",
       "    <tr style=\"text-align: right;\">\n",
       "      <th></th>\n",
       "      <th>Target_Date</th>\n",
       "      <th>Target-3</th>\n",
       "      <th>Target-2</th>\n",
       "      <th>Target-1</th>\n",
       "      <th>Target</th>\n",
       "    </tr>\n",
       "  </thead>\n",
       "  <tbody>\n",
       "    <tr>\n",
       "      <th>0</th>\n",
       "      <td>2022-12-08</td>\n",
       "      <td>16.600492</td>\n",
       "      <td>15.977848</td>\n",
       "      <td>16.110773</td>\n",
       "      <td>17.159174</td>\n",
       "    </tr>\n",
       "    <tr>\n",
       "      <th>1</th>\n",
       "      <td>2022-12-09</td>\n",
       "      <td>15.977848</td>\n",
       "      <td>16.110773</td>\n",
       "      <td>17.159174</td>\n",
       "      <td>16.991266</td>\n",
       "    </tr>\n",
       "    <tr>\n",
       "      <th>2</th>\n",
       "      <td>2022-12-12</td>\n",
       "      <td>16.110773</td>\n",
       "      <td>17.159174</td>\n",
       "      <td>16.991266</td>\n",
       "      <td>17.524961</td>\n",
       "    </tr>\n",
       "    <tr>\n",
       "      <th>3</th>\n",
       "      <td>2022-12-13</td>\n",
       "      <td>17.159174</td>\n",
       "      <td>16.991266</td>\n",
       "      <td>17.524961</td>\n",
       "      <td>18.061655</td>\n",
       "    </tr>\n",
       "    <tr>\n",
       "      <th>4</th>\n",
       "      <td>2022-12-14</td>\n",
       "      <td>16.991266</td>\n",
       "      <td>17.524961</td>\n",
       "      <td>18.061655</td>\n",
       "      <td>17.663881</td>\n",
       "    </tr>\n",
       "  </tbody>\n",
       "</table>\n",
       "</div>"
      ],
      "text/plain": [
       "  Target_Date   Target-3   Target-2   Target-1     Target\n",
       "0  2022-12-08  16.600492  15.977848  16.110773  17.159174\n",
       "1  2022-12-09  15.977848  16.110773  17.159174  16.991266\n",
       "2  2022-12-12  16.110773  17.159174  16.991266  17.524961\n",
       "3  2022-12-13  17.159174  16.991266  17.524961  18.061655\n",
       "4  2022-12-14  16.991266  17.524961  18.061655  17.663881"
      ]
     },
     "execution_count": 21,
     "metadata": {},
     "output_type": "execute_result"
    }
   ],
   "source": [
    "# Extracting the previous N values of each possible instant along with the target value\n",
    "windowed_df = df_to_windowed_df(df, \n",
    "                                earliest_date, \n",
    "                                latest_date, \n",
    "                                n=N)\n",
    "windowed_df.head(5)"
   ]
  },
  {
   "cell_type": "code",
   "execution_count": 22,
   "id": "04eeb8f9-3b67-4604-8d4a-7e5eea91b49a",
   "metadata": {},
   "outputs": [
    {
     "name": "stdout",
     "output_type": "stream",
     "text": [
      "dates.shape=(419,) X.shape=(419, 3, 1) y.shape=(419,)\n"
     ]
    }
   ],
   "source": [
    "# Get the Dates as well as the input and output vectors\n",
    "dates, X, y = windowed_df_to_date_X_y(windowed_df)\n",
    "\n",
    "# Verifying the shape of each vector\n",
    "print(f\"{dates.shape=} {X.shape=} {y.shape=}\")\n",
    "assert dates.shape[0] == X.shape[0] and dates.shape[0] == y.shape[0], \"Vectors shape not Matching!\""
   ]
  },
  {
   "cell_type": "markdown",
   "id": "ec17b70c-6873-4ffb-a691-5ac7fe5135a5",
   "metadata": {},
   "source": [
    "---\n",
    "## Data Partitioning (Train - Validation - Test)\n",
    "---\n",
    "\n",
    "Now it's time to partition the clean data into proper feature and target vectors (X and y)."
   ]
  },
  {
   "cell_type": "code",
   "execution_count": 23,
   "id": "f49e3aa3-ed90-4f55-a47b-47694e5aba42",
   "metadata": {},
   "outputs": [],
   "source": [
    "# Getting the threshold values for train and validation (To which values should we consider as train/validation sets)\n",
    "train_threshold = int(len(dates) * .8)\n",
    "validation_threshold = int(len(dates) * .9)\n",
    "\n",
    "# Get the Train data\n",
    "dates_train = dates[:train_threshold]\n",
    "X_train = X[:train_threshold]\n",
    "y_train = y[:train_threshold]\n",
    "\n",
    "# Get the Validation data\n",
    "dates_validation = dates[train_threshold : validation_threshold]\n",
    "X_validation = X[train_threshold : validation_threshold]\n",
    "y_validation = y[train_threshold : validation_threshold]\n",
    "\n",
    "# Get the Test data\n",
    "dates_test = dates[validation_threshold:]\n",
    "X_test = X[validation_threshold:]\n",
    "y_test = y[validation_threshold:]"
   ]
  },
  {
   "cell_type": "code",
   "execution_count": 24,
   "id": "98207777-89d5-4c15-9f2a-d4dc8413e78e",
   "metadata": {},
   "outputs": [
    {
     "data": {
      "image/png": "[encoded data removed]",
      "text/plain": [
       "<Figure size 640x480 with 1 Axes>"
      ]
     },
     "metadata": {},
     "output_type": "display_data"
    }
   ],
   "source": [
    "# Plot the Partitioning of the Data (Inspect which values are being used in each set)\n",
    "plt.plot(dates_train, y_train)\n",
    "plt.plot(dates_validation, y_validation)\n",
    "plt.plot(dates_test, y_test)\n",
    "plt.legend(['Train', 'Validation', 'Test']);"
   ]
  },
  {
   "cell_type": "markdown",
   "id": "65811b7b-be39-4e71-ba28-76cf77824b7c",
   "metadata": {},
   "source": [
    "---\n",
    "## Model Development\n",
    "---\n",
    "\n",
    "After inspecting the data partitioning, we are left to define and train a model so that we can begin trying to predict the upcoming stock's market price."
   ]
  },
  {
   "cell_type": "code",
   "execution_count": 25,
   "id": "94f82a94-5272-4183-a13d-c6fa6af957f9",
   "metadata": {},
   "outputs": [],
   "source": [
    "# Build the Architecture of the Model\n",
    "model = Sequential([layers.Input((N,1)),\n",
    "                    layers.LSTM(64),\n",
    "                    layers.Dense(32, activation='relu'),\n",
    "                    layers.Dense(32, activation='relu'),\n",
    "                    layers.Dense(1)])"
   ]
  },
  {
   "cell_type": "code",
   "execution_count": 26,
   "id": "55b6cfa3-13da-461d-bf40-d4caa3ac4796",
   "metadata": {},
   "outputs": [],
   "source": [
    "# Insert information to Compile the Model -> Add the Loss Function, the Optimizer and the metrics to consider\n",
    "# Loss : Mean Squared Error\n",
    "# Optimizer : Adam with learning rate of 0.001\n",
    "# Metrics : Mean Absolute Error\n",
    "model.compile(loss='mse',\n",
    "              optimizer=Adam(learning_rate=0.001),\n",
    "              metrics=['mean_absolute_error'])"
   ]
  },
  {
   "cell_type": "code",
   "execution_count": 27,
   "id": "78e054e3-82c7-400d-8e7f-dc1c003f785d",
   "metadata": {
    "scrolled": true
   },
   "outputs": [
    {
     "name": "stdout",
     "output_type": "stream",
     "text": [
      "Epoch 1/100\n",
      "11/11 [==============================] - 3s 53ms/step - loss: 2202.5115 - mean_absolute_error: 42.4946 - val_loss: 9095.8984 - val_mean_absolute_error: 94.4599\n",
      "Epoch 2/100\n",
      "11/11 [==============================] - 0s 7ms/step - loss: 2104.0876 - mean_absolute_error: 41.2777 - val_loss: 8836.9922 - val_mean_absolute_error: 93.0772\n",
      "Epoch 3/100\n",
      "11/11 [==============================] - 0s 7ms/step - loss: 1951.9375 - mean_absolute_error: 39.2891 - val_loss: 8409.4854 - val_mean_absolute_error: 90.7467\n",
      "Epoch 4/100\n",
      "11/11 [==============================] - 0s 7ms/step - loss: 1711.1041 - mean_absolute_error: 35.9398 - val_loss: 7741.8252 - val_mean_absolute_error: 86.9815\n",
      "Epoch 5/100\n",
      "11/11 [==============================] - 0s 8ms/step - loss: 1351.7764 - mean_absolute_error: 30.2259 - val_loss: 6654.5952 - val_mean_absolute_error: 80.4676\n",
      "Epoch 6/100\n",
      "11/11 [==============================] - 0s 7ms/step - loss: 875.5977 - mean_absolute_error: 22.4140 - val_loss: 4987.4087 - val_mean_absolute_error: 69.2494\n",
      "Epoch 7/100\n",
      "11/11 [==============================] - 0s 7ms/step - loss: 490.9311 - mean_absolute_error: 16.5479 - val_loss: 3163.0364 - val_mean_absolute_error: 54.5185\n",
      "Epoch 8/100\n",
      "11/11 [==============================] - 0s 8ms/step - loss: 384.4074 - mean_absolute_error: 14.5494 - val_loss: 2504.0364 - val_mean_absolute_error: 48.2533\n",
      "Epoch 9/100\n",
      "11/11 [==============================] - 0s 8ms/step - loss: 340.8201 - mean_absolute_error: 13.7019 - val_loss: 2497.2246 - val_mean_absolute_error: 48.2552\n",
      "Epoch 10/100\n",
      "11/11 [==============================] - 0s 7ms/step - loss: 262.0225 - mean_absolute_error: 11.4656 - val_loss: 2286.5085 - val_mean_absolute_error: 46.0244\n",
      "Epoch 11/100\n",
      "11/11 [==============================] - 0s 7ms/step - loss: 155.4080 - mean_absolute_error: 6.9622 - val_loss: 1687.4174 - val_mean_absolute_error: 38.9867\n",
      "Epoch 12/100\n",
      "11/11 [==============================] - 0s 7ms/step - loss: 82.4814 - mean_absolute_error: 4.3191 - val_loss: 1067.8689 - val_mean_absolute_error: 30.0308\n",
      "Epoch 13/100\n",
      "11/11 [==============================] - 0s 7ms/step - loss: 38.8040 - mean_absolute_error: 2.8524 - val_loss: 636.6682 - val_mean_absolute_error: 21.7536\n",
      "Epoch 14/100\n",
      "11/11 [==============================] - 0s 7ms/step - loss: 15.5565 - mean_absolute_error: 2.0969 - val_loss: 410.1531 - val_mean_absolute_error: 16.0563\n",
      "Epoch 15/100\n",
      "11/11 [==============================] - 0s 7ms/step - loss: 7.2043 - mean_absolute_error: 1.5760 - val_loss: 296.3870 - val_mean_absolute_error: 12.6023\n",
      "Epoch 16/100\n",
      "11/11 [==============================] - 0s 7ms/step - loss: 3.9358 - mean_absolute_error: 1.2208 - val_loss: 241.1218 - val_mean_absolute_error: 10.8939\n",
      "Epoch 17/100\n",
      "11/11 [==============================] - 0s 7ms/step - loss: 3.1579 - mean_absolute_error: 1.1609 - val_loss: 208.6830 - val_mean_absolute_error: 9.6501\n",
      "Epoch 18/100\n",
      "11/11 [==============================] - 0s 7ms/step - loss: 2.5439 - mean_absolute_error: 1.0663 - val_loss: 194.9740 - val_mean_absolute_error: 9.3993\n",
      "Epoch 19/100\n",
      "11/11 [==============================] - 0s 7ms/step - loss: 2.2039 - mean_absolute_error: 0.9781 - val_loss: 180.4650 - val_mean_absolute_error: 8.8146\n",
      "Epoch 20/100\n",
      "11/11 [==============================] - 0s 7ms/step - loss: 2.4171 - mean_absolute_error: 1.0331 - val_loss: 175.2476 - val_mean_absolute_error: 8.6824\n",
      "Epoch 21/100\n",
      "11/11 [==============================] - 0s 7ms/step - loss: 2.4822 - mean_absolute_error: 1.0468 - val_loss: 176.8861 - val_mean_absolute_error: 9.1398\n",
      "Epoch 22/100\n",
      "11/11 [==============================] - 0s 7ms/step - loss: 3.0077 - mean_absolute_error: 1.1864 - val_loss: 166.8349 - val_mean_absolute_error: 8.3643\n",
      "Epoch 23/100\n",
      "11/11 [==============================] - 0s 7ms/step - loss: 2.2387 - mean_absolute_error: 1.0455 - val_loss: 163.8461 - val_mean_absolute_error: 8.3663\n",
      "Epoch 24/100\n",
      "11/11 [==============================] - 0s 7ms/step - loss: 2.4370 - mean_absolute_error: 1.0367 - val_loss: 163.2425 - val_mean_absolute_error: 8.5191\n",
      "Epoch 25/100\n",
      "11/11 [==============================] - 0s 7ms/step - loss: 2.1957 - mean_absolute_error: 1.0157 - val_loss: 157.9424 - val_mean_absolute_error: 8.1588\n",
      "Epoch 26/100\n",
      "11/11 [==============================] - 0s 7ms/step - loss: 1.9802 - mean_absolute_error: 0.9587 - val_loss: 156.2605 - val_mean_absolute_error: 8.2386\n",
      "Epoch 27/100\n",
      "11/11 [==============================] - 0s 7ms/step - loss: 2.0142 - mean_absolute_error: 0.9673 - val_loss: 151.0618 - val_mean_absolute_error: 7.8997\n",
      "Epoch 28/100\n",
      "11/11 [==============================] - 0s 7ms/step - loss: 2.1036 - mean_absolute_error: 0.9650 - val_loss: 149.5330 - val_mean_absolute_error: 7.8790\n",
      "Epoch 29/100\n",
      "11/11 [==============================] - 0s 11ms/step - loss: 2.1296 - mean_absolute_error: 0.9867 - val_loss: 148.7550 - val_mean_absolute_error: 7.9238\n",
      "Epoch 30/100\n",
      "11/11 [==============================] - 0s 7ms/step - loss: 2.3349 - mean_absolute_error: 1.0354 - val_loss: 147.9651 - val_mean_absolute_error: 7.8958\n",
      "Epoch 31/100\n",
      "11/11 [==============================] - 0s 7ms/step - loss: 2.1799 - mean_absolute_error: 1.0188 - val_loss: 149.1092 - val_mean_absolute_error: 8.1621\n",
      "Epoch 32/100\n",
      "11/11 [==============================] - 0s 7ms/step - loss: 2.0758 - mean_absolute_error: 0.9723 - val_loss: 144.6382 - val_mean_absolute_error: 7.8170\n",
      "Epoch 33/100\n",
      "11/11 [==============================] - 0s 7ms/step - loss: 1.9216 - mean_absolute_error: 0.9361 - val_loss: 143.6861 - val_mean_absolute_error: 7.8215\n",
      "Epoch 34/100\n",
      "11/11 [==============================] - 0s 7ms/step - loss: 1.9586 - mean_absolute_error: 0.9414 - val_loss: 140.8518 - val_mean_absolute_error: 7.6025\n",
      "Epoch 35/100\n",
      "11/11 [==============================] - 0s 7ms/step - loss: 1.9836 - mean_absolute_error: 0.9378 - val_loss: 140.6271 - val_mean_absolute_error: 7.6272\n",
      "Epoch 36/100\n",
      "11/11 [==============================] - 0s 7ms/step - loss: 2.0630 - mean_absolute_error: 0.9832 - val_loss: 140.2620 - val_mean_absolute_error: 7.6847\n",
      "Epoch 37/100\n",
      "11/11 [==============================] - 0s 7ms/step - loss: 1.9892 - mean_absolute_error: 0.9541 - val_loss: 139.1790 - val_mean_absolute_error: 7.6049\n",
      "Epoch 38/100\n",
      "11/11 [==============================] - 0s 6ms/step - loss: 2.0187 - mean_absolute_error: 0.9822 - val_loss: 137.6955 - val_mean_absolute_error: 7.5175\n",
      "Epoch 39/100\n",
      "11/11 [==============================] - 0s 7ms/step - loss: 2.0376 - mean_absolute_error: 0.9639 - val_loss: 139.5682 - val_mean_absolute_error: 7.7560\n",
      "Epoch 40/100\n",
      "11/11 [==============================] - 0s 7ms/step - loss: 2.0091 - mean_absolute_error: 0.9515 - val_loss: 141.2631 - val_mean_absolute_error: 7.9694\n",
      "Epoch 41/100\n",
      "11/11 [==============================] - 0s 7ms/step - loss: 1.9060 - mean_absolute_error: 0.9344 - val_loss: 135.6836 - val_mean_absolute_error: 7.5161\n",
      "Epoch 42/100\n",
      "11/11 [==============================] - 0s 6ms/step - loss: 2.0510 - mean_absolute_error: 0.9677 - val_loss: 139.3593 - val_mean_absolute_error: 7.8202\n",
      "Epoch 43/100\n",
      "11/11 [==============================] - 0s 7ms/step - loss: 2.2778 - mean_absolute_error: 1.0407 - val_loss: 143.7586 - val_mean_absolute_error: 8.1709\n",
      "Epoch 44/100\n",
      "11/11 [==============================] - 0s 6ms/step - loss: 2.2318 - mean_absolute_error: 1.0360 - val_loss: 137.0560 - val_mean_absolute_error: 7.6669\n",
      "Epoch 45/100\n",
      "11/11 [==============================] - 0s 7ms/step - loss: 2.3077 - mean_absolute_error: 1.0025 - val_loss: 137.0714 - val_mean_absolute_error: 7.5306\n",
      "Epoch 46/100\n",
      "11/11 [==============================] - 0s 6ms/step - loss: 1.9205 - mean_absolute_error: 0.9486 - val_loss: 135.7513 - val_mean_absolute_error: 7.4585\n",
      "Epoch 47/100\n",
      "11/11 [==============================] - 0s 6ms/step - loss: 1.8727 - mean_absolute_error: 0.9421 - val_loss: 138.2947 - val_mean_absolute_error: 7.7686\n",
      "Epoch 48/100\n",
      "11/11 [==============================] - 0s 7ms/step - loss: 1.8897 - mean_absolute_error: 0.9139 - val_loss: 135.7214 - val_mean_absolute_error: 7.4786\n",
      "Epoch 49/100\n",
      "11/11 [==============================] - 0s 7ms/step - loss: 1.9468 - mean_absolute_error: 0.9422 - val_loss: 134.8069 - val_mean_absolute_error: 7.4520\n",
      "Epoch 50/100\n",
      "11/11 [==============================] - 0s 7ms/step - loss: 1.7963 - mean_absolute_error: 0.9115 - val_loss: 137.7257 - val_mean_absolute_error: 7.7974\n",
      "Epoch 51/100\n",
      "11/11 [==============================] - 0s 7ms/step - loss: 2.2151 - mean_absolute_error: 1.0325 - val_loss: 134.4756 - val_mean_absolute_error: 7.6816\n",
      "Epoch 52/100\n",
      "11/11 [==============================] - 0s 7ms/step - loss: 2.4053 - mean_absolute_error: 1.0418 - val_loss: 136.0104 - val_mean_absolute_error: 7.5939\n",
      "Epoch 53/100\n",
      "11/11 [==============================] - 0s 7ms/step - loss: 2.2979 - mean_absolute_error: 1.0554 - val_loss: 135.3556 - val_mean_absolute_error: 7.4699\n",
      "Epoch 54/100\n",
      "11/11 [==============================] - 0s 7ms/step - loss: 1.8837 - mean_absolute_error: 0.9457 - val_loss: 137.2459 - val_mean_absolute_error: 7.6260\n",
      "Epoch 55/100\n",
      "11/11 [==============================] - 0s 7ms/step - loss: 1.8629 - mean_absolute_error: 0.9254 - val_loss: 135.3862 - val_mean_absolute_error: 7.4969\n",
      "Epoch 56/100\n",
      "11/11 [==============================] - 0s 7ms/step - loss: 1.9536 - mean_absolute_error: 0.9261 - val_loss: 133.9987 - val_mean_absolute_error: 7.4117\n",
      "Epoch 57/100\n",
      "11/11 [==============================] - 0s 11ms/step - loss: 2.0947 - mean_absolute_error: 0.9944 - val_loss: 138.6748 - val_mean_absolute_error: 7.8618\n",
      "Epoch 58/100\n",
      "11/11 [==============================] - 0s 6ms/step - loss: 2.1171 - mean_absolute_error: 0.9425 - val_loss: 139.1444 - val_mean_absolute_error: 7.8735\n",
      "Epoch 59/100\n",
      "11/11 [==============================] - 0s 7ms/step - loss: 2.1544 - mean_absolute_error: 1.0155 - val_loss: 135.3762 - val_mean_absolute_error: 7.5265\n",
      "Epoch 60/100\n",
      "11/11 [==============================] - 0s 7ms/step - loss: 1.9860 - mean_absolute_error: 0.9713 - val_loss: 142.4123 - val_mean_absolute_error: 8.1294\n",
      "Epoch 61/100\n",
      "11/11 [==============================] - 0s 7ms/step - loss: 1.9568 - mean_absolute_error: 0.9387 - val_loss: 135.2280 - val_mean_absolute_error: 7.4969\n",
      "Epoch 62/100\n",
      "11/11 [==============================] - 0s 7ms/step - loss: 1.8421 - mean_absolute_error: 0.9219 - val_loss: 137.5190 - val_mean_absolute_error: 7.7440\n",
      "Epoch 63/100\n",
      "11/11 [==============================] - 0s 7ms/step - loss: 1.9137 - mean_absolute_error: 0.9317 - val_loss: 133.0085 - val_mean_absolute_error: 7.4088\n",
      "Epoch 64/100\n",
      "11/11 [==============================] - 0s 7ms/step - loss: 1.9926 - mean_absolute_error: 0.9642 - val_loss: 136.9964 - val_mean_absolute_error: 7.8580\n",
      "Epoch 65/100\n",
      "11/11 [==============================] - 0s 7ms/step - loss: 2.0094 - mean_absolute_error: 0.9636 - val_loss: 133.0263 - val_mean_absolute_error: 7.4399\n",
      "Epoch 66/100\n",
      "11/11 [==============================] - 0s 7ms/step - loss: 1.9105 - mean_absolute_error: 0.9386 - val_loss: 132.6159 - val_mean_absolute_error: 7.4444\n",
      "Epoch 67/100\n",
      "11/11 [==============================] - 0s 7ms/step - loss: 1.9178 - mean_absolute_error: 0.9407 - val_loss: 130.5796 - val_mean_absolute_error: 7.3154\n",
      "Epoch 68/100\n",
      "11/11 [==============================] - 0s 7ms/step - loss: 2.0653 - mean_absolute_error: 1.0086 - val_loss: 131.6346 - val_mean_absolute_error: 7.3811\n",
      "Epoch 69/100\n",
      "11/11 [==============================] - 0s 7ms/step - loss: 1.8106 - mean_absolute_error: 0.9015 - val_loss: 130.8462 - val_mean_absolute_error: 7.3384\n",
      "Epoch 70/100\n",
      "11/11 [==============================] - 0s 7ms/step - loss: 1.8552 - mean_absolute_error: 0.9339 - val_loss: 133.0093 - val_mean_absolute_error: 7.5527\n",
      "Epoch 71/100\n",
      "11/11 [==============================] - 0s 7ms/step - loss: 1.9051 - mean_absolute_error: 0.9225 - val_loss: 130.6581 - val_mean_absolute_error: 7.3163\n",
      "Epoch 72/100\n",
      "11/11 [==============================] - 0s 7ms/step - loss: 1.8444 - mean_absolute_error: 0.9276 - val_loss: 138.8273 - val_mean_absolute_error: 8.1341\n",
      "Epoch 73/100\n",
      "11/11 [==============================] - 0s 7ms/step - loss: 2.0432 - mean_absolute_error: 0.9637 - val_loss: 130.0326 - val_mean_absolute_error: 7.2975\n",
      "Epoch 74/100\n",
      "11/11 [==============================] - 0s 6ms/step - loss: 1.8738 - mean_absolute_error: 0.9427 - val_loss: 130.6622 - val_mean_absolute_error: 7.3854\n",
      "Epoch 75/100\n",
      "11/11 [==============================] - 0s 7ms/step - loss: 1.8857 - mean_absolute_error: 0.9345 - val_loss: 129.2997 - val_mean_absolute_error: 7.3019\n",
      "Epoch 76/100\n",
      "11/11 [==============================] - 0s 7ms/step - loss: 1.8266 - mean_absolute_error: 0.9154 - val_loss: 130.6983 - val_mean_absolute_error: 7.4335\n",
      "Epoch 77/100\n",
      "11/11 [==============================] - 0s 7ms/step - loss: 1.9592 - mean_absolute_error: 0.9212 - val_loss: 133.1820 - val_mean_absolute_error: 7.6837\n",
      "Epoch 78/100\n",
      "11/11 [==============================] - 0s 7ms/step - loss: 1.9505 - mean_absolute_error: 0.9389 - val_loss: 129.4815 - val_mean_absolute_error: 7.3363\n",
      "Epoch 79/100\n",
      "11/11 [==============================] - 0s 7ms/step - loss: 2.2560 - mean_absolute_error: 1.0536 - val_loss: 130.7722 - val_mean_absolute_error: 7.4841\n",
      "Epoch 80/100\n",
      "11/11 [==============================] - 0s 7ms/step - loss: 2.5660 - mean_absolute_error: 1.1336 - val_loss: 128.4939 - val_mean_absolute_error: 7.3462\n",
      "Epoch 81/100\n",
      "11/11 [==============================] - 0s 6ms/step - loss: 2.0422 - mean_absolute_error: 1.0014 - val_loss: 127.9875 - val_mean_absolute_error: 7.2574\n",
      "Epoch 82/100\n",
      "11/11 [==============================] - 0s 6ms/step - loss: 2.0617 - mean_absolute_error: 0.9890 - val_loss: 128.5427 - val_mean_absolute_error: 7.2745\n",
      "Epoch 83/100\n",
      "11/11 [==============================] - 0s 7ms/step - loss: 1.8305 - mean_absolute_error: 0.9264 - val_loss: 128.6216 - val_mean_absolute_error: 7.3321\n",
      "Epoch 84/100\n",
      "11/11 [==============================] - 0s 7ms/step - loss: 1.8045 - mean_absolute_error: 0.9154 - val_loss: 127.0818 - val_mean_absolute_error: 7.2244\n",
      "Epoch 85/100\n",
      "11/11 [==============================] - 0s 7ms/step - loss: 1.8636 - mean_absolute_error: 0.9462 - val_loss: 129.1203 - val_mean_absolute_error: 7.3895\n",
      "Epoch 86/100\n",
      "11/11 [==============================] - 0s 7ms/step - loss: 1.8098 - mean_absolute_error: 0.9004 - val_loss: 128.0215 - val_mean_absolute_error: 7.2860\n",
      "Epoch 87/100\n",
      "11/11 [==============================] - 0s 7ms/step - loss: 1.8297 - mean_absolute_error: 0.9110 - val_loss: 131.1423 - val_mean_absolute_error: 7.5745\n",
      "Epoch 88/100\n",
      "11/11 [==============================] - 0s 6ms/step - loss: 1.8845 - mean_absolute_error: 0.9352 - val_loss: 127.4377 - val_mean_absolute_error: 7.2396\n",
      "Epoch 89/100\n",
      "11/11 [==============================] - 0s 6ms/step - loss: 1.8581 - mean_absolute_error: 0.9161 - val_loss: 130.2635 - val_mean_absolute_error: 7.4695\n",
      "Epoch 90/100\n",
      "11/11 [==============================] - 0s 7ms/step - loss: 1.9935 - mean_absolute_error: 1.0044 - val_loss: 129.1186 - val_mean_absolute_error: 7.4048\n",
      "Epoch 91/100\n",
      "11/11 [==============================] - 0s 6ms/step - loss: 2.1187 - mean_absolute_error: 1.0488 - val_loss: 126.8706 - val_mean_absolute_error: 7.2279\n",
      "Epoch 92/100\n",
      "11/11 [==============================] - 0s 7ms/step - loss: 2.0216 - mean_absolute_error: 0.9737 - val_loss: 130.9493 - val_mean_absolute_error: 7.6043\n",
      "Epoch 93/100\n",
      "11/11 [==============================] - 0s 7ms/step - loss: 2.2089 - mean_absolute_error: 1.0491 - val_loss: 128.6369 - val_mean_absolute_error: 7.4456\n",
      "Epoch 94/100\n",
      "11/11 [==============================] - 0s 7ms/step - loss: 2.2276 - mean_absolute_error: 1.0050 - val_loss: 133.2822 - val_mean_absolute_error: 7.5847\n",
      "Epoch 95/100\n",
      "11/11 [==============================] - 0s 7ms/step - loss: 2.1040 - mean_absolute_error: 1.0008 - val_loss: 135.9930 - val_mean_absolute_error: 7.7723\n",
      "Epoch 96/100\n",
      "11/11 [==============================] - 0s 7ms/step - loss: 2.3917 - mean_absolute_error: 1.0736 - val_loss: 133.3355 - val_mean_absolute_error: 7.4385\n",
      "Epoch 97/100\n",
      "11/11 [==============================] - 0s 7ms/step - loss: 2.0732 - mean_absolute_error: 1.0237 - val_loss: 134.7337 - val_mean_absolute_error: 7.6684\n",
      "Epoch 98/100\n",
      "11/11 [==============================] - 0s 7ms/step - loss: 1.9004 - mean_absolute_error: 0.9458 - val_loss: 130.3988 - val_mean_absolute_error: 7.3351\n",
      "Epoch 99/100\n",
      "11/11 [==============================] - 0s 7ms/step - loss: 1.9271 - mean_absolute_error: 0.9341 - val_loss: 132.8700 - val_mean_absolute_error: 7.6303\n",
      "Epoch 100/100\n",
      "11/11 [==============================] - 0s 6ms/step - loss: 1.9610 - mean_absolute_error: 0.9392 - val_loss: 132.5464 - val_mean_absolute_error: 7.5549\n"
     ]
    },
    {
     "data": {
      "text/plain": [
       "<keras.src.callbacks.History at 0x1947c6c4af0>"
      ]
     },
     "execution_count": 27,
     "metadata": {},
     "output_type": "execute_result"
    }
   ],
   "source": [
    "# Train the Model\n",
    "model.fit(X_train, y_train, validation_data=(X_validation, y_validation), epochs=100)"
   ]
  },
  {
   "cell_type": "markdown",
   "id": "e4f6514b-5928-41d7-8ef4-1889c4bfdbef",
   "metadata": {},
   "source": [
    "---\n",
    "## Model Performance Visualization\n",
    "---\n",
    "\n",
    "After trainning the model, we can now visualize how it performed through Train, Valiadtion and Testing to gain better insights on how the preprocessed data impacted the performance of the LSTM."
   ]
  },
  {
   "cell_type": "code",
   "execution_count": 28,
   "id": "63745b45-6e02-46c1-9d47-b926c5dbdbae",
   "metadata": {},
   "outputs": [
    {
     "name": "stdout",
     "output_type": "stream",
     "text": [
      "11/11 [==============================] - 0s 3ms/step\n"
     ]
    },
    {
     "data": {
      "image/png": "[encoded data removed]",
      "text/plain": [
       "<Figure size 640x480 with 1 Axes>"
      ]
     },
     "metadata": {},
     "output_type": "display_data"
    }
   ],
   "source": [
    "# -> Visualize the Trainning Performance\n",
    "\n",
    "# Get the Trainning Predictions\n",
    "train_preds = model.predict(X_train).flatten()\n",
    "\n",
    "# Plot the Trainning Performance Data\n",
    "plot_model_performance(dates_train, train_preds, y_train, ['Trainning Predictions', 'Trainning Observations']);"
   ]
  },
  {
   "cell_type": "code",
   "execution_count": 29,
   "id": "492e08ef-ac3c-4248-a2ce-3736e7baa343",
   "metadata": {},
   "outputs": [
    {
     "name": "stdout",
     "output_type": "stream",
     "text": [
      "2/2 [==============================] - 0s 4ms/step\n"
     ]
    },
    {
     "data": {
      "image/png": "[encoded data removed]",
      "text/plain": [
       "<Figure size 640x480 with 1 Axes>"
      ]
     },
     "metadata": {},
     "output_type": "display_data"
    }
   ],
   "source": [
    "# -> Visualize the Validation Performance\n",
    "\n",
    "# Get the Validation Predictions\n",
    "validation_preds = model.predict(X_validation).flatten()\n",
    "\n",
    "# Plot the Validation Performance Data\n",
    "plot_model_performance(dates_validation, validation_preds, y_validation, ['Validation Predictions', 'Validation Observations']);"
   ]
  },
  {
   "cell_type": "code",
   "execution_count": 30,
   "id": "d7ab3ca6-681f-403a-b918-f258878ea8ab",
   "metadata": {},
   "outputs": [
    {
     "name": "stdout",
     "output_type": "stream",
     "text": [
      "2/2 [==============================] - 0s 4ms/step\n"
     ]
    },
    {
     "data": {
      "image/png": "[encoded data removed]",
      "text/plain": [
       "<Figure size 640x480 with 1 Axes>"
      ]
     },
     "metadata": {},
     "output_type": "display_data"
    }
   ],
   "source": [
    "# -> Visualize Test Performance\n",
    "\n",
    "# Get the Test Predictions\n",
    "test_preds = model.predict(X_test).flatten()\n",
    "\n",
    "# Plot the Test Performance Data\n",
    "plot_model_performance(dates_test, test_preds, y_test, ['Testing Predictions', 'Testing Observations']);"
   ]
  },
  {
   "cell_type": "code",
   "execution_count": 31,
   "id": "dde10537-0a60-4dca-8627-a05899429342",
   "metadata": {},
   "outputs": [
    {
     "data": {
      "image/png": "[encoded data removed]",
      "text/plain": [
       "<Figure size 640x480 with 1 Axes>"
      ]
     },
     "metadata": {},
     "output_type": "display_data"
    }
   ],
   "source": [
    "# -> Visualize the Model's performance throughout the all process\n",
    "\n",
    "# Initialize some python lists with the data\n",
    "dates_list = [dates_train, dates_validation, dates_test]\n",
    "preds_list = [train_preds, validation_preds, test_preds]\n",
    "y_list = [y_train, y_validation, y_test]\n",
    "legend = ['Training Predictions',\n",
    "          'Training Observations',\n",
    "          'Validation Predictions',\n",
    "          'Validation Observations',\n",
    "          'Testing Predictions',\n",
    "          'Testing Observations']\n",
    "\n",
    "# Plot the Data\n",
    "plot_model_overall_performance(dates_list, preds_list, y_list, legend);\n",
    "\n",
    "# Save the final plot\n",
    "if config['save_plot']:\n",
    "    plt.savefig(f\"./Assets/{config['stock']}_Stock_Price_Forecasting.png\", bbox_inches='tight')"
   ]
  }
 ],
 "metadata": {
  "kernelspec": {
   "display_name": "Python 3 (ipykernel)",
   "language": "python",
   "name": "python3"
  },
  "language_info": {
   "codemirror_mode": {
    "name": "ipython",
    "version": 3
   },
   "file_extension": ".py",
   "mimetype": "text/x-python",
   "name": "python",
   "nbconvert_exporter": "python",
   "pygments_lexer": "ipython3",
   "version": "3.8.0"
  }
 },
 "nbformat": 4,
 "nbformat_minor": 5
}
