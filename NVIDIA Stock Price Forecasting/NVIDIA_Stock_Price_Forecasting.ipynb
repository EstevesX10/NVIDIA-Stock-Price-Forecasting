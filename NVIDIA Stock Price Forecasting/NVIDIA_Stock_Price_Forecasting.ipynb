{
 "cells": [
  {
   "cell_type": "markdown",
   "id": "cdc218bf-8475-4c76-9f50-60a9e72a2b73",
   "metadata": {},
   "source": [
    "<div align=\"center\">\n",
    "\n",
    "---\n",
    "# NVIDIA Stock Price Forecasting\n",
    "---\n",
    "</div>\n",
    "\n",
    "This Project mainly focuses on trying to predict the **NVIDIA Stock's Market Price** using data from the yahoo Finance market history alongside with **Long Short-Term Memory Models** (LSTM's).\n",
    "\n",
    "The prediction methodology is based on **Univariate Forecasting**, which means that we are only to consider ``n`` previous values to predict the subsequent/next one."
   ]
  },
  {
   "cell_type": "code",
   "execution_count": 1,
   "id": "5b74a9fa-dacb-4e16-9ad8-4f3c4fb82140",
   "metadata": {},
   "outputs": [],
   "source": [
    "%load_ext autoreload\n",
    "%autoreload 2\n",
    "\n",
    "# Importing Dependencies\n",
    "import numpy as np\n",
    "import pandas as pd\n",
    "\n",
    "# Import json to help save dictionaries into .json files\n",
    "import json\n",
    "\n",
    "# Import matplotlib to help visualize the data\n",
    "import matplotlib.pyplot as plt\n",
    "\n",
    "# Import Datetime to properly format the Dates from the Dataset\n",
    "from datetime import (datetime, timedelta)\n",
    "\n",
    "# Importing an API to handle the Datset from Yahoo Finance\n",
    "import yfinance as yf\n",
    "\n",
    "# Import a Sequential Model from tensorflow alongside the Adam Optimizer and layers\n",
    "from tensorflow.keras.models import (Sequential)\n",
    "from tensorflow.keras.optimizers import (Adam)\n",
    "from tensorflow.keras import (layers)\n",
    "\n",
    "# Import developed functions to help preprocess and visualize the data\n",
    "from CustomUtilities.Configuration import (load_config)\n",
    "from CustomUtilities.DataPreProcessing import (str_to_datetime, df_to_windowed_df, windowed_df_to_date_X_y)\n",
    "from CustomUtilities.DataVisualization import (plot_model_performance, plot_model_overall_performance)"
   ]
  },
  {
   "cell_type": "markdown",
   "id": "87c69606-4113-44cb-8817-90e57ad3348a",
   "metadata": {},
   "source": [
    "---\n",
    "## Available Stocks\n",
    "---\n",
    "\n",
    "The user is free to change the **stock being studied**. Therefore, let's check which ones are covered by the **yfinance module** even though that this project focuses on the **NVDIA Stock**."
   ]
  },
  {
   "cell_type": "code",
   "execution_count": 2,
   "id": "bdf937c2-2ab8-4d12-a26d-a85b77950693",
   "metadata": {},
   "outputs": [
    {
     "data": {
      "text/html": [
       "<div>\n",
       "<style scoped>\n",
       "    .dataframe tbody tr th:only-of-type {\n",
       "        vertical-align: middle;\n",
       "    }\n",
       "\n",
       "    .dataframe tbody tr th {\n",
       "        vertical-align: top;\n",
       "    }\n",
       "\n",
       "    .dataframe thead th {\n",
       "        text-align: right;\n",
       "    }\n",
       "</style>\n",
       "<table border=\"1\" class=\"dataframe\">\n",
       "  <thead>\n",
       "    <tr style=\"text-align: right;\">\n",
       "      <th></th>\n",
       "      <th>Name</th>\n",
       "      <th>Last Sale</th>\n",
       "      <th>Country</th>\n",
       "      <th>Volume</th>\n",
       "      <th>Sector</th>\n",
       "      <th>Industry</th>\n",
       "    </tr>\n",
       "    <tr>\n",
       "      <th>Symbol</th>\n",
       "      <th></th>\n",
       "      <th></th>\n",
       "      <th></th>\n",
       "      <th></th>\n",
       "      <th></th>\n",
       "      <th></th>\n",
       "    </tr>\n",
       "  </thead>\n",
       "  <tbody>\n",
       "    <tr>\n",
       "      <th>A</th>\n",
       "      <td>Agilent Technologies Inc. Common Stock</td>\n",
       "      <td>$136.94</td>\n",
       "      <td>United States</td>\n",
       "      <td>411298</td>\n",
       "      <td>Industrials</td>\n",
       "      <td>Biotechnology: Laboratory Analytical Instruments</td>\n",
       "    </tr>\n",
       "    <tr>\n",
       "      <th>AA</th>\n",
       "      <td>Alcoa Corporation Common Stock</td>\n",
       "      <td>$31.17</td>\n",
       "      <td>United States</td>\n",
       "      <td>2389048</td>\n",
       "      <td>Industrials</td>\n",
       "      <td>Aluminum</td>\n",
       "    </tr>\n",
       "    <tr>\n",
       "      <th>AACG</th>\n",
       "      <td>ATA Creativity Global American Depositary Shares</td>\n",
       "      <td>$0.613</td>\n",
       "      <td>China</td>\n",
       "      <td>3343</td>\n",
       "      <td>Real Estate</td>\n",
       "      <td>Other Consumer Services</td>\n",
       "    </tr>\n",
       "    <tr>\n",
       "      <th>AACI</th>\n",
       "      <td>Armada Acquisition Corp. I Common Stock</td>\n",
       "      <td>$10.80</td>\n",
       "      <td>United States</td>\n",
       "      <td>23380</td>\n",
       "      <td>Finance</td>\n",
       "      <td>Blank Checks</td>\n",
       "    </tr>\n",
       "    <tr>\n",
       "      <th>AACIU</th>\n",
       "      <td>Armada Acquisition Corp. I Unit</td>\n",
       "      <td>$11.95</td>\n",
       "      <td>United States</td>\n",
       "      <td>13630</td>\n",
       "      <td>Finance</td>\n",
       "      <td>Blank Checks</td>\n",
       "    </tr>\n",
       "    <tr>\n",
       "      <th>AACIW</th>\n",
       "      <td>Armada Acquisition Corp. I Warrant</td>\n",
       "      <td>$0.139</td>\n",
       "      <td>United States</td>\n",
       "      <td>107742</td>\n",
       "      <td>Finance</td>\n",
       "      <td>Blank Checks</td>\n",
       "    </tr>\n",
       "    <tr>\n",
       "      <th>AACT</th>\n",
       "      <td>Ares Acquisition Corporation II Class A Ordina...</td>\n",
       "      <td>$10.755</td>\n",
       "      <td>NaN</td>\n",
       "      <td>75691</td>\n",
       "      <td>Finance</td>\n",
       "      <td>Blank Checks</td>\n",
       "    </tr>\n",
       "    <tr>\n",
       "      <th>AADI</th>\n",
       "      <td>Aadi Bioscience Inc. Common Stock</td>\n",
       "      <td>$1.37</td>\n",
       "      <td>United States</td>\n",
       "      <td>37948</td>\n",
       "      <td>Health Care</td>\n",
       "      <td>Biotechnology: Pharmaceutical Preparations</td>\n",
       "    </tr>\n",
       "    <tr>\n",
       "      <th>AAGR</th>\n",
       "      <td>African Agriculture Holdings Inc. Common Stock</td>\n",
       "      <td>$0.128</td>\n",
       "      <td>United States</td>\n",
       "      <td>194849</td>\n",
       "      <td>Consumer Staples</td>\n",
       "      <td>Farming/Seeds/Milling</td>\n",
       "    </tr>\n",
       "    <tr>\n",
       "      <th>AAGRW</th>\n",
       "      <td>African Agriculture Holdings Inc. Warrant</td>\n",
       "      <td>$0.0087</td>\n",
       "      <td>United States</td>\n",
       "      <td>384</td>\n",
       "      <td>Consumer Staples</td>\n",
       "      <td>Farming/Seeds/Milling</td>\n",
       "    </tr>\n",
       "  </tbody>\n",
       "</table>\n",
       "</div>"
      ],
      "text/plain": [
       "                                                     Name Last Sale  \\\n",
       "Symbol                                                                \n",
       "A                  Agilent Technologies Inc. Common Stock   $136.94   \n",
       "AA                        Alcoa Corporation Common Stock     $31.17   \n",
       "AACG     ATA Creativity Global American Depositary Shares    $0.613   \n",
       "AACI              Armada Acquisition Corp. I Common Stock    $10.80   \n",
       "AACIU                     Armada Acquisition Corp. I Unit    $11.95   \n",
       "AACIW                  Armada Acquisition Corp. I Warrant    $0.139   \n",
       "AACT    Ares Acquisition Corporation II Class A Ordina...   $10.755   \n",
       "AADI                    Aadi Bioscience Inc. Common Stock     $1.37   \n",
       "AAGR       African Agriculture Holdings Inc. Common Stock    $0.128   \n",
       "AAGRW           African Agriculture Holdings Inc. Warrant   $0.0087   \n",
       "\n",
       "              Country   Volume            Sector  \\\n",
       "Symbol                                             \n",
       "A       United States   411298       Industrials   \n",
       "AA      United States  2389048       Industrials   \n",
       "AACG            China     3343       Real Estate   \n",
       "AACI    United States    23380           Finance   \n",
       "AACIU   United States    13630           Finance   \n",
       "AACIW   United States   107742           Finance   \n",
       "AACT              NaN    75691           Finance   \n",
       "AADI    United States    37948       Health Care   \n",
       "AAGR    United States   194849  Consumer Staples   \n",
       "AAGRW   United States      384  Consumer Staples   \n",
       "\n",
       "                                                Industry  \n",
       "Symbol                                                    \n",
       "A       Biotechnology: Laboratory Analytical Instruments  \n",
       "AA                                              Aluminum  \n",
       "AACG                             Other Consumer Services  \n",
       "AACI                                        Blank Checks  \n",
       "AACIU                                       Blank Checks  \n",
       "AACIW                                       Blank Checks  \n",
       "AACT                                        Blank Checks  \n",
       "AADI          Biotechnology: Pharmaceutical Preparations  \n",
       "AAGR                               Farming/Seeds/Milling  \n",
       "AAGRW                              Farming/Seeds/Milling  "
      ]
     },
     "execution_count": 2,
     "metadata": {},
     "output_type": "execute_result"
    }
   ],
   "source": [
    "# Load the Dataset and display a few stocks\n",
    "stocks_df = pd.read_csv(\"./Available_Stocks.csv\", index_col=[\"Symbol\"], usecols=[\"Symbol\", \"Name\", \"Last Sale\", \"Country\", \"Volume\", \"Sector\", \"Industry\"])\n",
    "stocks_df.head(10)"
   ]
  },
  {
   "cell_type": "code",
   "execution_count": 3,
   "id": "c06d0cf6-86f2-43b3-8d79-202000063378",
   "metadata": {
    "scrolled": true
   },
   "outputs": [],
   "source": [
    "# Create a dictionary with the stocks names and the corresponding symbols\n",
    "stocks_dict = pd.Series(stocks_df.Name, index=stocks_df.index).to_dict()"
   ]
  },
  {
   "cell_type": "code",
   "execution_count": 4,
   "id": "181c230b-2fa9-475d-ad24-fa21355b945e",
   "metadata": {
    "scrolled": true
   },
   "outputs": [],
   "source": [
    "# Save the stocks into a .json file to later visualize the data on a proper editor\n",
    "json.dump(stocks_dict, open(\"./Available_Stocks.json\", 'w'))"
   ]
  },
  {
   "cell_type": "markdown",
   "id": "efdc39a9-f694-472d-8050-cfd7e5cf5ca9",
   "metadata": {},
   "source": [
    "---\n",
    "## Dataset Extraction\n",
    "---\n",
    "\n",
    "In this Section we **extract the market's history data of the NVIDIA Stock** to further use in the LSTM's."
   ]
  },
  {
   "cell_type": "code",
   "execution_count": 5,
   "id": "64f5055b-93f3-414f-8338-2337fc19bd65",
   "metadata": {},
   "outputs": [],
   "source": [
    "# dataset @ https://finance.yahoo.com/quote/NVDA/history/"
   ]
  },
  {
   "cell_type": "code",
   "execution_count": 6,
   "id": "466acd02-ba93-4408-b6ad-a4bbe48b75fe",
   "metadata": {},
   "outputs": [],
   "source": [
    "# Load the config\n",
    "config = load_config()"
   ]
  },
  {
   "cell_type": "code",
   "execution_count": 7,
   "id": "ad6f284c-3754-4487-a8d8-50496cbe70cc",
   "metadata": {},
   "outputs": [],
   "source": [
    "# Getting the Stock Market Information\n",
    "stock_information = yf.Ticker(config['stock'])\n",
    "\n",
    "# Fetching a dataset with the stock's history data\n",
    "if config['max_period']:\n",
    "    stock_history = stock_information.history(period=\"max\")\n",
    "else:\n",
    "    stock_history = stock_information.history(start=config['start_date'], end=config['end_date'])\n",
    "\n",
    "# Saving the History data into a csv file\n",
    "stock_history.to_csv(f\"./{config['stock']}.csv\")"
   ]
  },
  {
   "cell_type": "code",
   "execution_count": 8,
   "id": "bc3146be-e961-4c71-b331-f84d1c6b440d",
   "metadata": {},
   "outputs": [],
   "source": [
    "# Defining a N degree for the Model - Choosing the amount of previous values to consider for a certain instant\n",
    "N = 3 if config['N'] is None else config['N']"
   ]
  },
  {
   "cell_type": "markdown",
   "id": "d8a6372f-7c6e-4604-86c2-bef2525aebf2",
   "metadata": {},
   "source": [
    "---\n",
    "## Dataset PreProcessing\n",
    "---"
   ]
  },
  {
   "cell_type": "code",
   "execution_count": 9,
   "id": "f8a69aed-e36a-467d-9bbf-e4b6a7c1ed4a",
   "metadata": {},
   "outputs": [],
   "source": [
    "# Loading the Dataset\n",
    "df = pd.read_csv(f\"./{config['stock']}.csv\")"
   ]
  },
  {
   "cell_type": "code",
   "execution_count": 10,
   "id": "ac48650b-e429-45b0-9508-6e598375684c",
   "metadata": {},
   "outputs": [
    {
     "name": "stdout",
     "output_type": "stream",
     "text": [
      "The dataset contains 422 rows and 8 columns\n"
     ]
    }
   ],
   "source": [
    "# Getting the Number of Rows and Columns of the Dataset\n",
    "n_rows, n_cols = df.shape\n",
    "print(f\"The dataset contains {n_rows} rows and {n_cols} columns\")"
   ]
  },
  {
   "cell_type": "code",
   "execution_count": 11,
   "id": "1bb9cafa-4b47-4386-90e7-9a6f13150e3b",
   "metadata": {},
   "outputs": [
    {
     "data": {
      "text/html": [
       "<div>\n",
       "<style scoped>\n",
       "    .dataframe tbody tr th:only-of-type {\n",
       "        vertical-align: middle;\n",
       "    }\n",
       "\n",
       "    .dataframe tbody tr th {\n",
       "        vertical-align: top;\n",
       "    }\n",
       "\n",
       "    .dataframe thead th {\n",
       "        text-align: right;\n",
       "    }\n",
       "</style>\n",
       "<table border=\"1\" class=\"dataframe\">\n",
       "  <thead>\n",
       "    <tr style=\"text-align: right;\">\n",
       "      <th></th>\n",
       "      <th>Date</th>\n",
       "      <th>Open</th>\n",
       "      <th>High</th>\n",
       "      <th>Low</th>\n",
       "      <th>Close</th>\n",
       "      <th>Volume</th>\n",
       "      <th>Dividends</th>\n",
       "      <th>Stock Splits</th>\n",
       "    </tr>\n",
       "  </thead>\n",
       "  <tbody>\n",
       "    <tr>\n",
       "      <th>0</th>\n",
       "      <td>2022-12-05 00:00:00-05:00</td>\n",
       "      <td>16.669455</td>\n",
       "      <td>16.985274</td>\n",
       "      <td>16.462573</td>\n",
       "      <td>16.600494</td>\n",
       "      <td>352255000</td>\n",
       "      <td>0.0</td>\n",
       "      <td>0.0</td>\n",
       "    </tr>\n",
       "    <tr>\n",
       "      <th>1</th>\n",
       "      <td>2022-12-06 00:00:00-05:00</td>\n",
       "      <td>16.520537</td>\n",
       "      <td>16.563512</td>\n",
       "      <td>15.809944</td>\n",
       "      <td>15.977848</td>\n",
       "      <td>352694000</td>\n",
       "      <td>0.0</td>\n",
       "      <td>0.0</td>\n",
       "    </tr>\n",
       "    <tr>\n",
       "      <th>2</th>\n",
       "      <td>2022-12-07 00:00:00-05:00</td>\n",
       "      <td>15.762972</td>\n",
       "      <td>16.176735</td>\n",
       "      <td>15.658031</td>\n",
       "      <td>16.110773</td>\n",
       "      <td>372388000</td>\n",
       "      <td>0.0</td>\n",
       "      <td>0.0</td>\n",
       "    </tr>\n",
       "    <tr>\n",
       "      <th>3</th>\n",
       "      <td>2022-12-08 00:00:00-05:00</td>\n",
       "      <td>16.263687</td>\n",
       "      <td>17.169168</td>\n",
       "      <td>15.949866</td>\n",
       "      <td>17.159174</td>\n",
       "      <td>515456000</td>\n",
       "      <td>0.0</td>\n",
       "      <td>0.0</td>\n",
       "    </tr>\n",
       "    <tr>\n",
       "      <th>4</th>\n",
       "      <td>2022-12-09 00:00:00-05:00</td>\n",
       "      <td>17.150178</td>\n",
       "      <td>17.572936</td>\n",
       "      <td>16.965284</td>\n",
       "      <td>16.991268</td>\n",
       "      <td>465338000</td>\n",
       "      <td>0.0</td>\n",
       "      <td>0.0</td>\n",
       "    </tr>\n",
       "  </tbody>\n",
       "</table>\n",
       "</div>"
      ],
      "text/plain": [
       "                        Date       Open       High        Low      Close  \\\n",
       "0  2022-12-05 00:00:00-05:00  16.669455  16.985274  16.462573  16.600494   \n",
       "1  2022-12-06 00:00:00-05:00  16.520537  16.563512  15.809944  15.977848   \n",
       "2  2022-12-07 00:00:00-05:00  15.762972  16.176735  15.658031  16.110773   \n",
       "3  2022-12-08 00:00:00-05:00  16.263687  17.169168  15.949866  17.159174   \n",
       "4  2022-12-09 00:00:00-05:00  17.150178  17.572936  16.965284  16.991268   \n",
       "\n",
       "      Volume  Dividends  Stock Splits  \n",
       "0  352255000        0.0           0.0  \n",
       "1  352694000        0.0           0.0  \n",
       "2  372388000        0.0           0.0  \n",
       "3  515456000        0.0           0.0  \n",
       "4  465338000        0.0           0.0  "
      ]
     },
     "execution_count": 11,
     "metadata": {},
     "output_type": "execute_result"
    }
   ],
   "source": [
    "# Getting Initial / Oldest 5 Records\n",
    "df.head(5)"
   ]
  },
  {
   "cell_type": "code",
   "execution_count": 12,
   "id": "c8154196-5718-45c5-aae4-ce942710b93b",
   "metadata": {},
   "outputs": [
    {
     "data": {
      "text/html": [
       "<div>\n",
       "<style scoped>\n",
       "    .dataframe tbody tr th:only-of-type {\n",
       "        vertical-align: middle;\n",
       "    }\n",
       "\n",
       "    .dataframe tbody tr th {\n",
       "        vertical-align: top;\n",
       "    }\n",
       "\n",
       "    .dataframe thead th {\n",
       "        text-align: right;\n",
       "    }\n",
       "</style>\n",
       "<table border=\"1\" class=\"dataframe\">\n",
       "  <thead>\n",
       "    <tr style=\"text-align: right;\">\n",
       "      <th></th>\n",
       "      <th>Date</th>\n",
       "      <th>Open</th>\n",
       "      <th>High</th>\n",
       "      <th>Low</th>\n",
       "      <th>Close</th>\n",
       "      <th>Volume</th>\n",
       "      <th>Dividends</th>\n",
       "      <th>Stock Splits</th>\n",
       "    </tr>\n",
       "  </thead>\n",
       "  <tbody>\n",
       "    <tr>\n",
       "      <th>417</th>\n",
       "      <td>2024-08-05 00:00:00-04:00</td>\n",
       "      <td>92.059998</td>\n",
       "      <td>103.410004</td>\n",
       "      <td>90.690002</td>\n",
       "      <td>100.449997</td>\n",
       "      <td>552842400</td>\n",
       "      <td>0.0</td>\n",
       "      <td>0.0</td>\n",
       "    </tr>\n",
       "    <tr>\n",
       "      <th>418</th>\n",
       "      <td>2024-08-06 00:00:00-04:00</td>\n",
       "      <td>103.839996</td>\n",
       "      <td>107.709999</td>\n",
       "      <td>100.550003</td>\n",
       "      <td>104.250000</td>\n",
       "      <td>409012100</td>\n",
       "      <td>0.0</td>\n",
       "      <td>0.0</td>\n",
       "    </tr>\n",
       "    <tr>\n",
       "      <th>419</th>\n",
       "      <td>2024-08-07 00:00:00-04:00</td>\n",
       "      <td>107.809998</td>\n",
       "      <td>108.800003</td>\n",
       "      <td>98.690002</td>\n",
       "      <td>98.910004</td>\n",
       "      <td>411440400</td>\n",
       "      <td>0.0</td>\n",
       "      <td>0.0</td>\n",
       "    </tr>\n",
       "    <tr>\n",
       "      <th>420</th>\n",
       "      <td>2024-08-08 00:00:00-04:00</td>\n",
       "      <td>102.000000</td>\n",
       "      <td>105.500000</td>\n",
       "      <td>97.519997</td>\n",
       "      <td>104.970001</td>\n",
       "      <td>391910000</td>\n",
       "      <td>0.0</td>\n",
       "      <td>0.0</td>\n",
       "    </tr>\n",
       "    <tr>\n",
       "      <th>421</th>\n",
       "      <td>2024-08-09 00:00:00-04:00</td>\n",
       "      <td>105.639999</td>\n",
       "      <td>106.599998</td>\n",
       "      <td>103.430000</td>\n",
       "      <td>104.750000</td>\n",
       "      <td>290844200</td>\n",
       "      <td>0.0</td>\n",
       "      <td>0.0</td>\n",
       "    </tr>\n",
       "  </tbody>\n",
       "</table>\n",
       "</div>"
      ],
      "text/plain": [
       "                          Date        Open        High         Low  \\\n",
       "417  2024-08-05 00:00:00-04:00   92.059998  103.410004   90.690002   \n",
       "418  2024-08-06 00:00:00-04:00  103.839996  107.709999  100.550003   \n",
       "419  2024-08-07 00:00:00-04:00  107.809998  108.800003   98.690002   \n",
       "420  2024-08-08 00:00:00-04:00  102.000000  105.500000   97.519997   \n",
       "421  2024-08-09 00:00:00-04:00  105.639999  106.599998  103.430000   \n",
       "\n",
       "          Close     Volume  Dividends  Stock Splits  \n",
       "417  100.449997  552842400        0.0           0.0  \n",
       "418  104.250000  409012100        0.0           0.0  \n",
       "419   98.910004  411440400        0.0           0.0  \n",
       "420  104.970001  391910000        0.0           0.0  \n",
       "421  104.750000  290844200        0.0           0.0  "
      ]
     },
     "execution_count": 12,
     "metadata": {},
     "output_type": "execute_result"
    }
   ],
   "source": [
    "# Getting Final / Most Recent 5 Records\n",
    "df.tail(5)"
   ]
  },
  {
   "cell_type": "code",
   "execution_count": 13,
   "id": "38d29814-6afd-4ac2-a409-74aff8ad391e",
   "metadata": {},
   "outputs": [
    {
     "data": {
      "text/html": [
       "<div>\n",
       "<style scoped>\n",
       "    .dataframe tbody tr th:only-of-type {\n",
       "        vertical-align: middle;\n",
       "    }\n",
       "\n",
       "    .dataframe tbody tr th {\n",
       "        vertical-align: top;\n",
       "    }\n",
       "\n",
       "    .dataframe thead th {\n",
       "        text-align: right;\n",
       "    }\n",
       "</style>\n",
       "<table border=\"1\" class=\"dataframe\">\n",
       "  <thead>\n",
       "    <tr style=\"text-align: right;\">\n",
       "      <th></th>\n",
       "      <th>Date</th>\n",
       "    </tr>\n",
       "  </thead>\n",
       "  <tbody>\n",
       "    <tr>\n",
       "      <th>0</th>\n",
       "      <td>2022-12-05</td>\n",
       "    </tr>\n",
       "    <tr>\n",
       "      <th>1</th>\n",
       "      <td>2022-12-06</td>\n",
       "    </tr>\n",
       "    <tr>\n",
       "      <th>2</th>\n",
       "      <td>2022-12-07</td>\n",
       "    </tr>\n",
       "  </tbody>\n",
       "</table>\n",
       "</div>"
      ],
      "text/plain": [
       "         Date\n",
       "0  2022-12-05\n",
       "1  2022-12-06\n",
       "2  2022-12-07"
      ]
     },
     "execution_count": 13,
     "metadata": {},
     "output_type": "execute_result"
    }
   ],
   "source": [
    "# Formatting the Datetime in order to only keep the date\n",
    "df['Date'] = df['Date'].apply(lambda x: x.split(' ')[0])\n",
    "df[['Date']].head(3)"
   ]
  },
  {
   "cell_type": "code",
   "execution_count": 14,
   "id": "b411af9d-a8ca-4ae8-b2f0-8feb85ddca96",
   "metadata": {},
   "outputs": [
    {
     "data": {
      "text/html": [
       "<div>\n",
       "<style scoped>\n",
       "    .dataframe tbody tr th:only-of-type {\n",
       "        vertical-align: middle;\n",
       "    }\n",
       "\n",
       "    .dataframe tbody tr th {\n",
       "        vertical-align: top;\n",
       "    }\n",
       "\n",
       "    .dataframe thead th {\n",
       "        text-align: right;\n",
       "    }\n",
       "</style>\n",
       "<table border=\"1\" class=\"dataframe\">\n",
       "  <thead>\n",
       "    <tr style=\"text-align: right;\">\n",
       "      <th></th>\n",
       "      <th>Date</th>\n",
       "      <th>Close</th>\n",
       "    </tr>\n",
       "  </thead>\n",
       "  <tbody>\n",
       "    <tr>\n",
       "      <th>0</th>\n",
       "      <td>2022-12-05</td>\n",
       "      <td>16.600494</td>\n",
       "    </tr>\n",
       "    <tr>\n",
       "      <th>1</th>\n",
       "      <td>2022-12-06</td>\n",
       "      <td>15.977848</td>\n",
       "    </tr>\n",
       "    <tr>\n",
       "      <th>2</th>\n",
       "      <td>2022-12-07</td>\n",
       "      <td>16.110773</td>\n",
       "    </tr>\n",
       "  </tbody>\n",
       "</table>\n",
       "</div>"
      ],
      "text/plain": [
       "         Date      Close\n",
       "0  2022-12-05  16.600494\n",
       "1  2022-12-06  15.977848\n",
       "2  2022-12-07  16.110773"
      ]
     },
     "execution_count": 14,
     "metadata": {},
     "output_type": "execute_result"
    }
   ],
   "source": [
    "# Selecting Important Columns\n",
    "df = df[['Date', 'Close']]\n",
    "df.head(3)"
   ]
  },
  {
   "cell_type": "code",
   "execution_count": 15,
   "id": "ea59bfd9-623f-4018-9826-b8e5b4064bf6",
   "metadata": {},
   "outputs": [
    {
     "data": {
      "text/plain": [
       "datetime.datetime(2022, 12, 5, 0, 0)"
      ]
     },
     "execution_count": 15,
     "metadata": {},
     "output_type": "execute_result"
    }
   ],
   "source": [
    "# Getting a date string from the dataset [In this case it is the first one]\n",
    "first_date_dataset = df['Date'][0]\n",
    "\n",
    "# Testing the previous function on the extracted date\n",
    "str_to_datetime(first_date_dataset)"
   ]
  },
  {
   "cell_type": "code",
   "execution_count": 16,
   "id": "ed81738a-a697-48dd-ab64-105961e4e04b",
   "metadata": {},
   "outputs": [
    {
     "data": {
      "text/plain": [
       "0     2022-12-05\n",
       "1     2022-12-06\n",
       "2     2022-12-07\n",
       "3     2022-12-08\n",
       "4     2022-12-09\n",
       "         ...    \n",
       "417   2024-08-05\n",
       "418   2024-08-06\n",
       "419   2024-08-07\n",
       "420   2024-08-08\n",
       "421   2024-08-09\n",
       "Name: Date, Length: 422, dtype: datetime64[ns]"
      ]
     },
     "execution_count": 16,
     "metadata": {},
     "output_type": "execute_result"
    }
   ],
   "source": [
    "# Now, let's update the dataframe in order for the dates to be formated accordingly with this most recent approach\n",
    "df['Date'] = df['Date'].map(lambda date_string : str_to_datetime(date_string))\n",
    "\n",
    "# Inspect the result\n",
    "df['Date']"
   ]
  },
  {
   "cell_type": "code",
   "execution_count": 17,
   "id": "f7433913-da99-43d2-8ef4-97b0d0ebf63e",
   "metadata": {},
   "outputs": [],
   "source": [
    "# Saving the Earliest and Latest Dates to be considered\n",
    "earliest_date = str(df['Date'][N].date())\n",
    "latest_date = str(df['Date'][len(df) - 1].date())"
   ]
  },
  {
   "cell_type": "code",
   "execution_count": 18,
   "id": "d0229066-67bc-4162-9389-ea6dbc635990",
   "metadata": {},
   "outputs": [
    {
     "data": {
      "text/html": [
       "<div>\n",
       "<style scoped>\n",
       "    .dataframe tbody tr th:only-of-type {\n",
       "        vertical-align: middle;\n",
       "    }\n",
       "\n",
       "    .dataframe tbody tr th {\n",
       "        vertical-align: top;\n",
       "    }\n",
       "\n",
       "    .dataframe thead th {\n",
       "        text-align: right;\n",
       "    }\n",
       "</style>\n",
       "<table border=\"1\" class=\"dataframe\">\n",
       "  <thead>\n",
       "    <tr style=\"text-align: right;\">\n",
       "      <th></th>\n",
       "      <th>Close</th>\n",
       "    </tr>\n",
       "    <tr>\n",
       "      <th>Date</th>\n",
       "      <th></th>\n",
       "    </tr>\n",
       "  </thead>\n",
       "  <tbody>\n",
       "    <tr>\n",
       "      <th>2022-12-05</th>\n",
       "      <td>16.600494</td>\n",
       "    </tr>\n",
       "    <tr>\n",
       "      <th>2022-12-06</th>\n",
       "      <td>15.977848</td>\n",
       "    </tr>\n",
       "    <tr>\n",
       "      <th>2022-12-07</th>\n",
       "      <td>16.110773</td>\n",
       "    </tr>\n",
       "  </tbody>\n",
       "</table>\n",
       "</div>"
      ],
      "text/plain": [
       "                Close\n",
       "Date                 \n",
       "2022-12-05  16.600494\n",
       "2022-12-06  15.977848\n",
       "2022-12-07  16.110773"
      ]
     },
     "execution_count": 18,
     "metadata": {},
     "output_type": "execute_result"
    }
   ],
   "source": [
    "# Set the Date column as the index column\n",
    "df.set_index('Date', inplace=True)\n",
    "\n",
    "# Inspect the dataframe\n",
    "df.head(3)"
   ]
  },
  {
   "cell_type": "code",
   "execution_count": 19,
   "id": "29a32c1c-5d3d-4836-8b6e-3fbd6056583f",
   "metadata": {},
   "outputs": [
    {
     "data": {
      "text/plain": [
       "[<matplotlib.lines.Line2D at 0x1aa6d0d1fd0>]"
      ]
     },
     "execution_count": 19,
     "metadata": {},
     "output_type": "execute_result"
    },
    {
     "data": {
      "image/png": "[encoded data removed]",
      "text/plain": [
       "<Figure size 640x480 with 1 Axes>"
      ]
     },
     "metadata": {},
     "output_type": "display_data"
    }
   ],
   "source": [
    "# Plotting the Closing Values of the Stock throughout the years\n",
    "plt.rc('font', size=7);\n",
    "plt.plot(df.index, df['Close'])"
   ]
  },
  {
   "cell_type": "code",
   "execution_count": 20,
   "id": "2f16808f-4d00-4e7c-95c0-fcafb17b2d60",
   "metadata": {},
   "outputs": [
    {
     "data": {
      "text/html": [
       "<div>\n",
       "<style scoped>\n",
       "    .dataframe tbody tr th:only-of-type {\n",
       "        vertical-align: middle;\n",
       "    }\n",
       "\n",
       "    .dataframe tbody tr th {\n",
       "        vertical-align: top;\n",
       "    }\n",
       "\n",
       "    .dataframe thead th {\n",
       "        text-align: right;\n",
       "    }\n",
       "</style>\n",
       "<table border=\"1\" class=\"dataframe\">\n",
       "  <thead>\n",
       "    <tr style=\"text-align: right;\">\n",
       "      <th></th>\n",
       "      <th>Target_Date</th>\n",
       "      <th>Target-3</th>\n",
       "      <th>Target-2</th>\n",
       "      <th>Target-1</th>\n",
       "      <th>Target</th>\n",
       "    </tr>\n",
       "  </thead>\n",
       "  <tbody>\n",
       "    <tr>\n",
       "      <th>0</th>\n",
       "      <td>2022-12-08</td>\n",
       "      <td>16.600494</td>\n",
       "      <td>15.977848</td>\n",
       "      <td>16.110773</td>\n",
       "      <td>17.159174</td>\n",
       "    </tr>\n",
       "    <tr>\n",
       "      <th>1</th>\n",
       "      <td>2022-12-09</td>\n",
       "      <td>15.977848</td>\n",
       "      <td>16.110773</td>\n",
       "      <td>17.159174</td>\n",
       "      <td>16.991268</td>\n",
       "    </tr>\n",
       "    <tr>\n",
       "      <th>2</th>\n",
       "      <td>2022-12-12</td>\n",
       "      <td>16.110773</td>\n",
       "      <td>17.159174</td>\n",
       "      <td>16.991268</td>\n",
       "      <td>17.524961</td>\n",
       "    </tr>\n",
       "    <tr>\n",
       "      <th>3</th>\n",
       "      <td>2022-12-13</td>\n",
       "      <td>17.159174</td>\n",
       "      <td>16.991268</td>\n",
       "      <td>17.524961</td>\n",
       "      <td>18.061657</td>\n",
       "    </tr>\n",
       "    <tr>\n",
       "      <th>4</th>\n",
       "      <td>2022-12-14</td>\n",
       "      <td>16.991268</td>\n",
       "      <td>17.524961</td>\n",
       "      <td>18.061657</td>\n",
       "      <td>17.663881</td>\n",
       "    </tr>\n",
       "  </tbody>\n",
       "</table>\n",
       "</div>"
      ],
      "text/plain": [
       "  Target_Date   Target-3   Target-2   Target-1     Target\n",
       "0  2022-12-08  16.600494  15.977848  16.110773  17.159174\n",
       "1  2022-12-09  15.977848  16.110773  17.159174  16.991268\n",
       "2  2022-12-12  16.110773  17.159174  16.991268  17.524961\n",
       "3  2022-12-13  17.159174  16.991268  17.524961  18.061657\n",
       "4  2022-12-14  16.991268  17.524961  18.061657  17.663881"
      ]
     },
     "execution_count": 20,
     "metadata": {},
     "output_type": "execute_result"
    }
   ],
   "source": [
    "# Extracting the previous N values of each possible instant along with the target value\n",
    "windowed_df = df_to_windowed_df(df, \n",
    "                                earliest_date, \n",
    "                                latest_date, \n",
    "                                n=N)\n",
    "windowed_df.head(5)"
   ]
  },
  {
   "cell_type": "code",
   "execution_count": 21,
   "id": "04eeb8f9-3b67-4604-8d4a-7e5eea91b49a",
   "metadata": {},
   "outputs": [
    {
     "name": "stdout",
     "output_type": "stream",
     "text": [
      "dates.shape=(419,) X.shape=(419, 3, 1) y.shape=(419,)\n"
     ]
    }
   ],
   "source": [
    "# Get the Dates as well as the input and output vectors\n",
    "dates, X, y = windowed_df_to_date_X_y(windowed_df)\n",
    "\n",
    "# Verifying the shape of each vector\n",
    "print(f\"{dates.shape=} {X.shape=} {y.shape=}\")\n",
    "assert dates.shape[0] == X.shape[0] and dates.shape[0] == y.shape[0], \"Vectors shape not Matching!\""
   ]
  },
  {
   "cell_type": "markdown",
   "id": "ec17b70c-6873-4ffb-a691-5ac7fe5135a5",
   "metadata": {},
   "source": [
    "---\n",
    "## Data Partitioning (Train - Validation - Test)\n",
    "---\n",
    "\n",
    "Now it's time to partition the **clean data** into proper **feature and target vectors (X and y)**."
   ]
  },
  {
   "cell_type": "code",
   "execution_count": 22,
   "id": "f49e3aa3-ed90-4f55-a47b-47694e5aba42",
   "metadata": {},
   "outputs": [],
   "source": [
    "# Getting the threshold values for train and validation (To which values should we consider as train/validation sets)\n",
    "train_threshold = int(len(dates) * .8)\n",
    "validation_threshold = int(len(dates) * .9)\n",
    "\n",
    "# Get the Train data\n",
    "dates_train = dates[:train_threshold]\n",
    "X_train = X[:train_threshold]\n",
    "y_train = y[:train_threshold]\n",
    "\n",
    "# Get the Validation data\n",
    "dates_validation = dates[train_threshold : validation_threshold]\n",
    "X_validation = X[train_threshold : validation_threshold]\n",
    "y_validation = y[train_threshold : validation_threshold]\n",
    "\n",
    "# Get the Test data\n",
    "dates_test = dates[validation_threshold:]\n",
    "X_test = X[validation_threshold:]\n",
    "y_test = y[validation_threshold:]"
   ]
  },
  {
   "cell_type": "code",
   "execution_count": 23,
   "id": "98207777-89d5-4c15-9f2a-d4dc8413e78e",
   "metadata": {},
   "outputs": [
    {
     "data": {
      "image/png": "[encoded data removed]",
      "text/plain": [
       "<Figure size 640x480 with 1 Axes>"
      ]
     },
     "metadata": {},
     "output_type": "display_data"
    }
   ],
   "source": [
    "# Plot the Partitioning of the Data (Inspect which values are being used in each set)\n",
    "plt.plot(dates_train, y_train)\n",
    "plt.plot(dates_validation, y_validation)\n",
    "plt.plot(dates_test, y_test)\n",
    "plt.legend(['Train', 'Validation', 'Test']);"
   ]
  },
  {
   "cell_type": "markdown",
   "id": "65811b7b-be39-4e71-ba28-76cf77824b7c",
   "metadata": {},
   "source": [
    "---\n",
    "## Model Development\n",
    "---\n",
    "\n",
    "After inspecting the **data partitioning**, we are left to **define and train a model** so that we can begin trying to **predict the upcoming stock's market price**."
   ]
  },
  {
   "cell_type": "code",
   "execution_count": 24,
   "id": "94f82a94-5272-4183-a13d-c6fa6af957f9",
   "metadata": {},
   "outputs": [],
   "source": [
    "# Build the Architecture of the Model\n",
    "model = Sequential([layers.Input((N,1)),\n",
    "                    layers.LSTM(64),\n",
    "                    layers.Dense(32, activation='relu'),\n",
    "                    layers.Dense(32, activation='relu'),\n",
    "                    layers.Dense(1)])"
   ]
  },
  {
   "cell_type": "code",
   "execution_count": 25,
   "id": "55b6cfa3-13da-461d-bf40-d4caa3ac4796",
   "metadata": {},
   "outputs": [],
   "source": [
    "# Insert information to Compile the Model -> Add the Loss Function, the Optimizer and the metrics to consider\n",
    "# Loss : Mean Squared Error\n",
    "# Optimizer : Adam with learning rate of 0.001\n",
    "# Metrics : Mean Absolute Error\n",
    "model.compile(loss='mse',\n",
    "              optimizer=Adam(learning_rate=0.001),\n",
    "              metrics=['mean_absolute_error'])"
   ]
  },
  {
   "cell_type": "code",
   "execution_count": 26,
   "id": "78e054e3-82c7-400d-8e7f-dc1c003f785d",
   "metadata": {
    "scrolled": true
   },
   "outputs": [
    {
     "name": "stdout",
     "output_type": "stream",
     "text": [
      "Epoch 1/100\n",
      "11/11 [==============================] - 4s 81ms/step - loss: 2239.4907 - mean_absolute_error: 42.9311 - val_loss: 9166.0713 - val_mean_absolute_error: 94.8359\n",
      "Epoch 2/100\n",
      "11/11 [==============================] - 0s 9ms/step - loss: 2167.8923 - mean_absolute_error: 42.0424 - val_loss: 8992.0244 - val_mean_absolute_error: 93.9121\n",
      "Epoch 3/100\n",
      "11/11 [==============================] - 0s 9ms/step - loss: 2051.3286 - mean_absolute_error: 40.5163 - val_loss: 8692.3457 - val_mean_absolute_error: 92.2954\n",
      "Epoch 4/100\n",
      "11/11 [==============================] - 0s 10ms/step - loss: 1829.5195 - mean_absolute_error: 37.4239 - val_loss: 8097.0996 - val_mean_absolute_error: 89.0013\n",
      "Epoch 5/100\n",
      "11/11 [==============================] - 0s 9ms/step - loss: 1452.2656 - mean_absolute_error: 31.3985 - val_loss: 7063.5024 - val_mean_absolute_error: 82.9618\n",
      "Epoch 6/100\n",
      "11/11 [==============================] - 0s 8ms/step - loss: 928.4682 - mean_absolute_error: 23.3160 - val_loss: 5209.0293 - val_mean_absolute_error: 70.7265\n",
      "Epoch 7/100\n",
      "11/11 [==============================] - 0s 8ms/step - loss: 521.0472 - mean_absolute_error: 16.8839 - val_loss: 2934.1348 - val_mean_absolute_error: 52.2694\n",
      "Epoch 8/100\n",
      "11/11 [==============================] - 0s 7ms/step - loss: 391.6907 - mean_absolute_error: 14.8191 - val_loss: 2610.4539 - val_mean_absolute_error: 49.3405\n",
      "Epoch 9/100\n",
      "11/11 [==============================] - 0s 7ms/step - loss: 308.2329 - mean_absolute_error: 12.7046 - val_loss: 2519.8794 - val_mean_absolute_error: 48.4795\n",
      "Epoch 10/100\n",
      "11/11 [==============================] - 0s 8ms/step - loss: 216.5565 - mean_absolute_error: 9.7826 - val_loss: 2008.5424 - val_mean_absolute_error: 42.9268\n",
      "Epoch 11/100\n",
      "11/11 [==============================] - 0s 8ms/step - loss: 119.9382 - mean_absolute_error: 5.9240 - val_loss: 1289.2448 - val_mean_absolute_error: 33.5565\n",
      "Epoch 12/100\n",
      "11/11 [==============================] - 0s 7ms/step - loss: 55.5417 - mean_absolute_error: 3.7744 - val_loss: 774.2410 - val_mean_absolute_error: 24.7958\n",
      "Epoch 13/100\n",
      "11/11 [==============================] - 0s 7ms/step - loss: 22.2958 - mean_absolute_error: 2.3382 - val_loss: 457.0404 - val_mean_absolute_error: 17.4063\n",
      "Epoch 14/100\n",
      "11/11 [==============================] - 0s 8ms/step - loss: 8.5573 - mean_absolute_error: 1.7045 - val_loss: 302.6239 - val_mean_absolute_error: 12.9542\n",
      "Epoch 15/100\n",
      "11/11 [==============================] - 0s 10ms/step - loss: 4.2469 - mean_absolute_error: 1.2964 - val_loss: 226.5619 - val_mean_absolute_error: 10.2547\n",
      "Epoch 16/100\n",
      "11/11 [==============================] - 0s 12ms/step - loss: 3.0748 - mean_absolute_error: 1.1707 - val_loss: 196.0882 - val_mean_absolute_error: 9.4595\n",
      "Epoch 17/100\n",
      "11/11 [==============================] - 0s 12ms/step - loss: 2.7053 - mean_absolute_error: 1.1270 - val_loss: 179.3188 - val_mean_absolute_error: 8.7837\n",
      "Epoch 18/100\n",
      "11/11 [==============================] - 0s 10ms/step - loss: 3.1885 - mean_absolute_error: 1.3053 - val_loss: 169.4731 - val_mean_absolute_error: 8.4727\n",
      "Epoch 19/100\n",
      "11/11 [==============================] - 0s 8ms/step - loss: 2.7500 - mean_absolute_error: 1.1672 - val_loss: 164.8090 - val_mean_absolute_error: 8.3754\n",
      "Epoch 20/100\n",
      "11/11 [==============================] - 0s 8ms/step - loss: 2.3782 - mean_absolute_error: 1.0592 - val_loss: 161.4640 - val_mean_absolute_error: 8.3427\n",
      "Epoch 21/100\n",
      "11/11 [==============================] - 0s 7ms/step - loss: 2.0987 - mean_absolute_error: 0.9886 - val_loss: 157.5353 - val_mean_absolute_error: 8.1967\n",
      "Epoch 22/100\n",
      "11/11 [==============================] - 0s 8ms/step - loss: 2.1403 - mean_absolute_error: 1.0539 - val_loss: 153.8883 - val_mean_absolute_error: 8.0775\n",
      "Epoch 23/100\n",
      "11/11 [==============================] - 0s 7ms/step - loss: 2.3327 - mean_absolute_error: 1.0483 - val_loss: 150.6927 - val_mean_absolute_error: 7.9470\n",
      "Epoch 24/100\n",
      "11/11 [==============================] - 0s 8ms/step - loss: 2.0383 - mean_absolute_error: 0.9686 - val_loss: 149.8484 - val_mean_absolute_error: 8.0300\n",
      "Epoch 25/100\n",
      "11/11 [==============================] - 0s 8ms/step - loss: 1.9335 - mean_absolute_error: 0.9456 - val_loss: 145.0352 - val_mean_absolute_error: 7.7434\n",
      "Epoch 26/100\n",
      "11/11 [==============================] - 0s 9ms/step - loss: 2.2142 - mean_absolute_error: 1.0305 - val_loss: 148.3724 - val_mean_absolute_error: 8.1866\n",
      "Epoch 27/100\n",
      "11/11 [==============================] - 0s 9ms/step - loss: 2.1887 - mean_absolute_error: 0.9901 - val_loss: 142.4530 - val_mean_absolute_error: 7.6694\n",
      "Epoch 28/100\n",
      "11/11 [==============================] - 0s 8ms/step - loss: 2.0505 - mean_absolute_error: 0.9857 - val_loss: 144.0412 - val_mean_absolute_error: 7.8863\n",
      "Epoch 29/100\n",
      "11/11 [==============================] - 0s 8ms/step - loss: 1.9755 - mean_absolute_error: 0.9356 - val_loss: 141.1060 - val_mean_absolute_error: 7.6406\n",
      "Epoch 30/100\n",
      "11/11 [==============================] - 0s 8ms/step - loss: 2.1704 - mean_absolute_error: 1.0508 - val_loss: 141.3316 - val_mean_absolute_error: 7.7949\n",
      "Epoch 31/100\n",
      "11/11 [==============================] - 0s 7ms/step - loss: 1.9704 - mean_absolute_error: 0.9646 - val_loss: 140.3056 - val_mean_absolute_error: 7.7479\n",
      "Epoch 32/100\n",
      "11/11 [==============================] - 0s 7ms/step - loss: 2.0002 - mean_absolute_error: 0.9448 - val_loss: 139.1761 - val_mean_absolute_error: 7.7184\n",
      "Epoch 33/100\n",
      "11/11 [==============================] - 0s 7ms/step - loss: 1.9741 - mean_absolute_error: 0.9545 - val_loss: 136.6140 - val_mean_absolute_error: 7.5691\n",
      "Epoch 34/100\n",
      "11/11 [==============================] - 0s 7ms/step - loss: 2.1547 - mean_absolute_error: 0.9923 - val_loss: 133.7617 - val_mean_absolute_error: 7.4268\n",
      "Epoch 35/100\n",
      "11/11 [==============================] - 0s 9ms/step - loss: 2.2680 - mean_absolute_error: 1.0770 - val_loss: 132.8077 - val_mean_absolute_error: 7.4043\n",
      "Epoch 36/100\n",
      "11/11 [==============================] - 0s 10ms/step - loss: 2.1171 - mean_absolute_error: 1.0252 - val_loss: 133.3080 - val_mean_absolute_error: 7.4859\n",
      "Epoch 37/100\n",
      "11/11 [==============================] - 0s 9ms/step - loss: 1.9843 - mean_absolute_error: 0.9509 - val_loss: 132.8952 - val_mean_absolute_error: 7.4644\n",
      "Epoch 38/100\n",
      "11/11 [==============================] - 0s 9ms/step - loss: 1.8571 - mean_absolute_error: 0.9307 - val_loss: 131.5784 - val_mean_absolute_error: 7.4125\n",
      "Epoch 39/100\n",
      "11/11 [==============================] - 0s 8ms/step - loss: 1.8620 - mean_absolute_error: 0.9486 - val_loss: 129.1783 - val_mean_absolute_error: 7.3651\n",
      "Epoch 40/100\n",
      "11/11 [==============================] - 0s 8ms/step - loss: 2.1597 - mean_absolute_error: 1.0201 - val_loss: 132.6581 - val_mean_absolute_error: 7.7166\n",
      "Epoch 41/100\n",
      "11/11 [==============================] - 0s 9ms/step - loss: 1.9262 - mean_absolute_error: 0.9668 - val_loss: 128.1424 - val_mean_absolute_error: 7.5185\n",
      "Epoch 42/100\n",
      "11/11 [==============================] - 0s 12ms/step - loss: 2.4733 - mean_absolute_error: 1.1140 - val_loss: 130.6434 - val_mean_absolute_error: 7.4199\n",
      "Epoch 43/100\n",
      "11/11 [==============================] - 0s 9ms/step - loss: 1.9962 - mean_absolute_error: 0.9683 - val_loss: 129.9899 - val_mean_absolute_error: 7.3327\n",
      "Epoch 44/100\n",
      "11/11 [==============================] - 0s 9ms/step - loss: 1.9703 - mean_absolute_error: 0.9500 - val_loss: 129.5996 - val_mean_absolute_error: 7.3342\n",
      "Epoch 45/100\n",
      "11/11 [==============================] - 0s 9ms/step - loss: 1.8575 - mean_absolute_error: 0.9151 - val_loss: 131.8609 - val_mean_absolute_error: 7.5771\n",
      "Epoch 46/100\n",
      "11/11 [==============================] - 0s 9ms/step - loss: 2.0322 - mean_absolute_error: 0.9884 - val_loss: 129.9861 - val_mean_absolute_error: 7.3982\n",
      "Epoch 47/100\n",
      "11/11 [==============================] - 0s 8ms/step - loss: 1.9575 - mean_absolute_error: 0.9757 - val_loss: 130.1470 - val_mean_absolute_error: 7.4866\n",
      "Epoch 48/100\n",
      "11/11 [==============================] - 0s 7ms/step - loss: 1.9449 - mean_absolute_error: 0.9638 - val_loss: 129.3367 - val_mean_absolute_error: 7.4150\n",
      "Epoch 49/100\n",
      "11/11 [==============================] - 0s 7ms/step - loss: 2.1777 - mean_absolute_error: 1.0333 - val_loss: 129.3128 - val_mean_absolute_error: 7.4609\n",
      "Epoch 50/100\n",
      "11/11 [==============================] - 0s 7ms/step - loss: 2.0310 - mean_absolute_error: 0.9979 - val_loss: 130.0204 - val_mean_absolute_error: 7.6160\n",
      "Epoch 51/100\n",
      "11/11 [==============================] - 0s 7ms/step - loss: 2.0653 - mean_absolute_error: 0.9847 - val_loss: 125.8423 - val_mean_absolute_error: 7.1875\n",
      "Epoch 52/100\n",
      "11/11 [==============================] - 0s 8ms/step - loss: 1.8956 - mean_absolute_error: 0.9131 - val_loss: 126.8636 - val_mean_absolute_error: 7.2447\n",
      "Epoch 53/100\n",
      "11/11 [==============================] - 0s 8ms/step - loss: 2.0363 - mean_absolute_error: 0.9727 - val_loss: 131.6777 - val_mean_absolute_error: 7.6851\n",
      "Epoch 54/100\n",
      "11/11 [==============================] - 0s 9ms/step - loss: 2.1586 - mean_absolute_error: 0.9969 - val_loss: 128.2318 - val_mean_absolute_error: 7.2548\n",
      "Epoch 55/100\n",
      "11/11 [==============================] - 0s 9ms/step - loss: 1.9464 - mean_absolute_error: 0.9556 - val_loss: 130.9883 - val_mean_absolute_error: 7.5304\n",
      "Epoch 56/100\n",
      "11/11 [==============================] - 0s 11ms/step - loss: 1.8846 - mean_absolute_error: 0.9069 - val_loss: 127.7179 - val_mean_absolute_error: 7.2424\n",
      "Epoch 57/100\n",
      "11/11 [==============================] - 0s 12ms/step - loss: 1.8645 - mean_absolute_error: 0.9171 - val_loss: 130.1701 - val_mean_absolute_error: 7.4879\n",
      "Epoch 58/100\n",
      "11/11 [==============================] - 0s 10ms/step - loss: 1.9547 - mean_absolute_error: 0.9608 - val_loss: 127.1879 - val_mean_absolute_error: 7.2569\n",
      "Epoch 59/100\n",
      "11/11 [==============================] - 0s 7ms/step - loss: 1.8630 - mean_absolute_error: 0.9209 - val_loss: 125.3488 - val_mean_absolute_error: 7.2201\n",
      "Epoch 60/100\n",
      "11/11 [==============================] - 0s 8ms/step - loss: 2.0119 - mean_absolute_error: 0.9443 - val_loss: 127.3446 - val_mean_absolute_error: 7.3519\n",
      "Epoch 61/100\n",
      "11/11 [==============================] - 0s 8ms/step - loss: 1.9915 - mean_absolute_error: 0.9705 - val_loss: 124.7946 - val_mean_absolute_error: 7.2004\n",
      "Epoch 62/100\n",
      "11/11 [==============================] - 0s 8ms/step - loss: 2.1259 - mean_absolute_error: 1.0372 - val_loss: 124.8021 - val_mean_absolute_error: 7.1960\n",
      "Epoch 63/100\n",
      "11/11 [==============================] - 0s 8ms/step - loss: 2.1568 - mean_absolute_error: 1.0418 - val_loss: 128.9930 - val_mean_absolute_error: 7.5323\n",
      "Epoch 64/100\n",
      "11/11 [==============================] - 0s 9ms/step - loss: 2.8067 - mean_absolute_error: 1.1849 - val_loss: 125.5507 - val_mean_absolute_error: 7.2016\n",
      "Epoch 65/100\n",
      "11/11 [==============================] - 0s 8ms/step - loss: 2.4672 - mean_absolute_error: 1.1692 - val_loss: 131.4625 - val_mean_absolute_error: 7.7953\n",
      "Epoch 66/100\n",
      "11/11 [==============================] - 0s 19ms/step - loss: 2.1689 - mean_absolute_error: 1.0001 - val_loss: 128.1734 - val_mean_absolute_error: 7.3877\n",
      "Epoch 67/100\n",
      "11/11 [==============================] - 0s 9ms/step - loss: 1.9225 - mean_absolute_error: 0.9373 - val_loss: 127.7408 - val_mean_absolute_error: 7.2824\n",
      "Epoch 68/100\n",
      "11/11 [==============================] - 0s 8ms/step - loss: 1.9302 - mean_absolute_error: 0.9485 - val_loss: 126.5616 - val_mean_absolute_error: 7.3015\n",
      "Epoch 69/100\n",
      "11/11 [==============================] - 0s 8ms/step - loss: 1.9955 - mean_absolute_error: 0.9455 - val_loss: 125.5763 - val_mean_absolute_error: 7.2654\n",
      "Epoch 70/100\n",
      "11/11 [==============================] - 0s 7ms/step - loss: 2.0850 - mean_absolute_error: 0.9931 - val_loss: 123.4647 - val_mean_absolute_error: 7.1227\n",
      "Epoch 71/100\n",
      "11/11 [==============================] - 0s 8ms/step - loss: 1.8568 - mean_absolute_error: 0.9403 - val_loss: 125.9987 - val_mean_absolute_error: 7.3062\n",
      "Epoch 72/100\n",
      "11/11 [==============================] - 0s 10ms/step - loss: 1.8520 - mean_absolute_error: 0.9215 - val_loss: 123.2288 - val_mean_absolute_error: 7.1470\n",
      "Epoch 73/100\n",
      "11/11 [==============================] - 0s 8ms/step - loss: 1.9416 - mean_absolute_error: 0.9499 - val_loss: 124.1444 - val_mean_absolute_error: 7.2537\n",
      "Epoch 74/100\n",
      "11/11 [==============================] - 0s 8ms/step - loss: 1.8525 - mean_absolute_error: 0.9013 - val_loss: 123.2455 - val_mean_absolute_error: 7.1866\n",
      "Epoch 75/100\n",
      "11/11 [==============================] - 0s 9ms/step - loss: 1.9905 - mean_absolute_error: 0.9482 - val_loss: 121.3682 - val_mean_absolute_error: 7.1491\n",
      "Epoch 76/100\n",
      "11/11 [==============================] - 0s 11ms/step - loss: 2.2351 - mean_absolute_error: 1.0408 - val_loss: 122.5295 - val_mean_absolute_error: 7.1283\n",
      "Epoch 77/100\n",
      "11/11 [==============================] - 0s 12ms/step - loss: 2.1262 - mean_absolute_error: 1.0136 - val_loss: 121.3046 - val_mean_absolute_error: 7.0764\n",
      "Epoch 78/100\n",
      "11/11 [==============================] - 0s 8ms/step - loss: 1.9874 - mean_absolute_error: 0.9671 - val_loss: 122.5064 - val_mean_absolute_error: 7.1361\n",
      "Epoch 79/100\n",
      "11/11 [==============================] - 0s 7ms/step - loss: 2.2819 - mean_absolute_error: 1.0510 - val_loss: 124.0569 - val_mean_absolute_error: 7.2462\n",
      "Epoch 80/100\n",
      "11/11 [==============================] - 0s 8ms/step - loss: 2.0998 - mean_absolute_error: 1.0274 - val_loss: 125.5387 - val_mean_absolute_error: 7.3068\n",
      "Epoch 81/100\n",
      "11/11 [==============================] - 0s 11ms/step - loss: 2.1866 - mean_absolute_error: 1.0015 - val_loss: 124.8334 - val_mean_absolute_error: 7.3450\n",
      "Epoch 82/100\n",
      "11/11 [==============================] - 0s 8ms/step - loss: 1.9250 - mean_absolute_error: 0.9298 - val_loss: 123.4890 - val_mean_absolute_error: 7.1630\n",
      "Epoch 83/100\n",
      "11/11 [==============================] - 0s 8ms/step - loss: 1.8290 - mean_absolute_error: 0.9254 - val_loss: 126.6772 - val_mean_absolute_error: 7.4438\n",
      "Epoch 84/100\n",
      "11/11 [==============================] - 0s 8ms/step - loss: 1.8294 - mean_absolute_error: 0.9046 - val_loss: 122.1874 - val_mean_absolute_error: 7.0983\n",
      "Epoch 85/100\n",
      "11/11 [==============================] - 0s 10ms/step - loss: 1.8907 - mean_absolute_error: 0.9177 - val_loss: 124.8656 - val_mean_absolute_error: 7.3119\n",
      "Epoch 86/100\n",
      "11/11 [==============================] - 0s 11ms/step - loss: 1.9641 - mean_absolute_error: 0.9432 - val_loss: 127.4232 - val_mean_absolute_error: 7.5065\n",
      "Epoch 87/100\n",
      "11/11 [==============================] - 0s 11ms/step - loss: 2.0431 - mean_absolute_error: 0.9933 - val_loss: 127.1797 - val_mean_absolute_error: 7.4670\n",
      "Epoch 88/100\n",
      "11/11 [==============================] - 0s 8ms/step - loss: 2.3060 - mean_absolute_error: 1.0891 - val_loss: 123.8275 - val_mean_absolute_error: 7.2391\n",
      "Epoch 89/100\n",
      "11/11 [==============================] - 0s 7ms/step - loss: 1.9786 - mean_absolute_error: 0.9502 - val_loss: 126.3036 - val_mean_absolute_error: 7.5068\n",
      "Epoch 90/100\n",
      "11/11 [==============================] - 0s 8ms/step - loss: 2.2370 - mean_absolute_error: 1.0365 - val_loss: 123.9560 - val_mean_absolute_error: 7.2316\n",
      "Epoch 91/100\n",
      "11/11 [==============================] - 0s 11ms/step - loss: 2.0977 - mean_absolute_error: 1.0591 - val_loss: 123.4709 - val_mean_absolute_error: 7.1390\n",
      "Epoch 92/100\n",
      "11/11 [==============================] - 0s 9ms/step - loss: 2.5124 - mean_absolute_error: 1.0627 - val_loss: 125.3809 - val_mean_absolute_error: 7.3086\n",
      "Epoch 93/100\n",
      "11/11 [==============================] - 0s 7ms/step - loss: 2.1812 - mean_absolute_error: 1.0347 - val_loss: 124.2812 - val_mean_absolute_error: 7.3523\n",
      "Epoch 94/100\n",
      "11/11 [==============================] - 0s 8ms/step - loss: 2.7329 - mean_absolute_error: 1.1917 - val_loss: 125.4441 - val_mean_absolute_error: 7.1819\n",
      "Epoch 95/100\n",
      "11/11 [==============================] - 0s 9ms/step - loss: 2.2342 - mean_absolute_error: 1.0347 - val_loss: 127.7396 - val_mean_absolute_error: 7.2732\n",
      "Epoch 96/100\n",
      "11/11 [==============================] - 0s 12ms/step - loss: 1.9533 - mean_absolute_error: 0.9443 - val_loss: 129.6357 - val_mean_absolute_error: 7.4488\n",
      "Epoch 97/100\n",
      "11/11 [==============================] - 0s 12ms/step - loss: 1.7999 - mean_absolute_error: 0.8975 - val_loss: 127.0667 - val_mean_absolute_error: 7.2600\n",
      "Epoch 98/100\n",
      "11/11 [==============================] - 0s 7ms/step - loss: 1.8058 - mean_absolute_error: 0.8933 - val_loss: 128.2284 - val_mean_absolute_error: 7.3504\n",
      "Epoch 99/100\n",
      "11/11 [==============================] - 0s 7ms/step - loss: 1.8007 - mean_absolute_error: 0.9133 - val_loss: 126.9292 - val_mean_absolute_error: 7.3110\n",
      "Epoch 100/100\n",
      "11/11 [==============================] - 0s 10ms/step - loss: 1.9315 - mean_absolute_error: 0.9384 - val_loss: 126.7339 - val_mean_absolute_error: 7.3366\n"
     ]
    },
    {
     "data": {
      "text/plain": [
       "<keras.src.callbacks.History at 0x1aa6ec13850>"
      ]
     },
     "execution_count": 26,
     "metadata": {},
     "output_type": "execute_result"
    }
   ],
   "source": [
    "# Train the Model\n",
    "model.fit(X_train, y_train, validation_data=(X_validation, y_validation), epochs=100)"
   ]
  },
  {
   "cell_type": "markdown",
   "id": "e4f6514b-5928-41d7-8ef4-1889c4bfdbef",
   "metadata": {},
   "source": [
    "---\n",
    "## Model Performance Visualization\n",
    "---\n",
    "\n",
    "After trainning the model, we can now **visualize** how it performed through **Train**, **Valiadtion** and **Testing** to gain better insights on how the **preprocessed data impacted the performance of the LSTM**."
   ]
  },
  {
   "cell_type": "code",
   "execution_count": 27,
   "id": "63745b45-6e02-46c1-9d47-b926c5dbdbae",
   "metadata": {},
   "outputs": [
    {
     "name": "stdout",
     "output_type": "stream",
     "text": [
      "11/11 [==============================] - 1s 2ms/step\n"
     ]
    },
    {
     "data": {
      "image/png": "[encoded data removed]",
      "text/plain": [
       "<Figure size 640x480 with 1 Axes>"
      ]
     },
     "metadata": {},
     "output_type": "display_data"
    }
   ],
   "source": [
    "# -> Visualize the Trainning Performance\n",
    "\n",
    "# Get the Trainning Predictions\n",
    "train_preds = model.predict(X_train).flatten()\n",
    "\n",
    "# Plot the Trainning Performance Data\n",
    "plot_model_performance(dates_train, train_preds, y_train, ['Trainning Predictions', 'Trainning Observations']);"
   ]
  },
  {
   "cell_type": "code",
   "execution_count": 28,
   "id": "492e08ef-ac3c-4248-a2ce-3736e7baa343",
   "metadata": {},
   "outputs": [
    {
     "name": "stdout",
     "output_type": "stream",
     "text": [
      "2/2 [==============================] - 0s 4ms/step\n"
     ]
    },
    {
     "data": {
      "image/png": "[encoded data removed]",
      "text/plain": [
       "<Figure size 640x480 with 1 Axes>"
      ]
     },
     "metadata": {},
     "output_type": "display_data"
    }
   ],
   "source": [
    "# -> Visualize the Validation Performance\n",
    "\n",
    "# Get the Validation Predictions\n",
    "validation_preds = model.predict(X_validation).flatten()\n",
    "\n",
    "# Plot the Validation Performance Data\n",
    "plot_model_performance(dates_validation, validation_preds, y_validation, ['Validation Predictions', 'Validation Observations']);"
   ]
  },
  {
   "cell_type": "code",
   "execution_count": 29,
   "id": "d7ab3ca6-681f-403a-b918-f258878ea8ab",
   "metadata": {},
   "outputs": [
    {
     "name": "stdout",
     "output_type": "stream",
     "text": [
      "2/2 [==============================] - 0s 6ms/step\n"
     ]
    },
    {
     "data": {
      "image/png": "[encoded data removed]",
      "text/plain": [
       "<Figure size 640x480 with 1 Axes>"
      ]
     },
     "metadata": {},
     "output_type": "display_data"
    }
   ],
   "source": [
    "# -> Visualize Test Performance\n",
    "\n",
    "# Get the Test Predictions\n",
    "test_preds = model.predict(X_test).flatten()\n",
    "\n",
    "# Plot the Test Performance Data\n",
    "plot_model_performance(dates_test, test_preds, y_test, ['Testing Predictions', 'Testing Observations']);"
   ]
  },
  {
   "cell_type": "code",
   "execution_count": 30,
   "id": "dde10537-0a60-4dca-8627-a05899429342",
   "metadata": {},
   "outputs": [
    {
     "data": {
      "image/png": "[encoded data removed]",
      "text/plain": [
       "<Figure size 640x480 with 1 Axes>"
      ]
     },
     "metadata": {},
     "output_type": "display_data"
    }
   ],
   "source": [
    "# -> Visualize the Model's performance throughout the all process\n",
    "\n",
    "# Initialize some python lists with the data\n",
    "dates_list = [dates_train, dates_validation, dates_test]\n",
    "preds_list = [train_preds, validation_preds, test_preds]\n",
    "y_list = [y_train, y_validation, y_test]\n",
    "legend = ['Training Predictions',\n",
    "          'Training Observations',\n",
    "          'Validation Predictions',\n",
    "          'Validation Observations',\n",
    "          'Testing Predictions',\n",
    "          'Testing Observations']\n",
    "\n",
    "# Plot the Data\n",
    "plot_model_overall_performance(dates_list, preds_list, y_list, legend);\n",
    "\n",
    "# Save the final plot\n",
    "if config['save_plot']:\n",
    "    plt.savefig(f\"./Assets/{config['stock']}_Stock_Price_Forecasting.png\", bbox_inches='tight')"
   ]
  }
 ],
 "metadata": {
  "kernelspec": {
   "display_name": "Python 3 (ipykernel)",
   "language": "python",
   "name": "python3"
  },
  "language_info": {
   "codemirror_mode": {
    "name": "ipython",
    "version": 3
   },
   "file_extension": ".py",
   "mimetype": "text/x-python",
   "name": "python",
   "nbconvert_exporter": "python",
   "pygments_lexer": "ipython3",
   "version": "3.8.0"
  }
 },
 "nbformat": 4,
 "nbformat_minor": 5
}
