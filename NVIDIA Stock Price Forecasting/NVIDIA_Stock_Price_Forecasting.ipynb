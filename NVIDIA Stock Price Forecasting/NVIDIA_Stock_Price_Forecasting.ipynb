{
 "cells": [
  {
   "cell_type": "markdown",
   "id": "cdc218bf-8475-4c76-9f50-60a9e72a2b73",
   "metadata": {},
   "source": [
    "<div align=\"center\">\n",
    "\n",
    "---\n",
    "# NVIDIA Stock Price Forecasting\n",
    "---\n",
    "</div>\n",
    "\n",
    "This Project mainly focuses on trying to predict the **NVIDIA Stock's Market Price** using data from the yahoo Finance market history alongside with **Long Short-Term Memory Models** (LSTM's).\n",
    "\n",
    "The prediction methodology is based on **Univariate Forecasting**, which means that we are only to consider ``n`` previous values to predict the subsequent/next one."
   ]
  },
  {
   "cell_type": "code",
   "execution_count": 1,
   "id": "5b74a9fa-dacb-4e16-9ad8-4f3c4fb82140",
   "metadata": {},
   "outputs": [],
   "source": [
    "%load_ext autoreload\n",
    "%autoreload 2\n",
    "\n",
    "# Importing Dependencies\n",
    "import numpy as np\n",
    "import pandas as pd\n",
    "\n",
    "# Import matplotlib to help visualize the data\n",
    "import matplotlib.pyplot as plt\n",
    "\n",
    "# Import Datetime to properly format the Dates from the Dataset\n",
    "from datetime import (datetime, timedelta)\n",
    "\n",
    "# Importing an API to handle the Datset from Yahoo Finance\n",
    "import yfinance as yf\n",
    "\n",
    "# Import a Sequential Model from tensorflow alongside the Adam Optimizer and layers\n",
    "from tensorflow.keras.models import (Sequential)\n",
    "from tensorflow.keras.optimizers import (Adam)\n",
    "from tensorflow.keras import (layers)\n",
    "\n",
    "# Import developed functions to help preprocess and visualize the data\n",
    "from CustomUtilities.Configuration import (load_config)\n",
    "from CustomUtilities.DataPreProcessing import (str_to_datetime, df_to_windowed_df, windowed_df_to_date_X_y)\n",
    "from CustomUtilities.DataVisualization import (plot_model_performance, plot_model_overall_performance)"
   ]
  },
  {
   "cell_type": "code",
   "execution_count": 2,
   "id": "b109575c-32dc-44e8-9fd7-2e3144a49b95",
   "metadata": {},
   "outputs": [],
   "source": [
    "# ADD TO PROJECT DEPENDENCIES\n",
    "# !pip install yfinance"
   ]
  },
  {
   "cell_type": "markdown",
   "id": "efdc39a9-f694-472d-8050-cfd7e5cf5ca9",
   "metadata": {},
   "source": [
    "---\n",
    "## Dataset Extraction\n",
    "---\n",
    "\n",
    "In this Section we extract the market's history data of the NVIDIA Stock to further use in the LSTM's."
   ]
  },
  {
   "cell_type": "code",
   "execution_count": 3,
   "id": "64f5055b-93f3-414f-8338-2337fc19bd65",
   "metadata": {},
   "outputs": [],
   "source": [
    "# dataset @ https://finance.yahoo.com/quote/NVDA/history/"
   ]
  },
  {
   "cell_type": "code",
   "execution_count": 4,
   "id": "466acd02-ba93-4408-b6ad-a4bbe48b75fe",
   "metadata": {},
   "outputs": [],
   "source": [
    "# Load the config\n",
    "config = load_config()"
   ]
  },
  {
   "cell_type": "code",
   "execution_count": 5,
   "id": "ad6f284c-3754-4487-a8d8-50496cbe70cc",
   "metadata": {},
   "outputs": [],
   "source": [
    "# Getting the Stock Market Information\n",
    "stock_information = yf.Ticker(config['stock'])\n",
    "\n",
    "# Fetching a dataset with the stock's history data\n",
    "if config['max_period']:\n",
    "    stock_history = stock_information.history(period=\"max\")\n",
    "else:\n",
    "    stock_history = stock_information.history(start=config['start_date'], end=config['end_date'])\n",
    "\n",
    "# Saving the History data into a csv file\n",
    "stock_history.to_csv(f\"./{config['stock']}.csv\")"
   ]
  },
  {
   "cell_type": "code",
   "execution_count": 6,
   "id": "bc3146be-e961-4c71-b331-f84d1c6b440d",
   "metadata": {},
   "outputs": [],
   "source": [
    "# Defining a N degree for the Model - Choosing the amount of previous values to consider for a certain instant\n",
    "N = 3 if config['N'] is None else config['N']"
   ]
  },
  {
   "cell_type": "markdown",
   "id": "d8a6372f-7c6e-4604-86c2-bef2525aebf2",
   "metadata": {},
   "source": [
    "---\n",
    "## Dataset PreProcessing\n",
    "---"
   ]
  },
  {
   "cell_type": "code",
   "execution_count": 7,
   "id": "f8a69aed-e36a-467d-9bbf-e4b6a7c1ed4a",
   "metadata": {},
   "outputs": [],
   "source": [
    "# Loading the Dataset\n",
    "df = pd.read_csv(f\"./{config['stock']}.csv\")"
   ]
  },
  {
   "cell_type": "code",
   "execution_count": 8,
   "id": "ac48650b-e429-45b0-9508-6e598375684c",
   "metadata": {},
   "outputs": [
    {
     "name": "stdout",
     "output_type": "stream",
     "text": [
      "The dataset contains 422 rows and 8 columns\n"
     ]
    }
   ],
   "source": [
    "# Getting the Number of Rows and Columns of the Dataset\n",
    "n_rows, n_cols = df.shape\n",
    "print(f\"The dataset contains {n_rows} rows and {n_cols} columns\")"
   ]
  },
  {
   "cell_type": "code",
   "execution_count": 9,
   "id": "1bb9cafa-4b47-4386-90e7-9a6f13150e3b",
   "metadata": {},
   "outputs": [
    {
     "data": {
      "text/html": [
       "<div>\n",
       "<style scoped>\n",
       "    .dataframe tbody tr th:only-of-type {\n",
       "        vertical-align: middle;\n",
       "    }\n",
       "\n",
       "    .dataframe tbody tr th {\n",
       "        vertical-align: top;\n",
       "    }\n",
       "\n",
       "    .dataframe thead th {\n",
       "        text-align: right;\n",
       "    }\n",
       "</style>\n",
       "<table border=\"1\" class=\"dataframe\">\n",
       "  <thead>\n",
       "    <tr style=\"text-align: right;\">\n",
       "      <th></th>\n",
       "      <th>Date</th>\n",
       "      <th>Open</th>\n",
       "      <th>High</th>\n",
       "      <th>Low</th>\n",
       "      <th>Close</th>\n",
       "      <th>Volume</th>\n",
       "      <th>Dividends</th>\n",
       "      <th>Stock Splits</th>\n",
       "    </tr>\n",
       "  </thead>\n",
       "  <tbody>\n",
       "    <tr>\n",
       "      <th>0</th>\n",
       "      <td>2022-12-05 00:00:00-05:00</td>\n",
       "      <td>16.669453</td>\n",
       "      <td>16.985272</td>\n",
       "      <td>16.462571</td>\n",
       "      <td>16.600492</td>\n",
       "      <td>352255000</td>\n",
       "      <td>0.0</td>\n",
       "      <td>0.0</td>\n",
       "    </tr>\n",
       "    <tr>\n",
       "      <th>1</th>\n",
       "      <td>2022-12-06 00:00:00-05:00</td>\n",
       "      <td>16.520537</td>\n",
       "      <td>16.563512</td>\n",
       "      <td>15.809944</td>\n",
       "      <td>15.977848</td>\n",
       "      <td>352694000</td>\n",
       "      <td>0.0</td>\n",
       "      <td>0.0</td>\n",
       "    </tr>\n",
       "    <tr>\n",
       "      <th>2</th>\n",
       "      <td>2022-12-07 00:00:00-05:00</td>\n",
       "      <td>15.762972</td>\n",
       "      <td>16.176735</td>\n",
       "      <td>15.658031</td>\n",
       "      <td>16.110773</td>\n",
       "      <td>372388000</td>\n",
       "      <td>0.0</td>\n",
       "      <td>0.0</td>\n",
       "    </tr>\n",
       "    <tr>\n",
       "      <th>3</th>\n",
       "      <td>2022-12-08 00:00:00-05:00</td>\n",
       "      <td>16.263687</td>\n",
       "      <td>17.169168</td>\n",
       "      <td>15.949866</td>\n",
       "      <td>17.159174</td>\n",
       "      <td>515456000</td>\n",
       "      <td>0.0</td>\n",
       "      <td>0.0</td>\n",
       "    </tr>\n",
       "    <tr>\n",
       "      <th>4</th>\n",
       "      <td>2022-12-09 00:00:00-05:00</td>\n",
       "      <td>17.150176</td>\n",
       "      <td>17.572934</td>\n",
       "      <td>16.965282</td>\n",
       "      <td>16.991266</td>\n",
       "      <td>465338000</td>\n",
       "      <td>0.0</td>\n",
       "      <td>0.0</td>\n",
       "    </tr>\n",
       "  </tbody>\n",
       "</table>\n",
       "</div>"
      ],
      "text/plain": [
       "                        Date       Open       High        Low      Close  \\\n",
       "0  2022-12-05 00:00:00-05:00  16.669453  16.985272  16.462571  16.600492   \n",
       "1  2022-12-06 00:00:00-05:00  16.520537  16.563512  15.809944  15.977848   \n",
       "2  2022-12-07 00:00:00-05:00  15.762972  16.176735  15.658031  16.110773   \n",
       "3  2022-12-08 00:00:00-05:00  16.263687  17.169168  15.949866  17.159174   \n",
       "4  2022-12-09 00:00:00-05:00  17.150176  17.572934  16.965282  16.991266   \n",
       "\n",
       "      Volume  Dividends  Stock Splits  \n",
       "0  352255000        0.0           0.0  \n",
       "1  352694000        0.0           0.0  \n",
       "2  372388000        0.0           0.0  \n",
       "3  515456000        0.0           0.0  \n",
       "4  465338000        0.0           0.0  "
      ]
     },
     "execution_count": 9,
     "metadata": {},
     "output_type": "execute_result"
    }
   ],
   "source": [
    "# Getting Initial / Oldest 5 Records\n",
    "df.head(5)"
   ]
  },
  {
   "cell_type": "code",
   "execution_count": 10,
   "id": "c8154196-5718-45c5-aae4-ce942710b93b",
   "metadata": {},
   "outputs": [
    {
     "data": {
      "text/html": [
       "<div>\n",
       "<style scoped>\n",
       "    .dataframe tbody tr th:only-of-type {\n",
       "        vertical-align: middle;\n",
       "    }\n",
       "\n",
       "    .dataframe tbody tr th {\n",
       "        vertical-align: top;\n",
       "    }\n",
       "\n",
       "    .dataframe thead th {\n",
       "        text-align: right;\n",
       "    }\n",
       "</style>\n",
       "<table border=\"1\" class=\"dataframe\">\n",
       "  <thead>\n",
       "    <tr style=\"text-align: right;\">\n",
       "      <th></th>\n",
       "      <th>Date</th>\n",
       "      <th>Open</th>\n",
       "      <th>High</th>\n",
       "      <th>Low</th>\n",
       "      <th>Close</th>\n",
       "      <th>Volume</th>\n",
       "      <th>Dividends</th>\n",
       "      <th>Stock Splits</th>\n",
       "    </tr>\n",
       "  </thead>\n",
       "  <tbody>\n",
       "    <tr>\n",
       "      <th>417</th>\n",
       "      <td>2024-08-05 00:00:00-04:00</td>\n",
       "      <td>92.059998</td>\n",
       "      <td>103.410004</td>\n",
       "      <td>90.690002</td>\n",
       "      <td>100.449997</td>\n",
       "      <td>552842400</td>\n",
       "      <td>0.0</td>\n",
       "      <td>0.0</td>\n",
       "    </tr>\n",
       "    <tr>\n",
       "      <th>418</th>\n",
       "      <td>2024-08-06 00:00:00-04:00</td>\n",
       "      <td>103.839996</td>\n",
       "      <td>107.709999</td>\n",
       "      <td>100.550003</td>\n",
       "      <td>104.250000</td>\n",
       "      <td>409012100</td>\n",
       "      <td>0.0</td>\n",
       "      <td>0.0</td>\n",
       "    </tr>\n",
       "    <tr>\n",
       "      <th>419</th>\n",
       "      <td>2024-08-07 00:00:00-04:00</td>\n",
       "      <td>107.809998</td>\n",
       "      <td>108.800003</td>\n",
       "      <td>98.690002</td>\n",
       "      <td>98.910004</td>\n",
       "      <td>411440400</td>\n",
       "      <td>0.0</td>\n",
       "      <td>0.0</td>\n",
       "    </tr>\n",
       "    <tr>\n",
       "      <th>420</th>\n",
       "      <td>2024-08-08 00:00:00-04:00</td>\n",
       "      <td>102.000000</td>\n",
       "      <td>105.500000</td>\n",
       "      <td>97.519997</td>\n",
       "      <td>104.970001</td>\n",
       "      <td>391910000</td>\n",
       "      <td>0.0</td>\n",
       "      <td>0.0</td>\n",
       "    </tr>\n",
       "    <tr>\n",
       "      <th>421</th>\n",
       "      <td>2024-08-09 00:00:00-04:00</td>\n",
       "      <td>105.639999</td>\n",
       "      <td>106.599998</td>\n",
       "      <td>103.430000</td>\n",
       "      <td>104.750000</td>\n",
       "      <td>290844200</td>\n",
       "      <td>0.0</td>\n",
       "      <td>0.0</td>\n",
       "    </tr>\n",
       "  </tbody>\n",
       "</table>\n",
       "</div>"
      ],
      "text/plain": [
       "                          Date        Open        High         Low  \\\n",
       "417  2024-08-05 00:00:00-04:00   92.059998  103.410004   90.690002   \n",
       "418  2024-08-06 00:00:00-04:00  103.839996  107.709999  100.550003   \n",
       "419  2024-08-07 00:00:00-04:00  107.809998  108.800003   98.690002   \n",
       "420  2024-08-08 00:00:00-04:00  102.000000  105.500000   97.519997   \n",
       "421  2024-08-09 00:00:00-04:00  105.639999  106.599998  103.430000   \n",
       "\n",
       "          Close     Volume  Dividends  Stock Splits  \n",
       "417  100.449997  552842400        0.0           0.0  \n",
       "418  104.250000  409012100        0.0           0.0  \n",
       "419   98.910004  411440400        0.0           0.0  \n",
       "420  104.970001  391910000        0.0           0.0  \n",
       "421  104.750000  290844200        0.0           0.0  "
      ]
     },
     "execution_count": 10,
     "metadata": {},
     "output_type": "execute_result"
    }
   ],
   "source": [
    "# Getting Final / Most Recent 5 Records\n",
    "df.tail(5)"
   ]
  },
  {
   "cell_type": "code",
   "execution_count": 11,
   "id": "38d29814-6afd-4ac2-a409-74aff8ad391e",
   "metadata": {},
   "outputs": [
    {
     "data": {
      "text/html": [
       "<div>\n",
       "<style scoped>\n",
       "    .dataframe tbody tr th:only-of-type {\n",
       "        vertical-align: middle;\n",
       "    }\n",
       "\n",
       "    .dataframe tbody tr th {\n",
       "        vertical-align: top;\n",
       "    }\n",
       "\n",
       "    .dataframe thead th {\n",
       "        text-align: right;\n",
       "    }\n",
       "</style>\n",
       "<table border=\"1\" class=\"dataframe\">\n",
       "  <thead>\n",
       "    <tr style=\"text-align: right;\">\n",
       "      <th></th>\n",
       "      <th>Date</th>\n",
       "    </tr>\n",
       "  </thead>\n",
       "  <tbody>\n",
       "    <tr>\n",
       "      <th>0</th>\n",
       "      <td>2022-12-05</td>\n",
       "    </tr>\n",
       "    <tr>\n",
       "      <th>1</th>\n",
       "      <td>2022-12-06</td>\n",
       "    </tr>\n",
       "    <tr>\n",
       "      <th>2</th>\n",
       "      <td>2022-12-07</td>\n",
       "    </tr>\n",
       "  </tbody>\n",
       "</table>\n",
       "</div>"
      ],
      "text/plain": [
       "         Date\n",
       "0  2022-12-05\n",
       "1  2022-12-06\n",
       "2  2022-12-07"
      ]
     },
     "execution_count": 11,
     "metadata": {},
     "output_type": "execute_result"
    }
   ],
   "source": [
    "# Formatting the Datetime in order to only keep the date\n",
    "df['Date'] = df['Date'].apply(lambda x: x.split(' ')[0])\n",
    "df[['Date']].head(3)"
   ]
  },
  {
   "cell_type": "code",
   "execution_count": 12,
   "id": "b411af9d-a8ca-4ae8-b2f0-8feb85ddca96",
   "metadata": {},
   "outputs": [
    {
     "data": {
      "text/html": [
       "<div>\n",
       "<style scoped>\n",
       "    .dataframe tbody tr th:only-of-type {\n",
       "        vertical-align: middle;\n",
       "    }\n",
       "\n",
       "    .dataframe tbody tr th {\n",
       "        vertical-align: top;\n",
       "    }\n",
       "\n",
       "    .dataframe thead th {\n",
       "        text-align: right;\n",
       "    }\n",
       "</style>\n",
       "<table border=\"1\" class=\"dataframe\">\n",
       "  <thead>\n",
       "    <tr style=\"text-align: right;\">\n",
       "      <th></th>\n",
       "      <th>Date</th>\n",
       "      <th>Close</th>\n",
       "    </tr>\n",
       "  </thead>\n",
       "  <tbody>\n",
       "    <tr>\n",
       "      <th>0</th>\n",
       "      <td>2022-12-05</td>\n",
       "      <td>16.600492</td>\n",
       "    </tr>\n",
       "    <tr>\n",
       "      <th>1</th>\n",
       "      <td>2022-12-06</td>\n",
       "      <td>15.977848</td>\n",
       "    </tr>\n",
       "    <tr>\n",
       "      <th>2</th>\n",
       "      <td>2022-12-07</td>\n",
       "      <td>16.110773</td>\n",
       "    </tr>\n",
       "  </tbody>\n",
       "</table>\n",
       "</div>"
      ],
      "text/plain": [
       "         Date      Close\n",
       "0  2022-12-05  16.600492\n",
       "1  2022-12-06  15.977848\n",
       "2  2022-12-07  16.110773"
      ]
     },
     "execution_count": 12,
     "metadata": {},
     "output_type": "execute_result"
    }
   ],
   "source": [
    "# Selecting Important Columns\n",
    "df = df[['Date', 'Close']]\n",
    "df.head(3)"
   ]
  },
  {
   "cell_type": "code",
   "execution_count": 13,
   "id": "ea59bfd9-623f-4018-9826-b8e5b4064bf6",
   "metadata": {},
   "outputs": [
    {
     "data": {
      "text/plain": [
       "datetime.datetime(2022, 12, 5, 0, 0)"
      ]
     },
     "execution_count": 13,
     "metadata": {},
     "output_type": "execute_result"
    }
   ],
   "source": [
    "# Getting a date string from the dataset [In this case it is the first one]\n",
    "first_date_dataset = df['Date'][0]\n",
    "\n",
    "# Testing the previous function on the extracted date\n",
    "str_to_datetime(first_date_dataset)"
   ]
  },
  {
   "cell_type": "code",
   "execution_count": 14,
   "id": "ed81738a-a697-48dd-ab64-105961e4e04b",
   "metadata": {},
   "outputs": [
    {
     "data": {
      "text/plain": [
       "0     2022-12-05\n",
       "1     2022-12-06\n",
       "2     2022-12-07\n",
       "3     2022-12-08\n",
       "4     2022-12-09\n",
       "         ...    \n",
       "417   2024-08-05\n",
       "418   2024-08-06\n",
       "419   2024-08-07\n",
       "420   2024-08-08\n",
       "421   2024-08-09\n",
       "Name: Date, Length: 422, dtype: datetime64[ns]"
      ]
     },
     "execution_count": 14,
     "metadata": {},
     "output_type": "execute_result"
    }
   ],
   "source": [
    "# Now, let's update the dataframe in order for the dates to be formated accordingly with this most recent approach\n",
    "df['Date'] = df['Date'].map(lambda date_string : str_to_datetime(date_string))\n",
    "\n",
    "# Inspect the result\n",
    "df['Date']"
   ]
  },
  {
   "cell_type": "code",
   "execution_count": 15,
   "id": "f7433913-da99-43d2-8ef4-97b0d0ebf63e",
   "metadata": {},
   "outputs": [],
   "source": [
    "# Saving the Earliest and Latest Dates to be considered\n",
    "earliest_date = str(df['Date'][N].date())\n",
    "latest_date = str(df['Date'][len(df) - 1].date())"
   ]
  },
  {
   "cell_type": "code",
   "execution_count": 16,
   "id": "d0229066-67bc-4162-9389-ea6dbc635990",
   "metadata": {},
   "outputs": [
    {
     "data": {
      "text/html": [
       "<div>\n",
       "<style scoped>\n",
       "    .dataframe tbody tr th:only-of-type {\n",
       "        vertical-align: middle;\n",
       "    }\n",
       "\n",
       "    .dataframe tbody tr th {\n",
       "        vertical-align: top;\n",
       "    }\n",
       "\n",
       "    .dataframe thead th {\n",
       "        text-align: right;\n",
       "    }\n",
       "</style>\n",
       "<table border=\"1\" class=\"dataframe\">\n",
       "  <thead>\n",
       "    <tr style=\"text-align: right;\">\n",
       "      <th></th>\n",
       "      <th>Close</th>\n",
       "    </tr>\n",
       "    <tr>\n",
       "      <th>Date</th>\n",
       "      <th></th>\n",
       "    </tr>\n",
       "  </thead>\n",
       "  <tbody>\n",
       "    <tr>\n",
       "      <th>2022-12-05</th>\n",
       "      <td>16.600492</td>\n",
       "    </tr>\n",
       "    <tr>\n",
       "      <th>2022-12-06</th>\n",
       "      <td>15.977848</td>\n",
       "    </tr>\n",
       "    <tr>\n",
       "      <th>2022-12-07</th>\n",
       "      <td>16.110773</td>\n",
       "    </tr>\n",
       "  </tbody>\n",
       "</table>\n",
       "</div>"
      ],
      "text/plain": [
       "                Close\n",
       "Date                 \n",
       "2022-12-05  16.600492\n",
       "2022-12-06  15.977848\n",
       "2022-12-07  16.110773"
      ]
     },
     "execution_count": 16,
     "metadata": {},
     "output_type": "execute_result"
    }
   ],
   "source": [
    "# Set the Date column as the index column\n",
    "df.set_index('Date', inplace=True)\n",
    "\n",
    "# Inspect the dataframe\n",
    "df.head(3)"
   ]
  },
  {
   "cell_type": "code",
   "execution_count": 17,
   "id": "29a32c1c-5d3d-4836-8b6e-3fbd6056583f",
   "metadata": {},
   "outputs": [
    {
     "data": {
      "image/png": "[encoded data removed]",
      "text/plain": [
       "<Figure size 640x480 with 1 Axes>"
      ]
     },
     "metadata": {},
     "output_type": "display_data"
    }
   ],
   "source": [
    "# Plotting the Closing Values of the Stock throughout the years\n",
    "plt.rc('font', size=7)\n",
    "plt.plot(df.index, df['Close']);"
   ]
  },
  {
   "cell_type": "code",
   "execution_count": 18,
   "id": "2f16808f-4d00-4e7c-95c0-fcafb17b2d60",
   "metadata": {},
   "outputs": [
    {
     "data": {
      "text/html": [
       "<div>\n",
       "<style scoped>\n",
       "    .dataframe tbody tr th:only-of-type {\n",
       "        vertical-align: middle;\n",
       "    }\n",
       "\n",
       "    .dataframe tbody tr th {\n",
       "        vertical-align: top;\n",
       "    }\n",
       "\n",
       "    .dataframe thead th {\n",
       "        text-align: right;\n",
       "    }\n",
       "</style>\n",
       "<table border=\"1\" class=\"dataframe\">\n",
       "  <thead>\n",
       "    <tr style=\"text-align: right;\">\n",
       "      <th></th>\n",
       "      <th>Target_Date</th>\n",
       "      <th>Target-3</th>\n",
       "      <th>Target-2</th>\n",
       "      <th>Target-1</th>\n",
       "      <th>Target</th>\n",
       "    </tr>\n",
       "  </thead>\n",
       "  <tbody>\n",
       "    <tr>\n",
       "      <th>0</th>\n",
       "      <td>2022-12-08</td>\n",
       "      <td>16.600492</td>\n",
       "      <td>15.977848</td>\n",
       "      <td>16.110773</td>\n",
       "      <td>17.159174</td>\n",
       "    </tr>\n",
       "    <tr>\n",
       "      <th>1</th>\n",
       "      <td>2022-12-09</td>\n",
       "      <td>15.977848</td>\n",
       "      <td>16.110773</td>\n",
       "      <td>17.159174</td>\n",
       "      <td>16.991266</td>\n",
       "    </tr>\n",
       "    <tr>\n",
       "      <th>2</th>\n",
       "      <td>2022-12-12</td>\n",
       "      <td>16.110773</td>\n",
       "      <td>17.159174</td>\n",
       "      <td>16.991266</td>\n",
       "      <td>17.524961</td>\n",
       "    </tr>\n",
       "    <tr>\n",
       "      <th>3</th>\n",
       "      <td>2022-12-13</td>\n",
       "      <td>17.159174</td>\n",
       "      <td>16.991266</td>\n",
       "      <td>17.524961</td>\n",
       "      <td>18.061655</td>\n",
       "    </tr>\n",
       "    <tr>\n",
       "      <th>4</th>\n",
       "      <td>2022-12-14</td>\n",
       "      <td>16.991266</td>\n",
       "      <td>17.524961</td>\n",
       "      <td>18.061655</td>\n",
       "      <td>17.663881</td>\n",
       "    </tr>\n",
       "  </tbody>\n",
       "</table>\n",
       "</div>"
      ],
      "text/plain": [
       "  Target_Date   Target-3   Target-2   Target-1     Target\n",
       "0  2022-12-08  16.600492  15.977848  16.110773  17.159174\n",
       "1  2022-12-09  15.977848  16.110773  17.159174  16.991266\n",
       "2  2022-12-12  16.110773  17.159174  16.991266  17.524961\n",
       "3  2022-12-13  17.159174  16.991266  17.524961  18.061655\n",
       "4  2022-12-14  16.991266  17.524961  18.061655  17.663881"
      ]
     },
     "execution_count": 18,
     "metadata": {},
     "output_type": "execute_result"
    }
   ],
   "source": [
    "# Extracting the previous N values of each possible instant along with the target value\n",
    "windowed_df = df_to_windowed_df(df, \n",
    "                                earliest_date, \n",
    "                                latest_date, \n",
    "                                n=N)\n",
    "windowed_df.head(5)"
   ]
  },
  {
   "cell_type": "code",
   "execution_count": 19,
   "id": "04eeb8f9-3b67-4604-8d4a-7e5eea91b49a",
   "metadata": {},
   "outputs": [
    {
     "name": "stdout",
     "output_type": "stream",
     "text": [
      "dates.shape=(419,) X.shape=(419, 3, 1) y.shape=(419,)\n"
     ]
    }
   ],
   "source": [
    "# Get the Dates as well as the input and output vectors\n",
    "dates, X, y = windowed_df_to_date_X_y(windowed_df)\n",
    "\n",
    "# Verifying the shape of each vector\n",
    "print(f\"{dates.shape=} {X.shape=} {y.shape=}\")\n",
    "assert dates.shape[0] == X.shape[0] and dates.shape[0] == y.shape[0], \"Vectors shape not Matching!\""
   ]
  },
  {
   "cell_type": "markdown",
   "id": "ec17b70c-6873-4ffb-a691-5ac7fe5135a5",
   "metadata": {},
   "source": [
    "---\n",
    "## Data Partitioning (Train - Validation - Test)\n",
    "---\n",
    "\n",
    "Now it's time to partition the clean data into proper feature and target vectors (X and y)."
   ]
  },
  {
   "cell_type": "code",
   "execution_count": 20,
   "id": "f49e3aa3-ed90-4f55-a47b-47694e5aba42",
   "metadata": {},
   "outputs": [],
   "source": [
    "# Getting the threshold values for train and validation (To which values should we consider as train/validation sets)\n",
    "train_threshold = int(len(dates) * .8)\n",
    "validation_threshold = int(len(dates) * .9)\n",
    "\n",
    "# Get the Train data\n",
    "dates_train = dates[:train_threshold]\n",
    "X_train = X[:train_threshold]\n",
    "y_train = y[:train_threshold]\n",
    "\n",
    "# Get the Validation data\n",
    "dates_validation = dates[train_threshold : validation_threshold]\n",
    "X_validation = X[train_threshold : validation_threshold]\n",
    "y_validation = y[train_threshold : validation_threshold]\n",
    "\n",
    "# Get the Test data\n",
    "dates_test = dates[validation_threshold:]\n",
    "X_test = X[validation_threshold:]\n",
    "y_test = y[validation_threshold:]"
   ]
  },
  {
   "cell_type": "code",
   "execution_count": 21,
   "id": "98207777-89d5-4c15-9f2a-d4dc8413e78e",
   "metadata": {},
   "outputs": [
    {
     "data": {
      "image/png": "[encoded data removed]",
      "text/plain": [
       "<Figure size 640x480 with 1 Axes>"
      ]
     },
     "metadata": {},
     "output_type": "display_data"
    }
   ],
   "source": [
    "# Plot the Partitioning of the Data (Inspect which values are being used in each set)\n",
    "plt.plot(dates_train, y_train)\n",
    "plt.plot(dates_validation, y_validation)\n",
    "plt.plot(dates_test, y_test)\n",
    "plt.legend(['Train', 'Validation', 'Test']);"
   ]
  },
  {
   "cell_type": "markdown",
   "id": "65811b7b-be39-4e71-ba28-76cf77824b7c",
   "metadata": {},
   "source": [
    "---\n",
    "## Model Development\n",
    "---"
   ]
  },
  {
   "cell_type": "code",
   "execution_count": 22,
   "id": "94f82a94-5272-4183-a13d-c6fa6af957f9",
   "metadata": {},
   "outputs": [],
   "source": [
    "# Build the Architecture of the Model\n",
    "model = Sequential([layers.Input((N,1)),\n",
    "                    layers.LSTM(64),\n",
    "                    layers.Dense(32, activation='relu'),\n",
    "                    layers.Dense(32, activation='relu'),\n",
    "                    layers.Dense(1)])"
   ]
  },
  {
   "cell_type": "code",
   "execution_count": 23,
   "id": "55b6cfa3-13da-461d-bf40-d4caa3ac4796",
   "metadata": {},
   "outputs": [],
   "source": [
    "# Insert information to Compile the Model -> Add the Loss Function, the Optimizer and the metrics to consider\n",
    "# Loss : Mean Squared Error\n",
    "# Optimizer : Adam with learning rate of 0.001\n",
    "# Metrics : Mean Absolute Error\n",
    "model.compile(loss='mse',\n",
    "              optimizer=Adam(learning_rate=0.001),\n",
    "              metrics=['mean_absolute_error'])"
   ]
  },
  {
   "cell_type": "code",
   "execution_count": 24,
   "id": "78e054e3-82c7-400d-8e7f-dc1c003f785d",
   "metadata": {
    "scrolled": true
   },
   "outputs": [
    {
     "name": "stdout",
     "output_type": "stream",
     "text": [
      "Epoch 1/100\n",
      "11/11 [==============================] - 3s 54ms/step - loss: 2245.2722 - mean_absolute_error: 42.9994 - val_loss: 9183.9297 - val_mean_absolute_error: 94.9275\n",
      "Epoch 2/100\n",
      "11/11 [==============================] - 0s 7ms/step - loss: 2166.6919 - mean_absolute_error: 42.0657 - val_loss: 8971.6221 - val_mean_absolute_error: 93.8040\n",
      "Epoch 3/100\n",
      "11/11 [==============================] - 0s 7ms/step - loss: 2045.0833 - mean_absolute_error: 40.5144 - val_loss: 8665.0283 - val_mean_absolute_error: 92.1537\n",
      "Epoch 4/100\n",
      "11/11 [==============================] - 0s 7ms/step - loss: 1854.5975 - mean_absolute_error: 37.9185 - val_loss: 8218.2881 - val_mean_absolute_error: 89.6801\n",
      "Epoch 5/100\n",
      "11/11 [==============================] - 0s 7ms/step - loss: 1566.0504 - mean_absolute_error: 33.5049 - val_loss: 7393.3257 - val_mean_absolute_error: 84.9210\n",
      "Epoch 6/100\n",
      "11/11 [==============================] - 0s 7ms/step - loss: 1162.1375 - mean_absolute_error: 26.9996 - val_loss: 6122.6587 - val_mean_absolute_error: 77.0615\n",
      "Epoch 7/100\n",
      "11/11 [==============================] - 0s 7ms/step - loss: 737.4279 - mean_absolute_error: 20.5262 - val_loss: 4558.9551 - val_mean_absolute_error: 66.0573\n",
      "Epoch 8/100\n",
      "11/11 [==============================] - 0s 7ms/step - loss: 462.1927 - mean_absolute_error: 15.9543 - val_loss: 3040.7712 - val_mean_absolute_error: 53.4290\n",
      "Epoch 9/100\n",
      "11/11 [==============================] - 0s 7ms/step - loss: 373.0307 - mean_absolute_error: 14.1510 - val_loss: 2615.2644 - val_mean_absolute_error: 49.4067\n",
      "Epoch 10/100\n",
      "11/11 [==============================] - 0s 7ms/step - loss: 334.0614 - mean_absolute_error: 13.4492 - val_loss: 2450.8318 - val_mean_absolute_error: 47.7532\n",
      "Epoch 11/100\n",
      "11/11 [==============================] - 0s 6ms/step - loss: 253.9386 - mean_absolute_error: 11.2265 - val_loss: 2251.8979 - val_mean_absolute_error: 45.6626\n",
      "Epoch 12/100\n",
      "11/11 [==============================] - 0s 7ms/step - loss: 150.4171 - mean_absolute_error: 6.7878 - val_loss: 1647.9851 - val_mean_absolute_error: 38.4634\n",
      "Epoch 13/100\n",
      "11/11 [==============================] - 0s 7ms/step - loss: 82.8190 - mean_absolute_error: 4.3879 - val_loss: 1130.1042 - val_mean_absolute_error: 31.0440\n",
      "Epoch 14/100\n",
      "11/11 [==============================] - 0s 7ms/step - loss: 44.3338 - mean_absolute_error: 3.0031 - val_loss: 745.4224 - val_mean_absolute_error: 24.0833\n",
      "Epoch 15/100\n",
      "11/11 [==============================] - 0s 7ms/step - loss: 22.6705 - mean_absolute_error: 2.2283 - val_loss: 501.5309 - val_mean_absolute_error: 18.5020\n",
      "Epoch 16/100\n",
      "11/11 [==============================] - 0s 7ms/step - loss: 10.9568 - mean_absolute_error: 1.6855 - val_loss: 367.1674 - val_mean_absolute_error: 14.7025\n",
      "Epoch 17/100\n",
      "11/11 [==============================] - 0s 7ms/step - loss: 6.7163 - mean_absolute_error: 1.5628 - val_loss: 299.8584 - val_mean_absolute_error: 12.6620\n",
      "Epoch 18/100\n",
      "11/11 [==============================] - 0s 7ms/step - loss: 5.9525 - mean_absolute_error: 1.6764 - val_loss: 254.9710 - val_mean_absolute_error: 11.1716\n",
      "Epoch 19/100\n",
      "11/11 [==============================] - 0s 7ms/step - loss: 4.4668 - mean_absolute_error: 1.4920 - val_loss: 228.4964 - val_mean_absolute_error: 10.2573\n",
      "Epoch 20/100\n",
      "11/11 [==============================] - 0s 7ms/step - loss: 3.4146 - mean_absolute_error: 1.2543 - val_loss: 216.9635 - val_mean_absolute_error: 9.9610\n",
      "Epoch 21/100\n",
      "11/11 [==============================] - 0s 7ms/step - loss: 2.6905 - mean_absolute_error: 1.1141 - val_loss: 203.3414 - val_mean_absolute_error: 9.4967\n",
      "Epoch 22/100\n",
      "11/11 [==============================] - 0s 7ms/step - loss: 2.5477 - mean_absolute_error: 1.0812 - val_loss: 194.7303 - val_mean_absolute_error: 9.3153\n",
      "Epoch 23/100\n",
      "11/11 [==============================] - 0s 7ms/step - loss: 2.2778 - mean_absolute_error: 0.9971 - val_loss: 185.7788 - val_mean_absolute_error: 8.9795\n",
      "Epoch 24/100\n",
      "11/11 [==============================] - 0s 23ms/step - loss: 2.4319 - mean_absolute_error: 1.0609 - val_loss: 181.4903 - val_mean_absolute_error: 9.0051\n",
      "Epoch 25/100\n",
      "11/11 [==============================] - 0s 8ms/step - loss: 2.0879 - mean_absolute_error: 0.9688 - val_loss: 172.6285 - val_mean_absolute_error: 8.5326\n",
      "Epoch 26/100\n",
      "11/11 [==============================] - 0s 6ms/step - loss: 2.2499 - mean_absolute_error: 1.0131 - val_loss: 174.1103 - val_mean_absolute_error: 8.9658\n",
      "Epoch 27/100\n",
      "11/11 [==============================] - 0s 7ms/step - loss: 2.2977 - mean_absolute_error: 1.0170 - val_loss: 166.5774 - val_mean_absolute_error: 8.3285\n",
      "Epoch 28/100\n",
      "11/11 [==============================] - 0s 7ms/step - loss: 2.1347 - mean_absolute_error: 0.9934 - val_loss: 164.7656 - val_mean_absolute_error: 8.3249\n",
      "Epoch 29/100\n",
      "11/11 [==============================] - 0s 6ms/step - loss: 1.9373 - mean_absolute_error: 0.9328 - val_loss: 161.7250 - val_mean_absolute_error: 8.1863\n",
      "Epoch 30/100\n",
      "11/11 [==============================] - 0s 6ms/step - loss: 2.0385 - mean_absolute_error: 0.9601 - val_loss: 161.9871 - val_mean_absolute_error: 8.4536\n",
      "Epoch 31/100\n",
      "11/11 [==============================] - 0s 7ms/step - loss: 2.1726 - mean_absolute_error: 0.9640 - val_loss: 158.0596 - val_mean_absolute_error: 8.1550\n",
      "Epoch 32/100\n",
      "11/11 [==============================] - 0s 7ms/step - loss: 2.2314 - mean_absolute_error: 1.0650 - val_loss: 156.6030 - val_mean_absolute_error: 8.1542\n",
      "Epoch 33/100\n",
      "11/11 [==============================] - 0s 7ms/step - loss: 2.1499 - mean_absolute_error: 1.0225 - val_loss: 153.2399 - val_mean_absolute_error: 7.9425\n",
      "Epoch 34/100\n",
      "11/11 [==============================] - 0s 6ms/step - loss: 2.0662 - mean_absolute_error: 0.9533 - val_loss: 151.5254 - val_mean_absolute_error: 7.9355\n",
      "Epoch 35/100\n",
      "11/11 [==============================] - 0s 7ms/step - loss: 1.9883 - mean_absolute_error: 0.9331 - val_loss: 152.4228 - val_mean_absolute_error: 8.1922\n",
      "Epoch 36/100\n",
      "11/11 [==============================] - 0s 7ms/step - loss: 2.0004 - mean_absolute_error: 0.9234 - val_loss: 148.5153 - val_mean_absolute_error: 7.8452\n",
      "Epoch 37/100\n",
      "11/11 [==============================] - 0s 7ms/step - loss: 1.9282 - mean_absolute_error: 0.9351 - val_loss: 146.8517 - val_mean_absolute_error: 7.7783\n",
      "Epoch 38/100\n",
      "11/11 [==============================] - 0s 6ms/step - loss: 2.0286 - mean_absolute_error: 0.9799 - val_loss: 146.9962 - val_mean_absolute_error: 7.9487\n",
      "Epoch 39/100\n",
      "11/11 [==============================] - 0s 7ms/step - loss: 1.8860 - mean_absolute_error: 0.9326 - val_loss: 143.5728 - val_mean_absolute_error: 7.6733\n",
      "Epoch 40/100\n",
      "11/11 [==============================] - 0s 7ms/step - loss: 1.9652 - mean_absolute_error: 0.9558 - val_loss: 145.1049 - val_mean_absolute_error: 7.8858\n",
      "Epoch 41/100\n",
      "11/11 [==============================] - 0s 7ms/step - loss: 1.8845 - mean_absolute_error: 0.9342 - val_loss: 142.3853 - val_mean_absolute_error: 7.6397\n",
      "Epoch 42/100\n",
      "11/11 [==============================] - 0s 7ms/step - loss: 1.9147 - mean_absolute_error: 0.9463 - val_loss: 142.0067 - val_mean_absolute_error: 7.6208\n",
      "Epoch 43/100\n",
      "11/11 [==============================] - 0s 7ms/step - loss: 2.0377 - mean_absolute_error: 0.9770 - val_loss: 143.0458 - val_mean_absolute_error: 7.7942\n",
      "Epoch 44/100\n",
      "11/11 [==============================] - 0s 7ms/step - loss: 1.8771 - mean_absolute_error: 0.9248 - val_loss: 141.6971 - val_mean_absolute_error: 7.7344\n",
      "Epoch 45/100\n",
      "11/11 [==============================] - 0s 7ms/step - loss: 1.8907 - mean_absolute_error: 0.9313 - val_loss: 139.7934 - val_mean_absolute_error: 7.5509\n",
      "Epoch 46/100\n",
      "11/11 [==============================] - 0s 6ms/step - loss: 1.8166 - mean_absolute_error: 0.9042 - val_loss: 141.8134 - val_mean_absolute_error: 7.8638\n",
      "Epoch 47/100\n",
      "11/11 [==============================] - 0s 10ms/step - loss: 2.0868 - mean_absolute_error: 0.9405 - val_loss: 143.2621 - val_mean_absolute_error: 7.9814\n",
      "Epoch 48/100\n",
      "11/11 [==============================] - 0s 6ms/step - loss: 2.0148 - mean_absolute_error: 0.9548 - val_loss: 139.8800 - val_mean_absolute_error: 7.5581\n",
      "Epoch 49/100\n",
      "11/11 [==============================] - 0s 6ms/step - loss: 1.8996 - mean_absolute_error: 0.9232 - val_loss: 142.3937 - val_mean_absolute_error: 7.8975\n",
      "Epoch 50/100\n",
      "11/11 [==============================] - 0s 7ms/step - loss: 1.8799 - mean_absolute_error: 0.9231 - val_loss: 139.3288 - val_mean_absolute_error: 7.5656\n",
      "Epoch 51/100\n",
      "11/11 [==============================] - 0s 6ms/step - loss: 1.9251 - mean_absolute_error: 0.9304 - val_loss: 139.1298 - val_mean_absolute_error: 7.6418\n",
      "Epoch 52/100\n",
      "11/11 [==============================] - 0s 7ms/step - loss: 2.0581 - mean_absolute_error: 0.9882 - val_loss: 139.7303 - val_mean_absolute_error: 7.6821\n",
      "Epoch 53/100\n",
      "11/11 [==============================] - 0s 7ms/step - loss: 2.3481 - mean_absolute_error: 1.0942 - val_loss: 138.5783 - val_mean_absolute_error: 7.5552\n",
      "Epoch 54/100\n",
      "11/11 [==============================] - 0s 7ms/step - loss: 2.2302 - mean_absolute_error: 1.0328 - val_loss: 139.7030 - val_mean_absolute_error: 7.7291\n",
      "Epoch 55/100\n",
      "11/11 [==============================] - 0s 7ms/step - loss: 1.9709 - mean_absolute_error: 0.9404 - val_loss: 138.3527 - val_mean_absolute_error: 7.6104\n",
      "Epoch 56/100\n",
      "11/11 [==============================] - 0s 6ms/step - loss: 1.8976 - mean_absolute_error: 0.9231 - val_loss: 139.8493 - val_mean_absolute_error: 7.8298\n",
      "Epoch 57/100\n",
      "11/11 [==============================] - 0s 6ms/step - loss: 2.1160 - mean_absolute_error: 1.0066 - val_loss: 137.3968 - val_mean_absolute_error: 7.4972\n",
      "Epoch 58/100\n",
      "11/11 [==============================] - 0s 7ms/step - loss: 1.8520 - mean_absolute_error: 0.9081 - val_loss: 137.0569 - val_mean_absolute_error: 7.5117\n",
      "Epoch 59/100\n",
      "11/11 [==============================] - 0s 7ms/step - loss: 1.9970 - mean_absolute_error: 0.9519 - val_loss: 139.6573 - val_mean_absolute_error: 7.8406\n",
      "Epoch 60/100\n",
      "11/11 [==============================] - 0s 7ms/step - loss: 1.8548 - mean_absolute_error: 0.9309 - val_loss: 136.5142 - val_mean_absolute_error: 7.5077\n",
      "Epoch 61/100\n",
      "11/11 [==============================] - 0s 7ms/step - loss: 2.0105 - mean_absolute_error: 0.9810 - val_loss: 137.4423 - val_mean_absolute_error: 7.6467\n",
      "Epoch 62/100\n",
      "11/11 [==============================] - 0s 7ms/step - loss: 2.0640 - mean_absolute_error: 0.9686 - val_loss: 141.0657 - val_mean_absolute_error: 8.0406\n",
      "Epoch 63/100\n",
      "11/11 [==============================] - 0s 7ms/step - loss: 2.2433 - mean_absolute_error: 1.0164 - val_loss: 137.0733 - val_mean_absolute_error: 7.5251\n",
      "Epoch 64/100\n",
      "11/11 [==============================] - 0s 7ms/step - loss: 1.9725 - mean_absolute_error: 0.9605 - val_loss: 137.3947 - val_mean_absolute_error: 7.6813\n",
      "Epoch 65/100\n",
      "11/11 [==============================] - 0s 7ms/step - loss: 1.8811 - mean_absolute_error: 0.9371 - val_loss: 136.0365 - val_mean_absolute_error: 7.5674\n",
      "Epoch 66/100\n",
      "11/11 [==============================] - 0s 7ms/step - loss: 1.8583 - mean_absolute_error: 0.9415 - val_loss: 134.1868 - val_mean_absolute_error: 7.4676\n",
      "Epoch 67/100\n",
      "11/11 [==============================] - 0s 7ms/step - loss: 2.0555 - mean_absolute_error: 1.0161 - val_loss: 133.9859 - val_mean_absolute_error: 7.4854\n",
      "Epoch 68/100\n",
      "11/11 [==============================] - 0s 7ms/step - loss: 2.0212 - mean_absolute_error: 0.9685 - val_loss: 133.2339 - val_mean_absolute_error: 7.4044\n",
      "Epoch 69/100\n",
      "11/11 [==============================] - 0s 7ms/step - loss: 1.9521 - mean_absolute_error: 0.9510 - val_loss: 133.7760 - val_mean_absolute_error: 7.3970\n",
      "Epoch 70/100\n",
      "11/11 [==============================] - 0s 7ms/step - loss: 1.9601 - mean_absolute_error: 0.9261 - val_loss: 133.4973 - val_mean_absolute_error: 7.4433\n",
      "Epoch 71/100\n",
      "11/11 [==============================] - 0s 7ms/step - loss: 1.8735 - mean_absolute_error: 0.9191 - val_loss: 133.8964 - val_mean_absolute_error: 7.4574\n",
      "Epoch 72/100\n",
      "11/11 [==============================] - 0s 7ms/step - loss: 1.8608 - mean_absolute_error: 0.9128 - val_loss: 135.6899 - val_mean_absolute_error: 7.7245\n",
      "Epoch 73/100\n",
      "11/11 [==============================] - 0s 7ms/step - loss: 2.0488 - mean_absolute_error: 0.9762 - val_loss: 133.7555 - val_mean_absolute_error: 7.4822\n",
      "Epoch 74/100\n",
      "11/11 [==============================] - 0s 7ms/step - loss: 1.8393 - mean_absolute_error: 0.9352 - val_loss: 132.7050 - val_mean_absolute_error: 7.3860\n",
      "Epoch 75/100\n",
      "11/11 [==============================] - 0s 7ms/step - loss: 1.9406 - mean_absolute_error: 0.9479 - val_loss: 134.2549 - val_mean_absolute_error: 7.6142\n",
      "Epoch 76/100\n",
      "11/11 [==============================] - 0s 7ms/step - loss: 2.1707 - mean_absolute_error: 0.9820 - val_loss: 133.3427 - val_mean_absolute_error: 7.4803\n",
      "Epoch 77/100\n",
      "11/11 [==============================] - 0s 7ms/step - loss: 1.9407 - mean_absolute_error: 0.9373 - val_loss: 133.1611 - val_mean_absolute_error: 7.3837\n",
      "Epoch 78/100\n",
      "11/11 [==============================] - 0s 7ms/step - loss: 2.1439 - mean_absolute_error: 0.9900 - val_loss: 144.0211 - val_mean_absolute_error: 8.3978\n",
      "Epoch 79/100\n",
      "11/11 [==============================] - 0s 6ms/step - loss: 2.3779 - mean_absolute_error: 1.0629 - val_loss: 135.3247 - val_mean_absolute_error: 7.4456\n",
      "Epoch 80/100\n",
      "11/11 [==============================] - 0s 7ms/step - loss: 1.9065 - mean_absolute_error: 0.9477 - val_loss: 137.8289 - val_mean_absolute_error: 7.7334\n",
      "Epoch 81/100\n",
      "11/11 [==============================] - 0s 7ms/step - loss: 1.7593 - mean_absolute_error: 0.9062 - val_loss: 135.2323 - val_mean_absolute_error: 7.4804\n",
      "Epoch 82/100\n",
      "11/11 [==============================] - 0s 9ms/step - loss: 2.0004 - mean_absolute_error: 0.9608 - val_loss: 138.4376 - val_mean_absolute_error: 7.8372\n",
      "Epoch 83/100\n",
      "11/11 [==============================] - 0s 7ms/step - loss: 1.9013 - mean_absolute_error: 0.9266 - val_loss: 135.8337 - val_mean_absolute_error: 7.5398\n",
      "Epoch 84/100\n",
      "11/11 [==============================] - 0s 10ms/step - loss: 1.8478 - mean_absolute_error: 0.9116 - val_loss: 134.6905 - val_mean_absolute_error: 7.5311\n",
      "Epoch 85/100\n",
      "11/11 [==============================] - 0s 6ms/step - loss: 1.7988 - mean_absolute_error: 0.9010 - val_loss: 133.7787 - val_mean_absolute_error: 7.4214\n",
      "Epoch 86/100\n",
      "11/11 [==============================] - 0s 7ms/step - loss: 2.0183 - mean_absolute_error: 0.9742 - val_loss: 132.8984 - val_mean_absolute_error: 7.4292\n",
      "Epoch 87/100\n",
      "11/11 [==============================] - 0s 7ms/step - loss: 1.9623 - mean_absolute_error: 0.9801 - val_loss: 135.9483 - val_mean_absolute_error: 7.6469\n",
      "Epoch 88/100\n",
      "11/11 [==============================] - 0s 7ms/step - loss: 1.9585 - mean_absolute_error: 0.9584 - val_loss: 133.7421 - val_mean_absolute_error: 7.3957\n",
      "Epoch 89/100\n",
      "11/11 [==============================] - 0s 7ms/step - loss: 1.8401 - mean_absolute_error: 0.9065 - val_loss: 136.2171 - val_mean_absolute_error: 7.6253\n",
      "Epoch 90/100\n",
      "11/11 [==============================] - 0s 7ms/step - loss: 2.0644 - mean_absolute_error: 1.0130 - val_loss: 134.2887 - val_mean_absolute_error: 7.4810\n",
      "Epoch 91/100\n",
      "11/11 [==============================] - 0s 7ms/step - loss: 1.9846 - mean_absolute_error: 0.9678 - val_loss: 133.8381 - val_mean_absolute_error: 7.5053\n",
      "Epoch 92/100\n",
      "11/11 [==============================] - 0s 7ms/step - loss: 1.9379 - mean_absolute_error: 0.9492 - val_loss: 135.0031 - val_mean_absolute_error: 7.6415\n",
      "Epoch 93/100\n",
      "11/11 [==============================] - 0s 7ms/step - loss: 1.9703 - mean_absolute_error: 0.9361 - val_loss: 133.7564 - val_mean_absolute_error: 7.4187\n",
      "Epoch 94/100\n",
      "11/11 [==============================] - 0s 7ms/step - loss: 2.1558 - mean_absolute_error: 0.9996 - val_loss: 134.0698 - val_mean_absolute_error: 7.4128\n",
      "Epoch 95/100\n",
      "11/11 [==============================] - 0s 7ms/step - loss: 2.5704 - mean_absolute_error: 1.2169 - val_loss: 135.6759 - val_mean_absolute_error: 7.5269\n",
      "Epoch 96/100\n",
      "11/11 [==============================] - 0s 7ms/step - loss: 1.9575 - mean_absolute_error: 0.9812 - val_loss: 135.9468 - val_mean_absolute_error: 7.5974\n",
      "Epoch 97/100\n",
      "11/11 [==============================] - 0s 7ms/step - loss: 1.8316 - mean_absolute_error: 0.9055 - val_loss: 134.4089 - val_mean_absolute_error: 7.4973\n",
      "Epoch 98/100\n",
      "11/11 [==============================] - 0s 7ms/step - loss: 1.9330 - mean_absolute_error: 0.9319 - val_loss: 134.9152 - val_mean_absolute_error: 7.4990\n",
      "Epoch 99/100\n",
      "11/11 [==============================] - 0s 7ms/step - loss: 1.9492 - mean_absolute_error: 0.9202 - val_loss: 135.2547 - val_mean_absolute_error: 7.5408\n",
      "Epoch 100/100\n",
      "11/11 [==============================] - 0s 7ms/step - loss: 1.9619 - mean_absolute_error: 0.9314 - val_loss: 136.6935 - val_mean_absolute_error: 7.6247\n"
     ]
    },
    {
     "data": {
      "text/plain": [
       "<keras.src.callbacks.History at 0x1f2feb71b50>"
      ]
     },
     "execution_count": 24,
     "metadata": {},
     "output_type": "execute_result"
    }
   ],
   "source": [
    "# Train the Model\n",
    "model.fit(X_train, y_train, validation_data=(X_validation, y_validation), epochs=100)"
   ]
  },
  {
   "cell_type": "markdown",
   "id": "e4f6514b-5928-41d7-8ef4-1889c4bfdbef",
   "metadata": {},
   "source": [
    "---\n",
    "## Model Performance Visualization\n",
    "---"
   ]
  },
  {
   "cell_type": "code",
   "execution_count": 25,
   "id": "63745b45-6e02-46c1-9d47-b926c5dbdbae",
   "metadata": {},
   "outputs": [
    {
     "name": "stdout",
     "output_type": "stream",
     "text": [
      "11/11 [==============================] - 0s 3ms/step\n"
     ]
    },
    {
     "data": {
      "image/png": "[encoded data removed]",
      "text/plain": [
       "<Figure size 640x480 with 1 Axes>"
      ]
     },
     "metadata": {},
     "output_type": "display_data"
    }
   ],
   "source": [
    "# -> Visualize the Trainning Performance\n",
    "\n",
    "# Get the Trainning Predictions\n",
    "train_preds = model.predict(X_train).flatten()\n",
    "\n",
    "# Plot the Trainning Performance Data\n",
    "plot_model_performance(dates_train, train_preds, y_train, ['Trainning Predictions', 'Trainning Observations']);"
   ]
  },
  {
   "cell_type": "code",
   "execution_count": 26,
   "id": "492e08ef-ac3c-4248-a2ce-3736e7baa343",
   "metadata": {},
   "outputs": [
    {
     "name": "stdout",
     "output_type": "stream",
     "text": [
      "2/2 [==============================] - 0s 4ms/step\n"
     ]
    },
    {
     "data": {
      "image/png": "[encoded data removed]",
      "text/plain": [
       "<Figure size 640x480 with 1 Axes>"
      ]
     },
     "metadata": {},
     "output_type": "display_data"
    }
   ],
   "source": [
    "# -> Visualize the Validation Performance\n",
    "\n",
    "# Get the Validation Predictions\n",
    "validation_preds = model.predict(X_validation).flatten()\n",
    "\n",
    "# Plot the Validation Performance Data\n",
    "plot_model_performance(dates_validation, validation_preds, y_validation, ['Validation Predictions', 'Validation Observations']);"
   ]
  },
  {
   "cell_type": "code",
   "execution_count": 27,
   "id": "d7ab3ca6-681f-403a-b918-f258878ea8ab",
   "metadata": {},
   "outputs": [
    {
     "name": "stdout",
     "output_type": "stream",
     "text": [
      "2/2 [==============================] - 0s 4ms/step\n"
     ]
    },
    {
     "data": {
      "image/png": "[encoded data removed]",
      "text/plain": [
       "<Figure size 640x480 with 1 Axes>"
      ]
     },
     "metadata": {},
     "output_type": "display_data"
    }
   ],
   "source": [
    "# -> Visualize Test Performance\n",
    "\n",
    "# Get the Test Predictions\n",
    "test_preds = model.predict(X_test).flatten()\n",
    "\n",
    "# Plot the Test Performance Data\n",
    "plot_model_performance(dates_test, test_preds, y_test, ['Testing Predictions', 'Testing Observations']);"
   ]
  },
  {
   "cell_type": "code",
   "execution_count": 28,
   "id": "dde10537-0a60-4dca-8627-a05899429342",
   "metadata": {},
   "outputs": [
    {
     "data": {
      "image/png": "[encoded data removed]",
      "text/plain": [
       "<Figure size 640x480 with 1 Axes>"
      ]
     },
     "metadata": {},
     "output_type": "display_data"
    }
   ],
   "source": [
    "# -> Visualize the Model's performance throughout the all process\n",
    "\n",
    "# Initialize some python lists with the data\n",
    "dates_list = [dates_train, dates_validation, dates_test]\n",
    "preds_list = [train_preds, validation_preds, test_preds]\n",
    "y_list = [y_train, y_validation, y_test]\n",
    "legend = ['Training Predictions',\n",
    "          'Training Observations',\n",
    "          'Validation Predictions',\n",
    "          'Validation Observations',\n",
    "          'Testing Predictions',\n",
    "          'Testing Observations']\n",
    "\n",
    "# Plot the Data\n",
    "plot_model_overall_performance(dates_list, preds_list, y_list, legend);\n",
    "\n",
    "# Save the final plot\n",
    "if config['save_plot']:\n",
    "    plt.savefig(f\"./Assets/{config['stock']}_Stock_Price_Forecasting.png\", bbox_inches='tight')"
   ]
  }
 ],
 "metadata": {
  "kernelspec": {
   "display_name": "Python 3 (ipykernel)",
   "language": "python",
   "name": "python3"
  },
  "language_info": {
   "codemirror_mode": {
    "name": "ipython",
    "version": 3
   },
   "file_extension": ".py",
   "mimetype": "text/x-python",
   "name": "python",
   "nbconvert_exporter": "python",
   "pygments_lexer": "ipython3",
   "version": "3.8.0"
  }
 },
 "nbformat": 4,
 "nbformat_minor": 5
}
