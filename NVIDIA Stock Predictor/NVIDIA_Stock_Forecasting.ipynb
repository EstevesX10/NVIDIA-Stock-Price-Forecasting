{
 "cells": [
  {
   "cell_type": "markdown",
   "id": "cdc218bf-8475-4c76-9f50-60a9e72a2b73",
   "metadata": {},
   "source": [
    "<div align=\"center\">\n",
    "\n",
    "---\n",
    "# NVIDIA Stock Forecasting\n",
    "---\n",
    "</div>\n",
    "\n",
    "This Project mainly focuses on trying to predict the NVIDIA Stock's Market price using data from the yahoo Finance market history for this stock as well as with Long Short-Term Memory Models (LSTM's)."
   ]
  },
  {
   "cell_type": "code",
   "execution_count": 1,
   "id": "5b74a9fa-dacb-4e16-9ad8-4f3c4fb82140",
   "metadata": {},
   "outputs": [],
   "source": [
    "# Importing Dependencies\n",
    "import numpy as np\n",
    "import pandas as pd\n",
    "\n",
    "# Import matplotlib to help visualize the data\n",
    "import matplotlib.pyplot as plt\n",
    "\n",
    "# Import Datetime to properly format the Dates from the Dataset\n",
    "from datetime import (datetime, timedelta)\n",
    "\n",
    "# Importing an API to handle the Datset from Yahoo Finance\n",
    "import yfinance as yf"
   ]
  },
  {
   "cell_type": "code",
   "execution_count": 2,
   "id": "b109575c-32dc-44e8-9fd7-2e3144a49b95",
   "metadata": {},
   "outputs": [],
   "source": [
    "# ADD TO PROJECT DEPENDENCIES\n",
    "# !pip install yfinance"
   ]
  },
  {
   "cell_type": "markdown",
   "id": "efdc39a9-f694-472d-8050-cfd7e5cf5ca9",
   "metadata": {},
   "source": [
    "---\n",
    "## Dataset Extraction\n",
    "---\n",
    "\n",
    "In this Section we extract the market's history data of the NVIDIA Stock to further use in the LSTM's."
   ]
  },
  {
   "cell_type": "code",
   "execution_count": 3,
   "id": "64f5055b-93f3-414f-8338-2337fc19bd65",
   "metadata": {},
   "outputs": [],
   "source": [
    "# dataset @ https://finance.yahoo.com/quote/NVDA/history/"
   ]
  },
  {
   "cell_type": "code",
   "execution_count": 4,
   "id": "ad6f284c-3754-4487-a8d8-50496cbe70cc",
   "metadata": {},
   "outputs": [],
   "source": [
    "# Selecting a Stock\n",
    "STOCK = \"NVDA\"\n",
    "\n",
    "# Getting the Stock Market Information\n",
    "StockInformation = yf.Ticker(STOCK)\n",
    "\n",
    "# Fetching a dataset with the stock's history data\n",
    "StockHistory = StockInformation.history(period=\"max\")\n",
    "\n",
    "# Saving the History data into a csv file\n",
    "StockHistory.to_csv(f\"./{STOCK}.csv\")"
   ]
  },
  {
   "cell_type": "markdown",
   "id": "d8a6372f-7c6e-4604-86c2-bef2525aebf2",
   "metadata": {},
   "source": [
    "---\n",
    "## Dataset PreProcessing\n",
    "---"
   ]
  },
  {
   "cell_type": "code",
   "execution_count": 5,
   "id": "f8a69aed-e36a-467d-9bbf-e4b6a7c1ed4a",
   "metadata": {},
   "outputs": [],
   "source": [
    "# Loading the Dataset\n",
    "df = pd.read_csv(f\"./{STOCK}.csv\")"
   ]
  },
  {
   "cell_type": "code",
   "execution_count": 6,
   "id": "ac48650b-e429-45b0-9508-6e598375684c",
   "metadata": {},
   "outputs": [
    {
     "name": "stdout",
     "output_type": "stream",
     "text": [
      "The dataset contains 6429 rows and 8 columns\n"
     ]
    }
   ],
   "source": [
    "# Getting the Number of Rows and Columns of the Dataset\n",
    "n_rows, n_cols = df.shape\n",
    "print(f\"The dataset contains {n_rows} rows and {n_cols} columns\")"
   ]
  },
  {
   "cell_type": "code",
   "execution_count": 7,
   "id": "1bb9cafa-4b47-4386-90e7-9a6f13150e3b",
   "metadata": {},
   "outputs": [
    {
     "data": {
      "text/html": [
       "<div>\n",
       "<style scoped>\n",
       "    .dataframe tbody tr th:only-of-type {\n",
       "        vertical-align: middle;\n",
       "    }\n",
       "\n",
       "    .dataframe tbody tr th {\n",
       "        vertical-align: top;\n",
       "    }\n",
       "\n",
       "    .dataframe thead th {\n",
       "        text-align: right;\n",
       "    }\n",
       "</style>\n",
       "<table border=\"1\" class=\"dataframe\">\n",
       "  <thead>\n",
       "    <tr style=\"text-align: right;\">\n",
       "      <th></th>\n",
       "      <th>Date</th>\n",
       "      <th>Open</th>\n",
       "      <th>High</th>\n",
       "      <th>Low</th>\n",
       "      <th>Close</th>\n",
       "      <th>Volume</th>\n",
       "      <th>Dividends</th>\n",
       "      <th>Stock Splits</th>\n",
       "    </tr>\n",
       "  </thead>\n",
       "  <tbody>\n",
       "    <tr>\n",
       "      <th>0</th>\n",
       "      <td>1999-01-22 00:00:00-05:00</td>\n",
       "      <td>0.040129</td>\n",
       "      <td>0.044786</td>\n",
       "      <td>0.035590</td>\n",
       "      <td>0.037621</td>\n",
       "      <td>2714688000</td>\n",
       "      <td>0.0</td>\n",
       "      <td>0.0</td>\n",
       "    </tr>\n",
       "    <tr>\n",
       "      <th>1</th>\n",
       "      <td>1999-01-25 00:00:00-05:00</td>\n",
       "      <td>0.040607</td>\n",
       "      <td>0.042039</td>\n",
       "      <td>0.037621</td>\n",
       "      <td>0.041562</td>\n",
       "      <td>510480000</td>\n",
       "      <td>0.0</td>\n",
       "      <td>0.0</td>\n",
       "    </tr>\n",
       "    <tr>\n",
       "      <th>2</th>\n",
       "      <td>1999-01-26 00:00:00-05:00</td>\n",
       "      <td>0.042039</td>\n",
       "      <td>0.042876</td>\n",
       "      <td>0.037740</td>\n",
       "      <td>0.038337</td>\n",
       "      <td>343200000</td>\n",
       "      <td>0.0</td>\n",
       "      <td>0.0</td>\n",
       "    </tr>\n",
       "    <tr>\n",
       "      <th>3</th>\n",
       "      <td>1999-01-27 00:00:00-05:00</td>\n",
       "      <td>0.038457</td>\n",
       "      <td>0.039412</td>\n",
       "      <td>0.036307</td>\n",
       "      <td>0.038218</td>\n",
       "      <td>244368000</td>\n",
       "      <td>0.0</td>\n",
       "      <td>0.0</td>\n",
       "    </tr>\n",
       "    <tr>\n",
       "      <th>4</th>\n",
       "      <td>1999-01-28 00:00:00-05:00</td>\n",
       "      <td>0.038218</td>\n",
       "      <td>0.038457</td>\n",
       "      <td>0.037859</td>\n",
       "      <td>0.038098</td>\n",
       "      <td>227520000</td>\n",
       "      <td>0.0</td>\n",
       "      <td>0.0</td>\n",
       "    </tr>\n",
       "  </tbody>\n",
       "</table>\n",
       "</div>"
      ],
      "text/plain": [
       "                        Date      Open      High       Low     Close  \\\n",
       "0  1999-01-22 00:00:00-05:00  0.040129  0.044786  0.035590  0.037621   \n",
       "1  1999-01-25 00:00:00-05:00  0.040607  0.042039  0.037621  0.041562   \n",
       "2  1999-01-26 00:00:00-05:00  0.042039  0.042876  0.037740  0.038337   \n",
       "3  1999-01-27 00:00:00-05:00  0.038457  0.039412  0.036307  0.038218   \n",
       "4  1999-01-28 00:00:00-05:00  0.038218  0.038457  0.037859  0.038098   \n",
       "\n",
       "       Volume  Dividends  Stock Splits  \n",
       "0  2714688000        0.0           0.0  \n",
       "1   510480000        0.0           0.0  \n",
       "2   343200000        0.0           0.0  \n",
       "3   244368000        0.0           0.0  \n",
       "4   227520000        0.0           0.0  "
      ]
     },
     "execution_count": 7,
     "metadata": {},
     "output_type": "execute_result"
    }
   ],
   "source": [
    "# Getting Initial / Oldest 5 Records\n",
    "df.head(5)"
   ]
  },
  {
   "cell_type": "code",
   "execution_count": 8,
   "id": "c8154196-5718-45c5-aae4-ce942710b93b",
   "metadata": {},
   "outputs": [
    {
     "data": {
      "text/html": [
       "<div>\n",
       "<style scoped>\n",
       "    .dataframe tbody tr th:only-of-type {\n",
       "        vertical-align: middle;\n",
       "    }\n",
       "\n",
       "    .dataframe tbody tr th {\n",
       "        vertical-align: top;\n",
       "    }\n",
       "\n",
       "    .dataframe thead th {\n",
       "        text-align: right;\n",
       "    }\n",
       "</style>\n",
       "<table border=\"1\" class=\"dataframe\">\n",
       "  <thead>\n",
       "    <tr style=\"text-align: right;\">\n",
       "      <th></th>\n",
       "      <th>Date</th>\n",
       "      <th>Open</th>\n",
       "      <th>High</th>\n",
       "      <th>Low</th>\n",
       "      <th>Close</th>\n",
       "      <th>Volume</th>\n",
       "      <th>Dividends</th>\n",
       "      <th>Stock Splits</th>\n",
       "    </tr>\n",
       "  </thead>\n",
       "  <tbody>\n",
       "    <tr>\n",
       "      <th>6424</th>\n",
       "      <td>2024-08-05 00:00:00-04:00</td>\n",
       "      <td>92.059998</td>\n",
       "      <td>103.410004</td>\n",
       "      <td>90.690002</td>\n",
       "      <td>100.449997</td>\n",
       "      <td>552842400</td>\n",
       "      <td>0.0</td>\n",
       "      <td>0.0</td>\n",
       "    </tr>\n",
       "    <tr>\n",
       "      <th>6425</th>\n",
       "      <td>2024-08-06 00:00:00-04:00</td>\n",
       "      <td>103.839996</td>\n",
       "      <td>107.709999</td>\n",
       "      <td>100.550003</td>\n",
       "      <td>104.250000</td>\n",
       "      <td>409012100</td>\n",
       "      <td>0.0</td>\n",
       "      <td>0.0</td>\n",
       "    </tr>\n",
       "    <tr>\n",
       "      <th>6426</th>\n",
       "      <td>2024-08-07 00:00:00-04:00</td>\n",
       "      <td>107.809998</td>\n",
       "      <td>108.800003</td>\n",
       "      <td>98.690002</td>\n",
       "      <td>98.910004</td>\n",
       "      <td>411440400</td>\n",
       "      <td>0.0</td>\n",
       "      <td>0.0</td>\n",
       "    </tr>\n",
       "    <tr>\n",
       "      <th>6427</th>\n",
       "      <td>2024-08-08 00:00:00-04:00</td>\n",
       "      <td>102.000000</td>\n",
       "      <td>105.500000</td>\n",
       "      <td>97.519997</td>\n",
       "      <td>104.970001</td>\n",
       "      <td>391910000</td>\n",
       "      <td>0.0</td>\n",
       "      <td>0.0</td>\n",
       "    </tr>\n",
       "    <tr>\n",
       "      <th>6428</th>\n",
       "      <td>2024-08-09 00:00:00-04:00</td>\n",
       "      <td>105.639999</td>\n",
       "      <td>106.599998</td>\n",
       "      <td>103.430000</td>\n",
       "      <td>104.750000</td>\n",
       "      <td>290185600</td>\n",
       "      <td>0.0</td>\n",
       "      <td>0.0</td>\n",
       "    </tr>\n",
       "  </tbody>\n",
       "</table>\n",
       "</div>"
      ],
      "text/plain": [
       "                           Date        Open        High         Low  \\\n",
       "6424  2024-08-05 00:00:00-04:00   92.059998  103.410004   90.690002   \n",
       "6425  2024-08-06 00:00:00-04:00  103.839996  107.709999  100.550003   \n",
       "6426  2024-08-07 00:00:00-04:00  107.809998  108.800003   98.690002   \n",
       "6427  2024-08-08 00:00:00-04:00  102.000000  105.500000   97.519997   \n",
       "6428  2024-08-09 00:00:00-04:00  105.639999  106.599998  103.430000   \n",
       "\n",
       "           Close     Volume  Dividends  Stock Splits  \n",
       "6424  100.449997  552842400        0.0           0.0  \n",
       "6425  104.250000  409012100        0.0           0.0  \n",
       "6426   98.910004  411440400        0.0           0.0  \n",
       "6427  104.970001  391910000        0.0           0.0  \n",
       "6428  104.750000  290185600        0.0           0.0  "
      ]
     },
     "execution_count": 8,
     "metadata": {},
     "output_type": "execute_result"
    }
   ],
   "source": [
    "# Getting Final / Most Recent 5 Records\n",
    "df.tail(5)"
   ]
  },
  {
   "cell_type": "code",
   "execution_count": 9,
   "id": "38d29814-6afd-4ac2-a409-74aff8ad391e",
   "metadata": {},
   "outputs": [
    {
     "data": {
      "text/html": [
       "<div>\n",
       "<style scoped>\n",
       "    .dataframe tbody tr th:only-of-type {\n",
       "        vertical-align: middle;\n",
       "    }\n",
       "\n",
       "    .dataframe tbody tr th {\n",
       "        vertical-align: top;\n",
       "    }\n",
       "\n",
       "    .dataframe thead th {\n",
       "        text-align: right;\n",
       "    }\n",
       "</style>\n",
       "<table border=\"1\" class=\"dataframe\">\n",
       "  <thead>\n",
       "    <tr style=\"text-align: right;\">\n",
       "      <th></th>\n",
       "      <th>Date</th>\n",
       "    </tr>\n",
       "  </thead>\n",
       "  <tbody>\n",
       "    <tr>\n",
       "      <th>0</th>\n",
       "      <td>1999-01-22</td>\n",
       "    </tr>\n",
       "    <tr>\n",
       "      <th>1</th>\n",
       "      <td>1999-01-25</td>\n",
       "    </tr>\n",
       "    <tr>\n",
       "      <th>2</th>\n",
       "      <td>1999-01-26</td>\n",
       "    </tr>\n",
       "  </tbody>\n",
       "</table>\n",
       "</div>"
      ],
      "text/plain": [
       "         Date\n",
       "0  1999-01-22\n",
       "1  1999-01-25\n",
       "2  1999-01-26"
      ]
     },
     "execution_count": 9,
     "metadata": {},
     "output_type": "execute_result"
    }
   ],
   "source": [
    "# Formatting the Datetime in order to only keep the date\n",
    "df['Date'] = df['Date'].apply(lambda x: x.split(' ')[0])\n",
    "df[['Date']].head(3)"
   ]
  },
  {
   "cell_type": "code",
   "execution_count": 10,
   "id": "b411af9d-a8ca-4ae8-b2f0-8feb85ddca96",
   "metadata": {},
   "outputs": [
    {
     "data": {
      "text/html": [
       "<div>\n",
       "<style scoped>\n",
       "    .dataframe tbody tr th:only-of-type {\n",
       "        vertical-align: middle;\n",
       "    }\n",
       "\n",
       "    .dataframe tbody tr th {\n",
       "        vertical-align: top;\n",
       "    }\n",
       "\n",
       "    .dataframe thead th {\n",
       "        text-align: right;\n",
       "    }\n",
       "</style>\n",
       "<table border=\"1\" class=\"dataframe\">\n",
       "  <thead>\n",
       "    <tr style=\"text-align: right;\">\n",
       "      <th></th>\n",
       "      <th>Date</th>\n",
       "      <th>Close</th>\n",
       "    </tr>\n",
       "  </thead>\n",
       "  <tbody>\n",
       "    <tr>\n",
       "      <th>0</th>\n",
       "      <td>1999-01-22</td>\n",
       "      <td>0.037621</td>\n",
       "    </tr>\n",
       "    <tr>\n",
       "      <th>1</th>\n",
       "      <td>1999-01-25</td>\n",
       "      <td>0.041562</td>\n",
       "    </tr>\n",
       "    <tr>\n",
       "      <th>2</th>\n",
       "      <td>1999-01-26</td>\n",
       "      <td>0.038337</td>\n",
       "    </tr>\n",
       "  </tbody>\n",
       "</table>\n",
       "</div>"
      ],
      "text/plain": [
       "         Date     Close\n",
       "0  1999-01-22  0.037621\n",
       "1  1999-01-25  0.041562\n",
       "2  1999-01-26  0.038337"
      ]
     },
     "execution_count": 10,
     "metadata": {},
     "output_type": "execute_result"
    }
   ],
   "source": [
    "# Selecting Important Columns\n",
    "df = df[['Date', 'Close']]\n",
    "df.head(3)"
   ]
  },
  {
   "cell_type": "code",
   "execution_count": 11,
   "id": "e494ff45-4a1e-414f-a14e-fa6d3e3c8439",
   "metadata": {},
   "outputs": [],
   "source": [
    "# Defining a Function to convert the string dates of the dataset into datetime object instances\n",
    "def str_to_datetime(string_date:str) -> datetime:\n",
    "    \"\"\"\n",
    "    := param: string_date -> String that we want to convert into a datetime type object [Eg: '2003-10-10']\n",
    "    \"\"\"\n",
    "    # Fetching the year, month and day from the string and convert them into int\n",
    "    year, month, day = list(map(int, string_date.split('-')))\n",
    "\n",
    "    # Return a instance of datetime with the respective extracted attributes from the given string\n",
    "    return datetime(year=year, month=month, day=day)"
   ]
  },
  {
   "cell_type": "code",
   "execution_count": 12,
   "id": "ea59bfd9-623f-4018-9826-b8e5b4064bf6",
   "metadata": {},
   "outputs": [
    {
     "data": {
      "text/plain": [
       "datetime.datetime(1999, 1, 22, 0, 0)"
      ]
     },
     "execution_count": 12,
     "metadata": {},
     "output_type": "execute_result"
    }
   ],
   "source": [
    "# Getting a date string from the dataset [In this case it is the first one]\n",
    "first_date_datset = df['Date'][0]\n",
    "\n",
    "# Testing the previous function on the extracted date\n",
    "str_to_datetime(first_date_datset)"
   ]
  },
  {
   "cell_type": "code",
   "execution_count": 13,
   "id": "ed81738a-a697-48dd-ab64-105961e4e04b",
   "metadata": {},
   "outputs": [
    {
     "data": {
      "text/plain": [
       "0      1999-01-22\n",
       "1      1999-01-25\n",
       "2      1999-01-26\n",
       "3      1999-01-27\n",
       "4      1999-01-28\n",
       "          ...    \n",
       "6424   2024-08-05\n",
       "6425   2024-08-06\n",
       "6426   2024-08-07\n",
       "6427   2024-08-08\n",
       "6428   2024-08-09\n",
       "Name: Date, Length: 6429, dtype: datetime64[ns]"
      ]
     },
     "execution_count": 13,
     "metadata": {},
     "output_type": "execute_result"
    }
   ],
   "source": [
    "# Now, let's update the dataframe in order for the dates to be formated accordingly with this most recent approach\n",
    "df['Date'] = df['Date'].map(lambda date_string : str_to_datetime(date_string))\n",
    "\n",
    "# Inspect the result\n",
    "df['Date']"
   ]
  },
  {
   "cell_type": "code",
   "execution_count": 14,
   "id": "d0229066-67bc-4162-9389-ea6dbc635990",
   "metadata": {},
   "outputs": [
    {
     "data": {
      "text/html": [
       "<div>\n",
       "<style scoped>\n",
       "    .dataframe tbody tr th:only-of-type {\n",
       "        vertical-align: middle;\n",
       "    }\n",
       "\n",
       "    .dataframe tbody tr th {\n",
       "        vertical-align: top;\n",
       "    }\n",
       "\n",
       "    .dataframe thead th {\n",
       "        text-align: right;\n",
       "    }\n",
       "</style>\n",
       "<table border=\"1\" class=\"dataframe\">\n",
       "  <thead>\n",
       "    <tr style=\"text-align: right;\">\n",
       "      <th></th>\n",
       "      <th>Close</th>\n",
       "    </tr>\n",
       "    <tr>\n",
       "      <th>Date</th>\n",
       "      <th></th>\n",
       "    </tr>\n",
       "  </thead>\n",
       "  <tbody>\n",
       "    <tr>\n",
       "      <th>1999-01-22</th>\n",
       "      <td>0.037621</td>\n",
       "    </tr>\n",
       "    <tr>\n",
       "      <th>1999-01-25</th>\n",
       "      <td>0.041562</td>\n",
       "    </tr>\n",
       "    <tr>\n",
       "      <th>1999-01-26</th>\n",
       "      <td>0.038337</td>\n",
       "    </tr>\n",
       "  </tbody>\n",
       "</table>\n",
       "</div>"
      ],
      "text/plain": [
       "               Close\n",
       "Date                \n",
       "1999-01-22  0.037621\n",
       "1999-01-25  0.041562\n",
       "1999-01-26  0.038337"
      ]
     },
     "execution_count": 14,
     "metadata": {},
     "output_type": "execute_result"
    }
   ],
   "source": [
    "# Set the Date column as the index column\n",
    "df.set_index('Date', inplace=True)\n",
    "\n",
    "# Inspect the dataframe\n",
    "df.head(3)"
   ]
  },
  {
   "cell_type": "code",
   "execution_count": 15,
   "id": "29a32c1c-5d3d-4836-8b6e-3fbd6056583f",
   "metadata": {},
   "outputs": [
    {
     "data": {
      "text/plain": [
       "[<matplotlib.lines.Line2D at 0x1f1d3f1c610>]"
      ]
     },
     "execution_count": 15,
     "metadata": {},
     "output_type": "execute_result"
    },
    {
     "data": {
      "image/png": "[encoded data removed]",
      "text/plain": [
       "<Figure size 640x480 with 1 Axes>"
      ]
     },
     "metadata": {},
     "output_type": "display_data"
    }
   ],
   "source": [
    "# Plotting the Closing Values of the Stock throughout the years\n",
    "plt.plot(df.index, df['Close'])"
   ]
  },
  {
   "cell_type": "code",
   "execution_count": 16,
   "id": "3d8b473e-8fde-44fb-a56d-9914fe65a216",
   "metadata": {},
   "outputs": [],
   "source": [
    "# Since we are going to use a LSTM model, we need to convert the provlem into a supervised learning problem\n",
    "\n",
    "# This function creates a Dataframe with multiple target columns which are going to\n",
    "# be used within the long short-term memory model\n",
    "def df_to_windowed_df(dataframe:pd.DataFrame, first_date_str:str, last_date_str:str, n:int=3) -> pd.DataFrame:\n",
    "    # Converting the string dates\n",
    "    first_date = str_to_datetime(first_date_str)\n",
    "    last_date = str_to_datetime(last_date_str)\n",
    "\n",
    "    # Defining a current date to be iterated over\n",
    "    target_date = first_date\n",
    "    dates = X = Y = []\n",
    "\n",
    "    # Creating a flag to determine the last time...\n",
    "    last_time = False\n",
    "\n",
    "    while True:\n",
    "        # Selecting a Subset of the datafrane \n",
    "        df_subset = dataframe.loc[:target_date].tail(n+1)\n",
    "\n",
    "        if df_subset.shape[0] != n+1:\n",
    "            print(f'[ERROR]: Window of Size {n} is too large for date {target_date}')\n",
    "            return\n",
    "\n",
    "        # Getting the closing values for the current subset (Current time interval [initial_date - current_date(updates at each new iteration on the while cycle)])\n",
    "        values = df_subset['Close'].to_numpy()\n",
    "        \n",
    "        # Spliting the values into \n",
    "        x, y = values[:-1], values[-1]\n",
    "        \n",
    "        # Update the initial lists with the new values\n",
    "        dates.append(target_date)\n",
    "        X.append(x)\n",
    "        Y.append(y)\n",
    "        \n",
    "        # Getting the date for the next week -> We consider consecutive entries the ones that are 1 week apart\n",
    "        next_week = dataframe.loc[target_date:target_date + timedelta(days=7)]\n",
    "        next_datetime_str = str(next_week.head(2).tail(1).index.values[0])\n",
    "        next_date_str = next_datetime_str.split('T')[0]\n",
    "        \n",
    "        # Extracting the year, month and day\n",
    "        year, month, day = list(map(int, next_date_str.split('-')))\n",
    "        \n",
    "        # Create a new instance of datetime for the next date (date to consider for the next iteration)\n",
    "        next_date = datetime(year=year, month=month, day=day)\n",
    "\n",
    "        # Reached the Final / Target date\n",
    "        if last_time:\n",
    "            break\n",
    "\n",
    "        # Updating the Target Date\n",
    "        target_date = next_date\n",
    "\n",
    "        # Current Date == Last Date to consider\n",
    "        if target_date == last_date:\n",
    "            last_time = True\n",
    "\n",
    "        # Initializing the Target Dataframe with all the valid dates to which we want to train the model with\n",
    "        target_df = pd.DataFrame({})\n",
    "        target_df['Target_Date'] = dates\n",
    "        \n",
    "        print(X)\n",
    "        \n",
    "        # Converting the X list into a numpy array\n",
    "        X = np.array(X, dtype='object')\n",
    "        \n",
    "        # For each entry in the dataset, we look for the i - <n> entry and add it as a new column to the dataframe\n",
    "        for i in range(0, n):\n",
    "            # X[:, i]\n",
    "            target_df[f'Target-{n-1}'] = X[:, i]\n",
    "\n",
    "    target_df['Target'] = Y\n",
    "\n",
    "    # Return the new dataframe\n",
    "    return target_df"
   ]
  },
  {
   "cell_type": "code",
   "execution_count": 17,
   "id": "2f16808f-4d00-4e7c-95c0-fcafb17b2d60",
   "metadata": {},
   "outputs": [
    {
     "name": "stdout",
     "output_type": "stream",
     "text": [
      "[datetime.datetime(2021, 3, 25, 0, 0), array([13.15943909, 13.0441761 , 12.61729622]), 12.509763717651367]\n"
     ]
    },
    {
     "ename": "IndexError",
     "evalue": "too many indices for array: array is 1-dimensional, but 2 were indexed",
     "output_type": "error",
     "traceback": [
      "\u001b[1;31m---------------------------------------------------------------------------\u001b[0m",
      "\u001b[1;31mIndexError\u001b[0m                                Traceback (most recent call last)",
      "Cell \u001b[1;32mIn[17], line 2\u001b[0m\n\u001b[0;32m      1\u001b[0m \u001b[38;5;66;03m# Start day second time around: '2021-03-25'\u001b[39;00m\n\u001b[1;32m----> 2\u001b[0m windowed_df \u001b[38;5;241m=\u001b[39m \u001b[43mdf_to_windowed_df\u001b[49m\u001b[43m(\u001b[49m\u001b[43mdf\u001b[49m\u001b[43m,\u001b[49m\u001b[43m \u001b[49m\n\u001b[0;32m      3\u001b[0m \u001b[43m                                \u001b[49m\u001b[38;5;124;43m'\u001b[39;49m\u001b[38;5;124;43m2021-03-25\u001b[39;49m\u001b[38;5;124;43m'\u001b[39;49m\u001b[43m,\u001b[49m\u001b[43m \u001b[49m\n\u001b[0;32m      4\u001b[0m \u001b[43m                                \u001b[49m\u001b[38;5;124;43m'\u001b[39;49m\u001b[38;5;124;43m2022-03-23\u001b[39;49m\u001b[38;5;124;43m'\u001b[39;49m\u001b[43m,\u001b[49m\u001b[43m \u001b[49m\n\u001b[0;32m      5\u001b[0m \u001b[43m                                \u001b[49m\u001b[43mn\u001b[49m\u001b[38;5;241;43m=\u001b[39;49m\u001b[38;5;241;43m3\u001b[39;49m\u001b[43m)\u001b[49m\n\u001b[0;32m      6\u001b[0m windowed_df\n",
      "Cell \u001b[1;32mIn[16], line 70\u001b[0m, in \u001b[0;36mdf_to_windowed_df\u001b[1;34m(dataframe, first_date_str, last_date_str, n)\u001b[0m\n\u001b[0;32m     67\u001b[0m     \u001b[38;5;66;03m# For each entry in the dataset, we look for the i - <n> entry and add it as a new column to the dataframe\u001b[39;00m\n\u001b[0;32m     68\u001b[0m     \u001b[38;5;28;01mfor\u001b[39;00m i \u001b[38;5;129;01min\u001b[39;00m \u001b[38;5;28mrange\u001b[39m(\u001b[38;5;241m0\u001b[39m, n):\n\u001b[0;32m     69\u001b[0m         \u001b[38;5;66;03m# X[:, i]\u001b[39;00m\n\u001b[1;32m---> 70\u001b[0m         target_df[\u001b[38;5;124mf\u001b[39m\u001b[38;5;124m'\u001b[39m\u001b[38;5;124mTarget-\u001b[39m\u001b[38;5;132;01m{\u001b[39;00mn\u001b[38;5;241m-\u001b[39m\u001b[38;5;241m1\u001b[39m\u001b[38;5;132;01m}\u001b[39;00m\u001b[38;5;124m'\u001b[39m] \u001b[38;5;241m=\u001b[39m \u001b[43mX\u001b[49m\u001b[43m[\u001b[49m\u001b[43m:\u001b[49m\u001b[43m,\u001b[49m\u001b[43m \u001b[49m\u001b[43mi\u001b[49m\u001b[43m]\u001b[49m\n\u001b[0;32m     72\u001b[0m target_df[\u001b[38;5;124m'\u001b[39m\u001b[38;5;124mTarget\u001b[39m\u001b[38;5;124m'\u001b[39m] \u001b[38;5;241m=\u001b[39m Y\n\u001b[0;32m     74\u001b[0m \u001b[38;5;66;03m# Return the new dataframe\u001b[39;00m\n",
      "\u001b[1;31mIndexError\u001b[0m: too many indices for array: array is 1-dimensional, but 2 were indexed"
     ]
    }
   ],
   "source": [
    "# Start day second time around: '2021-03-25'\n",
    "windowed_df = df_to_windowed_df(df, \n",
    "                                '2021-03-25', \n",
    "                                '2022-03-23', \n",
    "                                n=3)\n",
    "windowed_df"
   ]
  },
  {
   "cell_type": "code",
   "execution_count": null,
   "id": "914ba746-06b6-4b97-8e11-50fd8e639b08",
   "metadata": {},
   "outputs": [],
   "source": []
  }
 ],
 "metadata": {
  "kernelspec": {
   "display_name": "Python 3 (ipykernel)",
   "language": "python",
   "name": "python3"
  },
  "language_info": {
   "codemirror_mode": {
    "name": "ipython",
    "version": 3
   },
   "file_extension": ".py",
   "mimetype": "text/x-python",
   "name": "python",
   "nbconvert_exporter": "python",
   "pygments_lexer": "ipython3",
   "version": "3.8.0"
  }
 },
 "nbformat": 4,
 "nbformat_minor": 5
}
