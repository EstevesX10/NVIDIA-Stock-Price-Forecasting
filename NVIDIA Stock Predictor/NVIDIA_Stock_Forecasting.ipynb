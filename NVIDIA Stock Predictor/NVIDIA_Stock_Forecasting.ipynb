{
 "cells": [
  {
   "cell_type": "markdown",
   "id": "cdc218bf-8475-4c76-9f50-60a9e72a2b73",
   "metadata": {},
   "source": [
    "<div align=\"center\">\n",
    "\n",
    "---\n",
    "# NVIDIA Stock Forecasting\n",
    "---\n",
    "</div>\n",
    "\n",
    "This Project mainly focuses on trying to predict the NVIDIA Stock's Market price using data from the yahoo Finance market history for this stock as well as with Long Short-Term Memory Models (LSTM's).\n",
    "\n",
    "It is based on Univariate Forecasting - We only consider n previous values to predict the subsequent one."
   ]
  },
  {
   "cell_type": "code",
   "execution_count": 1,
   "id": "5b74a9fa-dacb-4e16-9ad8-4f3c4fb82140",
   "metadata": {},
   "outputs": [],
   "source": [
    "# Importing Dependencies\n",
    "import numpy as np\n",
    "import pandas as pd\n",
    "\n",
    "# Import matplotlib to help visualize the data\n",
    "import matplotlib.pyplot as plt\n",
    "\n",
    "# Import Datetime to properly format the Dates from the Dataset\n",
    "from datetime import (datetime, timedelta)\n",
    "\n",
    "# Importing an API to handle the Datset from Yahoo Finance\n",
    "import yfinance as yf\n",
    "\n",
    "# Import a Sequential Model from tensorflow alongside the Adam Optimizer and layers\n",
    "from tensorflow.keras.models import (Sequential)\n",
    "from tensorflow.keras.optimizers import (Adam)\n",
    "from tensorflow.keras import (layers)"
   ]
  },
  {
   "cell_type": "code",
   "execution_count": 2,
   "id": "b109575c-32dc-44e8-9fd7-2e3144a49b95",
   "metadata": {},
   "outputs": [],
   "source": [
    "# ADD TO PROJECT DEPENDENCIES\n",
    "# !pip install yfinance"
   ]
  },
  {
   "cell_type": "markdown",
   "id": "efdc39a9-f694-472d-8050-cfd7e5cf5ca9",
   "metadata": {},
   "source": [
    "---\n",
    "## Dataset Extraction\n",
    "---\n",
    "\n",
    "In this Section we extract the market's history data of the NVIDIA Stock to further use in the LSTM's."
   ]
  },
  {
   "cell_type": "code",
   "execution_count": 3,
   "id": "64f5055b-93f3-414f-8338-2337fc19bd65",
   "metadata": {},
   "outputs": [],
   "source": [
    "# dataset @ https://finance.yahoo.com/quote/NVDA/history/"
   ]
  },
  {
   "cell_type": "code",
   "execution_count": 4,
   "id": "ad6f284c-3754-4487-a8d8-50496cbe70cc",
   "metadata": {},
   "outputs": [],
   "source": [
    "# Selecting a Stock\n",
    "STOCK = \"NVDA\"\n",
    "\n",
    "# Getting the Stock Market Information\n",
    "stock_information = yf.Ticker(STOCK)\n",
    "\n",
    "# Fetching a dataset with the stock's history data\n",
    "stock_history = stock_information.history(period=\"max\")\n",
    "\n",
    "# Saving the History data into a csv file\n",
    "stock_history.to_csv(f\"./{STOCK}.csv\")"
   ]
  },
  {
   "cell_type": "code",
   "execution_count": 5,
   "id": "bc3146be-e961-4c71-b331-f84d1c6b440d",
   "metadata": {},
   "outputs": [],
   "source": [
    "# Defining a N degree for the Model - Choosing the amount of previous values to consider for a certain instant\n",
    "N = 3"
   ]
  },
  {
   "cell_type": "markdown",
   "id": "d8a6372f-7c6e-4604-86c2-bef2525aebf2",
   "metadata": {},
   "source": [
    "---\n",
    "## Dataset PreProcessing\n",
    "---"
   ]
  },
  {
   "cell_type": "code",
   "execution_count": 6,
   "id": "f8a69aed-e36a-467d-9bbf-e4b6a7c1ed4a",
   "metadata": {},
   "outputs": [],
   "source": [
    "# Loading the Dataset\n",
    "df = pd.read_csv(f\"./{STOCK}.csv\")"
   ]
  },
  {
   "cell_type": "code",
   "execution_count": 7,
   "id": "ac48650b-e429-45b0-9508-6e598375684c",
   "metadata": {},
   "outputs": [
    {
     "name": "stdout",
     "output_type": "stream",
     "text": [
      "The dataset contains 6430 rows and 8 columns\n"
     ]
    }
   ],
   "source": [
    "# Getting the Number of Rows and Columns of the Dataset\n",
    "n_rows, n_cols = df.shape\n",
    "print(f\"The dataset contains {n_rows} rows and {n_cols} columns\")"
   ]
  },
  {
   "cell_type": "code",
   "execution_count": 8,
   "id": "1bb9cafa-4b47-4386-90e7-9a6f13150e3b",
   "metadata": {},
   "outputs": [
    {
     "data": {
      "text/html": [
       "<div>\n",
       "<style scoped>\n",
       "    .dataframe tbody tr th:only-of-type {\n",
       "        vertical-align: middle;\n",
       "    }\n",
       "\n",
       "    .dataframe tbody tr th {\n",
       "        vertical-align: top;\n",
       "    }\n",
       "\n",
       "    .dataframe thead th {\n",
       "        text-align: right;\n",
       "    }\n",
       "</style>\n",
       "<table border=\"1\" class=\"dataframe\">\n",
       "  <thead>\n",
       "    <tr style=\"text-align: right;\">\n",
       "      <th></th>\n",
       "      <th>Date</th>\n",
       "      <th>Open</th>\n",
       "      <th>High</th>\n",
       "      <th>Low</th>\n",
       "      <th>Close</th>\n",
       "      <th>Volume</th>\n",
       "      <th>Dividends</th>\n",
       "      <th>Stock Splits</th>\n",
       "    </tr>\n",
       "  </thead>\n",
       "  <tbody>\n",
       "    <tr>\n",
       "      <th>0</th>\n",
       "      <td>1999-01-22 00:00:00-05:00</td>\n",
       "      <td>0.040129</td>\n",
       "      <td>0.044786</td>\n",
       "      <td>0.035590</td>\n",
       "      <td>0.037621</td>\n",
       "      <td>2714688000</td>\n",
       "      <td>0.0</td>\n",
       "      <td>0.0</td>\n",
       "    </tr>\n",
       "    <tr>\n",
       "      <th>1</th>\n",
       "      <td>1999-01-25 00:00:00-05:00</td>\n",
       "      <td>0.040607</td>\n",
       "      <td>0.042039</td>\n",
       "      <td>0.037621</td>\n",
       "      <td>0.041562</td>\n",
       "      <td>510480000</td>\n",
       "      <td>0.0</td>\n",
       "      <td>0.0</td>\n",
       "    </tr>\n",
       "    <tr>\n",
       "      <th>2</th>\n",
       "      <td>1999-01-26 00:00:00-05:00</td>\n",
       "      <td>0.042039</td>\n",
       "      <td>0.042876</td>\n",
       "      <td>0.037740</td>\n",
       "      <td>0.038337</td>\n",
       "      <td>343200000</td>\n",
       "      <td>0.0</td>\n",
       "      <td>0.0</td>\n",
       "    </tr>\n",
       "    <tr>\n",
       "      <th>3</th>\n",
       "      <td>1999-01-27 00:00:00-05:00</td>\n",
       "      <td>0.038457</td>\n",
       "      <td>0.039412</td>\n",
       "      <td>0.036307</td>\n",
       "      <td>0.038218</td>\n",
       "      <td>244368000</td>\n",
       "      <td>0.0</td>\n",
       "      <td>0.0</td>\n",
       "    </tr>\n",
       "    <tr>\n",
       "      <th>4</th>\n",
       "      <td>1999-01-28 00:00:00-05:00</td>\n",
       "      <td>0.038218</td>\n",
       "      <td>0.038457</td>\n",
       "      <td>0.037859</td>\n",
       "      <td>0.038098</td>\n",
       "      <td>227520000</td>\n",
       "      <td>0.0</td>\n",
       "      <td>0.0</td>\n",
       "    </tr>\n",
       "  </tbody>\n",
       "</table>\n",
       "</div>"
      ],
      "text/plain": [
       "                        Date      Open      High       Low     Close  \\\n",
       "0  1999-01-22 00:00:00-05:00  0.040129  0.044786  0.035590  0.037621   \n",
       "1  1999-01-25 00:00:00-05:00  0.040607  0.042039  0.037621  0.041562   \n",
       "2  1999-01-26 00:00:00-05:00  0.042039  0.042876  0.037740  0.038337   \n",
       "3  1999-01-27 00:00:00-05:00  0.038457  0.039412  0.036307  0.038218   \n",
       "4  1999-01-28 00:00:00-05:00  0.038218  0.038457  0.037859  0.038098   \n",
       "\n",
       "       Volume  Dividends  Stock Splits  \n",
       "0  2714688000        0.0           0.0  \n",
       "1   510480000        0.0           0.0  \n",
       "2   343200000        0.0           0.0  \n",
       "3   244368000        0.0           0.0  \n",
       "4   227520000        0.0           0.0  "
      ]
     },
     "execution_count": 8,
     "metadata": {},
     "output_type": "execute_result"
    }
   ],
   "source": [
    "# Getting Initial / Oldest 5 Records\n",
    "df.head(5)"
   ]
  },
  {
   "cell_type": "code",
   "execution_count": 9,
   "id": "c8154196-5718-45c5-aae4-ce942710b93b",
   "metadata": {},
   "outputs": [
    {
     "data": {
      "text/html": [
       "<div>\n",
       "<style scoped>\n",
       "    .dataframe tbody tr th:only-of-type {\n",
       "        vertical-align: middle;\n",
       "    }\n",
       "\n",
       "    .dataframe tbody tr th {\n",
       "        vertical-align: top;\n",
       "    }\n",
       "\n",
       "    .dataframe thead th {\n",
       "        text-align: right;\n",
       "    }\n",
       "</style>\n",
       "<table border=\"1\" class=\"dataframe\">\n",
       "  <thead>\n",
       "    <tr style=\"text-align: right;\">\n",
       "      <th></th>\n",
       "      <th>Date</th>\n",
       "      <th>Open</th>\n",
       "      <th>High</th>\n",
       "      <th>Low</th>\n",
       "      <th>Close</th>\n",
       "      <th>Volume</th>\n",
       "      <th>Dividends</th>\n",
       "      <th>Stock Splits</th>\n",
       "    </tr>\n",
       "  </thead>\n",
       "  <tbody>\n",
       "    <tr>\n",
       "      <th>6425</th>\n",
       "      <td>2024-08-06 00:00:00-04:00</td>\n",
       "      <td>103.839996</td>\n",
       "      <td>107.709999</td>\n",
       "      <td>100.550003</td>\n",
       "      <td>104.250000</td>\n",
       "      <td>409012100</td>\n",
       "      <td>0.0</td>\n",
       "      <td>0.0</td>\n",
       "    </tr>\n",
       "    <tr>\n",
       "      <th>6426</th>\n",
       "      <td>2024-08-07 00:00:00-04:00</td>\n",
       "      <td>107.809998</td>\n",
       "      <td>108.800003</td>\n",
       "      <td>98.690002</td>\n",
       "      <td>98.910004</td>\n",
       "      <td>411440400</td>\n",
       "      <td>0.0</td>\n",
       "      <td>0.0</td>\n",
       "    </tr>\n",
       "    <tr>\n",
       "      <th>6427</th>\n",
       "      <td>2024-08-08 00:00:00-04:00</td>\n",
       "      <td>102.000000</td>\n",
       "      <td>105.500000</td>\n",
       "      <td>97.519997</td>\n",
       "      <td>104.970001</td>\n",
       "      <td>391910000</td>\n",
       "      <td>0.0</td>\n",
       "      <td>0.0</td>\n",
       "    </tr>\n",
       "    <tr>\n",
       "      <th>6428</th>\n",
       "      <td>2024-08-09 00:00:00-04:00</td>\n",
       "      <td>105.639999</td>\n",
       "      <td>106.599998</td>\n",
       "      <td>103.430000</td>\n",
       "      <td>104.750000</td>\n",
       "      <td>290185600</td>\n",
       "      <td>0.0</td>\n",
       "      <td>0.0</td>\n",
       "    </tr>\n",
       "    <tr>\n",
       "      <th>6429</th>\n",
       "      <td>2024-08-12 00:00:00-04:00</td>\n",
       "      <td>106.320000</td>\n",
       "      <td>111.070000</td>\n",
       "      <td>106.275002</td>\n",
       "      <td>109.019997</td>\n",
       "      <td>321999066</td>\n",
       "      <td>0.0</td>\n",
       "      <td>0.0</td>\n",
       "    </tr>\n",
       "  </tbody>\n",
       "</table>\n",
       "</div>"
      ],
      "text/plain": [
       "                           Date        Open        High         Low  \\\n",
       "6425  2024-08-06 00:00:00-04:00  103.839996  107.709999  100.550003   \n",
       "6426  2024-08-07 00:00:00-04:00  107.809998  108.800003   98.690002   \n",
       "6427  2024-08-08 00:00:00-04:00  102.000000  105.500000   97.519997   \n",
       "6428  2024-08-09 00:00:00-04:00  105.639999  106.599998  103.430000   \n",
       "6429  2024-08-12 00:00:00-04:00  106.320000  111.070000  106.275002   \n",
       "\n",
       "           Close     Volume  Dividends  Stock Splits  \n",
       "6425  104.250000  409012100        0.0           0.0  \n",
       "6426   98.910004  411440400        0.0           0.0  \n",
       "6427  104.970001  391910000        0.0           0.0  \n",
       "6428  104.750000  290185600        0.0           0.0  \n",
       "6429  109.019997  321999066        0.0           0.0  "
      ]
     },
     "execution_count": 9,
     "metadata": {},
     "output_type": "execute_result"
    }
   ],
   "source": [
    "# Getting Final / Most Recent 5 Records\n",
    "df.tail(5)"
   ]
  },
  {
   "cell_type": "code",
   "execution_count": 10,
   "id": "38d29814-6afd-4ac2-a409-74aff8ad391e",
   "metadata": {},
   "outputs": [
    {
     "data": {
      "text/html": [
       "<div>\n",
       "<style scoped>\n",
       "    .dataframe tbody tr th:only-of-type {\n",
       "        vertical-align: middle;\n",
       "    }\n",
       "\n",
       "    .dataframe tbody tr th {\n",
       "        vertical-align: top;\n",
       "    }\n",
       "\n",
       "    .dataframe thead th {\n",
       "        text-align: right;\n",
       "    }\n",
       "</style>\n",
       "<table border=\"1\" class=\"dataframe\">\n",
       "  <thead>\n",
       "    <tr style=\"text-align: right;\">\n",
       "      <th></th>\n",
       "      <th>Date</th>\n",
       "    </tr>\n",
       "  </thead>\n",
       "  <tbody>\n",
       "    <tr>\n",
       "      <th>0</th>\n",
       "      <td>1999-01-22</td>\n",
       "    </tr>\n",
       "    <tr>\n",
       "      <th>1</th>\n",
       "      <td>1999-01-25</td>\n",
       "    </tr>\n",
       "    <tr>\n",
       "      <th>2</th>\n",
       "      <td>1999-01-26</td>\n",
       "    </tr>\n",
       "  </tbody>\n",
       "</table>\n",
       "</div>"
      ],
      "text/plain": [
       "         Date\n",
       "0  1999-01-22\n",
       "1  1999-01-25\n",
       "2  1999-01-26"
      ]
     },
     "execution_count": 10,
     "metadata": {},
     "output_type": "execute_result"
    }
   ],
   "source": [
    "# Formatting the Datetime in order to only keep the date\n",
    "df['Date'] = df['Date'].apply(lambda x: x.split(' ')[0])\n",
    "df[['Date']].head(3)"
   ]
  },
  {
   "cell_type": "code",
   "execution_count": 11,
   "id": "b411af9d-a8ca-4ae8-b2f0-8feb85ddca96",
   "metadata": {},
   "outputs": [
    {
     "data": {
      "text/html": [
       "<div>\n",
       "<style scoped>\n",
       "    .dataframe tbody tr th:only-of-type {\n",
       "        vertical-align: middle;\n",
       "    }\n",
       "\n",
       "    .dataframe tbody tr th {\n",
       "        vertical-align: top;\n",
       "    }\n",
       "\n",
       "    .dataframe thead th {\n",
       "        text-align: right;\n",
       "    }\n",
       "</style>\n",
       "<table border=\"1\" class=\"dataframe\">\n",
       "  <thead>\n",
       "    <tr style=\"text-align: right;\">\n",
       "      <th></th>\n",
       "      <th>Date</th>\n",
       "      <th>Close</th>\n",
       "    </tr>\n",
       "  </thead>\n",
       "  <tbody>\n",
       "    <tr>\n",
       "      <th>0</th>\n",
       "      <td>1999-01-22</td>\n",
       "      <td>0.037621</td>\n",
       "    </tr>\n",
       "    <tr>\n",
       "      <th>1</th>\n",
       "      <td>1999-01-25</td>\n",
       "      <td>0.041562</td>\n",
       "    </tr>\n",
       "    <tr>\n",
       "      <th>2</th>\n",
       "      <td>1999-01-26</td>\n",
       "      <td>0.038337</td>\n",
       "    </tr>\n",
       "  </tbody>\n",
       "</table>\n",
       "</div>"
      ],
      "text/plain": [
       "         Date     Close\n",
       "0  1999-01-22  0.037621\n",
       "1  1999-01-25  0.041562\n",
       "2  1999-01-26  0.038337"
      ]
     },
     "execution_count": 11,
     "metadata": {},
     "output_type": "execute_result"
    }
   ],
   "source": [
    "# Selecting Important Columns\n",
    "df = df[['Date', 'Close']]\n",
    "df.head(3)"
   ]
  },
  {
   "cell_type": "code",
   "execution_count": 12,
   "id": "e494ff45-4a1e-414f-a14e-fa6d3e3c8439",
   "metadata": {},
   "outputs": [],
   "source": [
    "# Defining a Function to convert the string dates of the dataset into datetime object instances\n",
    "def str_to_datetime(string_date:str) -> datetime:\n",
    "    \"\"\"\n",
    "    := param: string_date -> String that we want to convert into a datetime type object [Eg: '2003-10-10']\n",
    "    := return: Instance of Datetime based on the given date string\n",
    "    \"\"\"\n",
    "    # Fetching the year, month and day from the string and convert them into int\n",
    "    year, month, day = list(map(int, string_date.split('-')))\n",
    "\n",
    "    # Return a instance of datetime with the respective extracted attributes from the given string\n",
    "    return datetime(year=year, month=month, day=day)"
   ]
  },
  {
   "cell_type": "code",
   "execution_count": 13,
   "id": "ea59bfd9-623f-4018-9826-b8e5b4064bf6",
   "metadata": {},
   "outputs": [
    {
     "data": {
      "text/plain": [
       "datetime.datetime(1999, 1, 22, 0, 0)"
      ]
     },
     "execution_count": 13,
     "metadata": {},
     "output_type": "execute_result"
    }
   ],
   "source": [
    "# Getting a date string from the dataset [In this case it is the first one]\n",
    "first_date_datset = df['Date'][0]\n",
    "\n",
    "# Testing the previous function on the extracted date\n",
    "str_to_datetime(first_date_datset)"
   ]
  },
  {
   "cell_type": "code",
   "execution_count": 14,
   "id": "ed81738a-a697-48dd-ab64-105961e4e04b",
   "metadata": {},
   "outputs": [
    {
     "data": {
      "text/plain": [
       "0      1999-01-22\n",
       "1      1999-01-25\n",
       "2      1999-01-26\n",
       "3      1999-01-27\n",
       "4      1999-01-28\n",
       "          ...    \n",
       "6425   2024-08-06\n",
       "6426   2024-08-07\n",
       "6427   2024-08-08\n",
       "6428   2024-08-09\n",
       "6429   2024-08-12\n",
       "Name: Date, Length: 6430, dtype: datetime64[ns]"
      ]
     },
     "execution_count": 14,
     "metadata": {},
     "output_type": "execute_result"
    }
   ],
   "source": [
    "# Now, let's update the dataframe in order for the dates to be formated accordingly with this most recent approach\n",
    "df['Date'] = df['Date'].map(lambda date_string : str_to_datetime(date_string))\n",
    "\n",
    "# Inspect the result\n",
    "df['Date']"
   ]
  },
  {
   "cell_type": "code",
   "execution_count": 15,
   "id": "f7433913-da99-43d2-8ef4-97b0d0ebf63e",
   "metadata": {},
   "outputs": [],
   "source": [
    "# Saving the Earliest and Latest Dates to be considered\n",
    "earliest_date = str(df['Date'][N].date())\n",
    "latest_date = str(df['Date'][len(df) - 1].date())"
   ]
  },
  {
   "cell_type": "code",
   "execution_count": 16,
   "id": "d0229066-67bc-4162-9389-ea6dbc635990",
   "metadata": {},
   "outputs": [
    {
     "data": {
      "text/html": [
       "<div>\n",
       "<style scoped>\n",
       "    .dataframe tbody tr th:only-of-type {\n",
       "        vertical-align: middle;\n",
       "    }\n",
       "\n",
       "    .dataframe tbody tr th {\n",
       "        vertical-align: top;\n",
       "    }\n",
       "\n",
       "    .dataframe thead th {\n",
       "        text-align: right;\n",
       "    }\n",
       "</style>\n",
       "<table border=\"1\" class=\"dataframe\">\n",
       "  <thead>\n",
       "    <tr style=\"text-align: right;\">\n",
       "      <th></th>\n",
       "      <th>Close</th>\n",
       "    </tr>\n",
       "    <tr>\n",
       "      <th>Date</th>\n",
       "      <th></th>\n",
       "    </tr>\n",
       "  </thead>\n",
       "  <tbody>\n",
       "    <tr>\n",
       "      <th>1999-01-22</th>\n",
       "      <td>0.037621</td>\n",
       "    </tr>\n",
       "    <tr>\n",
       "      <th>1999-01-25</th>\n",
       "      <td>0.041562</td>\n",
       "    </tr>\n",
       "    <tr>\n",
       "      <th>1999-01-26</th>\n",
       "      <td>0.038337</td>\n",
       "    </tr>\n",
       "  </tbody>\n",
       "</table>\n",
       "</div>"
      ],
      "text/plain": [
       "               Close\n",
       "Date                \n",
       "1999-01-22  0.037621\n",
       "1999-01-25  0.041562\n",
       "1999-01-26  0.038337"
      ]
     },
     "execution_count": 16,
     "metadata": {},
     "output_type": "execute_result"
    }
   ],
   "source": [
    "# Set the Date column as the index column\n",
    "df.set_index('Date', inplace=True)\n",
    "\n",
    "# Inspect the dataframe\n",
    "df.head(3)"
   ]
  },
  {
   "cell_type": "code",
   "execution_count": 17,
   "id": "29a32c1c-5d3d-4836-8b6e-3fbd6056583f",
   "metadata": {},
   "outputs": [
    {
     "data": {
      "text/plain": [
       "[<matplotlib.lines.Line2D at 0x1ad15480730>]"
      ]
     },
     "execution_count": 17,
     "metadata": {},
     "output_type": "execute_result"
    },
    {
     "data": {
      "image/png": "[encoded data removed]",
      "text/plain": [
       "<Figure size 640x480 with 1 Axes>"
      ]
     },
     "metadata": {},
     "output_type": "display_data"
    }
   ],
   "source": [
    "# Plotting the Closing Values of the Stock throughout the years\n",
    "plt.plot(df.index, df['Close'])"
   ]
  },
  {
   "cell_type": "code",
   "execution_count": 18,
   "id": "3d8b473e-8fde-44fb-a56d-9914fe65a216",
   "metadata": {},
   "outputs": [],
   "source": [
    "# Since we are going to use a LSTM model, we need to convert the provlem into a supervised learning problem\n",
    "\n",
    "# This function creates a Dataframe with multiple target columns which are going to\n",
    "# be used within the long short-term memory model\n",
    "\n",
    "# It focus at each instant and it's previous n values to which it will use to train the model and use the real value to control the error fluctuation of the model\n",
    "def df_to_windowed_df(dataframe:pd.DataFrame, first_date_str:str, last_date_str:str, n:int=3) -> pd.DataFrame:\n",
    "    \"\"\"\n",
    "    := param: dataframe - Pandas Dataframe with the csv file of the Stock Market History\n",
    "    := param: first_date_str - First date to consider for the data extraction\n",
    "    := param: last_date_str - Last date to consider for the data extraction\n",
    "    := param: n - Number of previous instances to consider when predicting a n+1 instance of the stock market value\n",
    "\n",
    "    := return: Dataframe with the Target Values alongside the Nth previous values as well as with the corresponding dates\n",
    "    \"\"\"\n",
    "    \n",
    "    # Converting the string dates\n",
    "    first_date = str_to_datetime(first_date_str)\n",
    "    last_date = str_to_datetime(last_date_str)\n",
    "\n",
    "    # Defining a current date to be iterated over\n",
    "    target_date = first_date\n",
    "    dates, X, Y = [], [], []\n",
    "    \n",
    "    # Creating a flag to determine the last time...\n",
    "    last_time = False\n",
    "\n",
    "    while True:\n",
    "        # Selecting a Subset of the datafrane \n",
    "        df_subset = dataframe.loc[:target_date].tail(n+1)\n",
    "\n",
    "        if df_subset.shape[0] != n+1:\n",
    "            print(f'[ERROR]: Window of Size {n} is too large for date {target_date}')\n",
    "            return\n",
    "\n",
    "        # Getting the closing values for the current subset (Current time interval [initial_date - current_date(updates at each new iteration on the while cycle)])\n",
    "        values = df_subset['Close'].to_numpy()\n",
    "        \n",
    "        # Spliting the values into \n",
    "        x, y = values[:-1], values[-1]\n",
    "        \n",
    "        # Update the initial lists with the new values\n",
    "        dates.append(target_date)\n",
    "        X.append(x)\n",
    "        Y.append(y)\n",
    "        \n",
    "        # Getting the date for the next week -> We consider consecutive entries the ones that are 1 week apart\n",
    "        next_week = dataframe.loc[target_date:target_date + timedelta(days=7)]\n",
    "        next_datetime_str = str(next_week.head(2).tail(1).index.values[0])\n",
    "        next_date_str = next_datetime_str.split('T')[0]\n",
    "        \n",
    "        # Extracting the year, month and day\n",
    "        year, month, day = list(map(int, next_date_str.split('-')))\n",
    "        \n",
    "        # Create a new instance of datetime for the next date (date to consider for the next iteration)\n",
    "        next_date = datetime(year=year, month=month, day=day)\n",
    "\n",
    "        # Reached the Final / Target date\n",
    "        if last_time:\n",
    "            break\n",
    "\n",
    "        # Updating the Target Date\n",
    "        target_date = next_date\n",
    "\n",
    "        # Current Date == Last Date to consider\n",
    "        if target_date == last_date:\n",
    "            last_time = True\n",
    "\n",
    "    # Initializing the Target Dataframe with all the valid dates to which we want to train the model with\n",
    "    target_df = pd.DataFrame({})\n",
    "    target_df['Target_Date'] = dates\n",
    "    \n",
    "    # Converting the X list into a numpy array\n",
    "    X = np.array(X, dtype='object')\n",
    "    \n",
    "    # For each entry in the dataset, we look for the i - <n> entry and add it as a new column to the dataframe\n",
    "    for i in range(0, n):\n",
    "        # X[:, i]\n",
    "        target_df[f'Target-{n-i}'] = X[:, i]\n",
    "\n",
    "    target_df['Target'] = Y\n",
    "\n",
    "    # Return the new dataframe\n",
    "    return target_df"
   ]
  },
  {
   "cell_type": "code",
   "execution_count": 19,
   "id": "2f16808f-4d00-4e7c-95c0-fcafb17b2d60",
   "metadata": {},
   "outputs": [
    {
     "data": {
      "text/html": [
       "<div>\n",
       "<style scoped>\n",
       "    .dataframe tbody tr th:only-of-type {\n",
       "        vertical-align: middle;\n",
       "    }\n",
       "\n",
       "    .dataframe tbody tr th {\n",
       "        vertical-align: top;\n",
       "    }\n",
       "\n",
       "    .dataframe thead th {\n",
       "        text-align: right;\n",
       "    }\n",
       "</style>\n",
       "<table border=\"1\" class=\"dataframe\">\n",
       "  <thead>\n",
       "    <tr style=\"text-align: right;\">\n",
       "      <th></th>\n",
       "      <th>Target_Date</th>\n",
       "      <th>Target-3</th>\n",
       "      <th>Target-2</th>\n",
       "      <th>Target-1</th>\n",
       "      <th>Target</th>\n",
       "    </tr>\n",
       "  </thead>\n",
       "  <tbody>\n",
       "    <tr>\n",
       "      <th>0</th>\n",
       "      <td>1999-01-27</td>\n",
       "      <td>0.037621</td>\n",
       "      <td>0.041562</td>\n",
       "      <td>0.038337</td>\n",
       "      <td>0.038218</td>\n",
       "    </tr>\n",
       "    <tr>\n",
       "      <th>1</th>\n",
       "      <td>1999-01-28</td>\n",
       "      <td>0.041562</td>\n",
       "      <td>0.038337</td>\n",
       "      <td>0.038218</td>\n",
       "      <td>0.038098</td>\n",
       "    </tr>\n",
       "    <tr>\n",
       "      <th>2</th>\n",
       "      <td>1999-01-29</td>\n",
       "      <td>0.038337</td>\n",
       "      <td>0.038218</td>\n",
       "      <td>0.038098</td>\n",
       "      <td>0.036307</td>\n",
       "    </tr>\n",
       "    <tr>\n",
       "      <th>3</th>\n",
       "      <td>1999-02-01</td>\n",
       "      <td>0.038218</td>\n",
       "      <td>0.038098</td>\n",
       "      <td>0.036307</td>\n",
       "      <td>0.037024</td>\n",
       "    </tr>\n",
       "    <tr>\n",
       "      <th>4</th>\n",
       "      <td>1999-02-02</td>\n",
       "      <td>0.038098</td>\n",
       "      <td>0.036307</td>\n",
       "      <td>0.037024</td>\n",
       "      <td>0.034158</td>\n",
       "    </tr>\n",
       "    <tr>\n",
       "      <th>...</th>\n",
       "      <td>...</td>\n",
       "      <td>...</td>\n",
       "      <td>...</td>\n",
       "      <td>...</td>\n",
       "      <td>...</td>\n",
       "    </tr>\n",
       "    <tr>\n",
       "      <th>6422</th>\n",
       "      <td>2024-08-06</td>\n",
       "      <td>109.209999</td>\n",
       "      <td>107.269997</td>\n",
       "      <td>100.449997</td>\n",
       "      <td>104.250000</td>\n",
       "    </tr>\n",
       "    <tr>\n",
       "      <th>6423</th>\n",
       "      <td>2024-08-07</td>\n",
       "      <td>107.269997</td>\n",
       "      <td>100.449997</td>\n",
       "      <td>104.25</td>\n",
       "      <td>98.910004</td>\n",
       "    </tr>\n",
       "    <tr>\n",
       "      <th>6424</th>\n",
       "      <td>2024-08-08</td>\n",
       "      <td>100.449997</td>\n",
       "      <td>104.25</td>\n",
       "      <td>98.910004</td>\n",
       "      <td>104.970001</td>\n",
       "    </tr>\n",
       "    <tr>\n",
       "      <th>6425</th>\n",
       "      <td>2024-08-09</td>\n",
       "      <td>104.25</td>\n",
       "      <td>98.910004</td>\n",
       "      <td>104.970001</td>\n",
       "      <td>104.750000</td>\n",
       "    </tr>\n",
       "    <tr>\n",
       "      <th>6426</th>\n",
       "      <td>2024-08-12</td>\n",
       "      <td>98.910004</td>\n",
       "      <td>104.970001</td>\n",
       "      <td>104.75</td>\n",
       "      <td>109.019997</td>\n",
       "    </tr>\n",
       "  </tbody>\n",
       "</table>\n",
       "<p>6427 rows × 5 columns</p>\n",
       "</div>"
      ],
      "text/plain": [
       "     Target_Date    Target-3    Target-2    Target-1      Target\n",
       "0     1999-01-27    0.037621    0.041562    0.038337    0.038218\n",
       "1     1999-01-28    0.041562    0.038337    0.038218    0.038098\n",
       "2     1999-01-29    0.038337    0.038218    0.038098    0.036307\n",
       "3     1999-02-01    0.038218    0.038098    0.036307    0.037024\n",
       "4     1999-02-02    0.038098    0.036307    0.037024    0.034158\n",
       "...          ...         ...         ...         ...         ...\n",
       "6422  2024-08-06  109.209999  107.269997  100.449997  104.250000\n",
       "6423  2024-08-07  107.269997  100.449997      104.25   98.910004\n",
       "6424  2024-08-08  100.449997      104.25   98.910004  104.970001\n",
       "6425  2024-08-09      104.25   98.910004  104.970001  104.750000\n",
       "6426  2024-08-12   98.910004  104.970001      104.75  109.019997\n",
       "\n",
       "[6427 rows x 5 columns]"
      ]
     },
     "execution_count": 19,
     "metadata": {},
     "output_type": "execute_result"
    }
   ],
   "source": [
    "# Extracting the previous N values of each possible instant along with the target value\n",
    "windowed_df = df_to_windowed_df(df, \n",
    "                                earliest_date, \n",
    "                                latest_date, \n",
    "                                n=N)\n",
    "windowed_df"
   ]
  },
  {
   "cell_type": "code",
   "execution_count": 20,
   "id": "914ba746-06b6-4b97-8e11-50fd8e639b08",
   "metadata": {},
   "outputs": [],
   "source": [
    "def windowed_df_to_date_X_y(windowed_df:pd.DataFrame) -> (np.ndarray, np.ndarray, np.ndarray):\n",
    "    \"\"\"\n",
    "    := param: windowed_df - Dataframe with the proper extracted and formated data to later feed models / Tensors\n",
    "    := return: A list of Dates, a multi-dimensional (Nth Dimensional to be precise) input matrix X and the target values y\n",
    "    \"\"\"\n",
    "\n",
    "    # Convert the whole dataframe into a numpy array\n",
    "    df_numpy = windowed_df.to_numpy()\n",
    "\n",
    "    # Get a list with the dates\n",
    "    dates = df_numpy[:, 0]\n",
    "\n",
    "    # Filter the input values and reshape them into a matrix\n",
    "    input_matrix = df_numpy[:, 1:-1]\n",
    "    X = input_matrix.reshape((len(dates), input_matrix.shape[1], 1))\n",
    "\n",
    "    # Get the ouput vector\n",
    "    y = df_numpy[:, -1]\n",
    "\n",
    "    # Return the dates, the input and output vectors\n",
    "    return dates, X.astype(np.float32), y.astype(np.float32)"
   ]
  },
  {
   "cell_type": "code",
   "execution_count": 21,
   "id": "04eeb8f9-3b67-4604-8d4a-7e5eea91b49a",
   "metadata": {},
   "outputs": [
    {
     "name": "stdout",
     "output_type": "stream",
     "text": [
      "dates.shape=(6427,) X.shape=(6427, 3, 1) y.shape=(6427,)\n"
     ]
    }
   ],
   "source": [
    "# Get the Dates as well as the input and output vectors\n",
    "dates, X, y = windowed_df_to_date_X_y(windowed_df)\n",
    "\n",
    "# Verifying the shape of each vector\n",
    "print(f\"{dates.shape=} {X.shape=} {y.shape=}\")\n",
    "assert dates.shape[0] == X.shape[0] and dates.shape[0] == y.shape[0], \"Vectors shape not Matching!\""
   ]
  },
  {
   "cell_type": "markdown",
   "id": "ec17b70c-6873-4ffb-a691-5ac7fe5135a5",
   "metadata": {},
   "source": [
    "---\n",
    "## Data Partitioning (Train - Validation - Test)\n",
    "---\n",
    "\n",
    "Now it's time to partition the clean data into proper feature and target vectors (X and y)."
   ]
  },
  {
   "cell_type": "code",
   "execution_count": 22,
   "id": "f49e3aa3-ed90-4f55-a47b-47694e5aba42",
   "metadata": {},
   "outputs": [],
   "source": [
    "# Getting the threshold values for train and validation (To which values should we consider as train/validation sets)\n",
    "train_threshold = int(len(dates) * .8)\n",
    "validation_threshold = int(len(dates) * .9)\n",
    "\n",
    "# Get the Train data\n",
    "dates_train = dates[:train_threshold]\n",
    "X_train = X[:train_threshold]\n",
    "y_train = y[:train_threshold]\n",
    "\n",
    "# Get the Validation data\n",
    "dates_validation = dates[train_threshold : validation_threshold]\n",
    "X_validation = X[train_threshold : validation_threshold]\n",
    "y_validation = y[train_threshold : validation_threshold]\n",
    "\n",
    "# Get the Test data\n",
    "dates_test = dates[validation_threshold:]\n",
    "X_test = X[validation_threshold:]\n",
    "y_test = y[validation_threshold:]"
   ]
  },
  {
   "cell_type": "code",
   "execution_count": 23,
   "id": "98207777-89d5-4c15-9f2a-d4dc8413e78e",
   "metadata": {},
   "outputs": [
    {
     "data": {
      "image/png": "[encoded data removed]",
      "text/plain": [
       "<Figure size 640x480 with 1 Axes>"
      ]
     },
     "metadata": {},
     "output_type": "display_data"
    }
   ],
   "source": [
    "# Plot the Partitioning of the Data (Inspect which values are being used in each set)\n",
    "plt.plot(dates_train, y_train)\n",
    "plt.plot(dates_validation, y_validation)\n",
    "plt.plot(dates_test, y_test)\n",
    "plt.legend(['Train', 'Validation', 'Test']);"
   ]
  },
  {
   "cell_type": "markdown",
   "id": "65811b7b-be39-4e71-ba28-76cf77824b7c",
   "metadata": {},
   "source": [
    "---\n",
    "## Model Development\n",
    "---"
   ]
  },
  {
   "cell_type": "code",
   "execution_count": 24,
   "id": "94f82a94-5272-4183-a13d-c6fa6af957f9",
   "metadata": {},
   "outputs": [],
   "source": [
    "# Build the Architecture of the Model\n",
    "model = Sequential([layers.Input((N,1)),\n",
    "                    layers.LSTM(64),\n",
    "                    layers.Dense(32, activation='relu'),\n",
    "                    layers.Dense(32, activation='relu'),\n",
    "                    layers.Dense(1)])"
   ]
  },
  {
   "cell_type": "code",
   "execution_count": 25,
   "id": "55b6cfa3-13da-461d-bf40-d4caa3ac4796",
   "metadata": {},
   "outputs": [],
   "source": [
    "# Insert information to Compile the Model -> Add the Loss Function, the Optimizer and the metrics to consider\n",
    "# Loss : Mean Squared Error\n",
    "# Optimizer : Adam with learning rate of 0.001\n",
    "# Metrics : Mean Absolute Error\n",
    "model.compile(loss='mse',\n",
    "              optimizer=Adam(learning_rate=0.001),\n",
    "              metrics=['mean_absolute_error'])"
   ]
  },
  {
   "cell_type": "code",
   "execution_count": 26,
   "id": "78e054e3-82c7-400d-8e7f-dc1c003f785d",
   "metadata": {
    "scrolled": true
   },
   "outputs": [
    {
     "name": "stdout",
     "output_type": "stream",
     "text": [
      "Epoch 1/100\n",
      "161/161 [==============================] - 4s 7ms/step - loss: 0.4230 - mean_absolute_error: 0.2310 - val_loss: 81.3221 - val_mean_absolute_error: 6.1746\n",
      "Epoch 2/100\n",
      "161/161 [==============================] - 1s 4ms/step - loss: 0.0071 - mean_absolute_error: 0.0363 - val_loss: 71.2373 - val_mean_absolute_error: 5.6319\n",
      "Epoch 3/100\n",
      "161/161 [==============================] - 1s 5ms/step - loss: 0.0053 - mean_absolute_error: 0.0314 - val_loss: 65.9562 - val_mean_absolute_error: 5.3331\n",
      "Epoch 4/100\n",
      "161/161 [==============================] - 1s 4ms/step - loss: 0.0045 - mean_absolute_error: 0.0298 - val_loss: 61.6598 - val_mean_absolute_error: 5.0871\n",
      "Epoch 5/100\n",
      "161/161 [==============================] - 1s 4ms/step - loss: 0.0043 - mean_absolute_error: 0.0282 - val_loss: 58.7083 - val_mean_absolute_error: 4.9245\n",
      "Epoch 6/100\n",
      "161/161 [==============================] - 1s 4ms/step - loss: 0.0042 - mean_absolute_error: 0.0297 - val_loss: 55.4146 - val_mean_absolute_error: 4.7235\n",
      "Epoch 7/100\n",
      "161/161 [==============================] - 1s 4ms/step - loss: 0.0038 - mean_absolute_error: 0.0282 - val_loss: 53.0179 - val_mean_absolute_error: 4.5811\n",
      "Epoch 8/100\n",
      "161/161 [==============================] - 1s 4ms/step - loss: 0.0036 - mean_absolute_error: 0.0261 - val_loss: 50.4667 - val_mean_absolute_error: 4.4260\n",
      "Epoch 9/100\n",
      "161/161 [==============================] - 1s 4ms/step - loss: 0.0039 - mean_absolute_error: 0.0283 - val_loss: 47.6679 - val_mean_absolute_error: 4.2452\n",
      "Epoch 10/100\n",
      "161/161 [==============================] - 1s 4ms/step - loss: 0.0038 - mean_absolute_error: 0.0269 - val_loss: 47.4156 - val_mean_absolute_error: 4.2661\n",
      "Epoch 11/100\n",
      "161/161 [==============================] - 1s 5ms/step - loss: 0.0036 - mean_absolute_error: 0.0279 - val_loss: 46.2748 - val_mean_absolute_error: 4.2215\n",
      "Epoch 12/100\n",
      "161/161 [==============================] - 1s 5ms/step - loss: 0.0036 - mean_absolute_error: 0.0270 - val_loss: 45.5740 - val_mean_absolute_error: 4.2244\n",
      "Epoch 13/100\n",
      "161/161 [==============================] - 1s 4ms/step - loss: 0.0035 - mean_absolute_error: 0.0266 - val_loss: 42.2551 - val_mean_absolute_error: 3.9254\n",
      "Epoch 14/100\n",
      "161/161 [==============================] - 1s 5ms/step - loss: 0.0031 - mean_absolute_error: 0.0252 - val_loss: 40.8279 - val_mean_absolute_error: 3.8429\n",
      "Epoch 15/100\n",
      "161/161 [==============================] - 1s 4ms/step - loss: 0.0034 - mean_absolute_error: 0.0257 - val_loss: 39.3049 - val_mean_absolute_error: 3.7266\n",
      "Epoch 16/100\n",
      "161/161 [==============================] - 1s 4ms/step - loss: 0.0035 - mean_absolute_error: 0.0266 - val_loss: 38.0901 - val_mean_absolute_error: 3.6388\n",
      "Epoch 17/100\n",
      "161/161 [==============================] - 1s 5ms/step - loss: 0.0031 - mean_absolute_error: 0.0256 - val_loss: 37.5847 - val_mean_absolute_error: 3.6500\n",
      "Epoch 18/100\n",
      "161/161 [==============================] - 1s 4ms/step - loss: 0.0030 - mean_absolute_error: 0.0233 - val_loss: 35.8554 - val_mean_absolute_error: 3.5090\n",
      "Epoch 19/100\n",
      "161/161 [==============================] - 1s 4ms/step - loss: 0.0033 - mean_absolute_error: 0.0253 - val_loss: 34.9363 - val_mean_absolute_error: 3.4467\n",
      "Epoch 20/100\n",
      "161/161 [==============================] - 1s 5ms/step - loss: 0.0034 - mean_absolute_error: 0.0275 - val_loss: 33.2600 - val_mean_absolute_error: 3.3020\n",
      "Epoch 21/100\n",
      "161/161 [==============================] - 1s 5ms/step - loss: 0.0041 - mean_absolute_error: 0.0296 - val_loss: 33.7777 - val_mean_absolute_error: 3.3558\n",
      "Epoch 22/100\n",
      "161/161 [==============================] - 1s 4ms/step - loss: 0.0030 - mean_absolute_error: 0.0240 - val_loss: 34.0147 - val_mean_absolute_error: 3.4376\n",
      "Epoch 23/100\n",
      "161/161 [==============================] - 1s 4ms/step - loss: 0.0030 - mean_absolute_error: 0.0243 - val_loss: 31.4694 - val_mean_absolute_error: 3.1727\n",
      "Epoch 24/100\n",
      "161/161 [==============================] - 1s 4ms/step - loss: 0.0034 - mean_absolute_error: 0.0275 - val_loss: 31.0900 - val_mean_absolute_error: 3.1569\n",
      "Epoch 25/100\n",
      "161/161 [==============================] - 1s 5ms/step - loss: 0.0038 - mean_absolute_error: 0.0286 - val_loss: 31.2165 - val_mean_absolute_error: 3.1806\n",
      "Epoch 26/100\n",
      "161/161 [==============================] - 1s 4ms/step - loss: 0.0041 - mean_absolute_error: 0.0296 - val_loss: 30.4463 - val_mean_absolute_error: 3.0943\n",
      "Epoch 27/100\n",
      "161/161 [==============================] - 1s 4ms/step - loss: 0.0034 - mean_absolute_error: 0.0268 - val_loss: 31.7803 - val_mean_absolute_error: 3.2949\n",
      "Epoch 28/100\n",
      "161/161 [==============================] - 1s 4ms/step - loss: 0.0053 - mean_absolute_error: 0.0346 - val_loss: 31.6167 - val_mean_absolute_error: 3.2471\n",
      "Epoch 29/100\n",
      "161/161 [==============================] - 1s 4ms/step - loss: 0.0028 - mean_absolute_error: 0.0241 - val_loss: 30.2114 - val_mean_absolute_error: 3.1090\n",
      "Epoch 30/100\n",
      "161/161 [==============================] - 1s 4ms/step - loss: 0.0033 - mean_absolute_error: 0.0266 - val_loss: 29.9531 - val_mean_absolute_error: 3.0815\n",
      "Epoch 31/100\n",
      "161/161 [==============================] - 1s 4ms/step - loss: 0.0027 - mean_absolute_error: 0.0227 - val_loss: 28.8220 - val_mean_absolute_error: 2.9799\n",
      "Epoch 32/100\n",
      "161/161 [==============================] - 1s 4ms/step - loss: 0.0027 - mean_absolute_error: 0.0221 - val_loss: 30.3452 - val_mean_absolute_error: 3.1957\n",
      "Epoch 33/100\n",
      "161/161 [==============================] - 1s 4ms/step - loss: 0.0031 - mean_absolute_error: 0.0256 - val_loss: 29.0935 - val_mean_absolute_error: 3.0447\n",
      "Epoch 34/100\n",
      "161/161 [==============================] - 1s 4ms/step - loss: 0.0030 - mean_absolute_error: 0.0235 - val_loss: 29.6216 - val_mean_absolute_error: 3.1308\n",
      "Epoch 35/100\n",
      "161/161 [==============================] - 1s 4ms/step - loss: 0.0034 - mean_absolute_error: 0.0279 - val_loss: 28.8599 - val_mean_absolute_error: 3.0636\n",
      "Epoch 36/100\n",
      "161/161 [==============================] - 1s 4ms/step - loss: 0.0027 - mean_absolute_error: 0.0237 - val_loss: 26.9084 - val_mean_absolute_error: 2.8443\n",
      "Epoch 37/100\n",
      "161/161 [==============================] - 1s 4ms/step - loss: 0.0033 - mean_absolute_error: 0.0251 - val_loss: 27.1995 - val_mean_absolute_error: 2.8526\n",
      "Epoch 38/100\n",
      "161/161 [==============================] - 1s 4ms/step - loss: 0.0033 - mean_absolute_error: 0.0269 - val_loss: 28.5919 - val_mean_absolute_error: 3.0030\n",
      "Epoch 39/100\n",
      "161/161 [==============================] - 1s 4ms/step - loss: 0.0027 - mean_absolute_error: 0.0233 - val_loss: 28.0024 - val_mean_absolute_error: 2.9379\n",
      "Epoch 40/100\n",
      "161/161 [==============================] - 1s 4ms/step - loss: 0.0038 - mean_absolute_error: 0.0288 - val_loss: 28.6679 - val_mean_absolute_error: 3.0044\n",
      "Epoch 41/100\n",
      "161/161 [==============================] - 1s 4ms/step - loss: 0.0032 - mean_absolute_error: 0.0246 - val_loss: 28.3453 - val_mean_absolute_error: 2.9599\n",
      "Epoch 42/100\n",
      "161/161 [==============================] - 1s 4ms/step - loss: 0.0031 - mean_absolute_error: 0.0240 - val_loss: 28.9085 - val_mean_absolute_error: 3.0373\n",
      "Epoch 43/100\n",
      "161/161 [==============================] - 1s 4ms/step - loss: 0.0027 - mean_absolute_error: 0.0229 - val_loss: 29.3104 - val_mean_absolute_error: 3.0384\n",
      "Epoch 44/100\n",
      "161/161 [==============================] - 1s 4ms/step - loss: 0.0028 - mean_absolute_error: 0.0241 - val_loss: 28.9553 - val_mean_absolute_error: 2.9945\n",
      "Epoch 45/100\n",
      "161/161 [==============================] - 1s 4ms/step - loss: 0.0031 - mean_absolute_error: 0.0247 - val_loss: 28.7871 - val_mean_absolute_error: 2.9794\n",
      "Epoch 46/100\n",
      "161/161 [==============================] - 1s 4ms/step - loss: 0.0033 - mean_absolute_error: 0.0256 - val_loss: 29.2825 - val_mean_absolute_error: 3.0061\n",
      "Epoch 47/100\n",
      "161/161 [==============================] - 1s 4ms/step - loss: 0.0032 - mean_absolute_error: 0.0254 - val_loss: 30.1967 - val_mean_absolute_error: 3.0740\n",
      "Epoch 48/100\n",
      "161/161 [==============================] - 1s 4ms/step - loss: 0.0027 - mean_absolute_error: 0.0230 - val_loss: 30.6203 - val_mean_absolute_error: 3.1171\n",
      "Epoch 49/100\n",
      "161/161 [==============================] - 1s 4ms/step - loss: 0.0030 - mean_absolute_error: 0.0251 - val_loss: 30.3053 - val_mean_absolute_error: 3.0921\n",
      "Epoch 50/100\n",
      "161/161 [==============================] - 1s 4ms/step - loss: 0.0027 - mean_absolute_error: 0.0235 - val_loss: 31.1837 - val_mean_absolute_error: 3.1662\n",
      "Epoch 51/100\n",
      "161/161 [==============================] - 1s 4ms/step - loss: 0.0026 - mean_absolute_error: 0.0213 - val_loss: 31.2332 - val_mean_absolute_error: 3.1544\n",
      "Epoch 52/100\n",
      "161/161 [==============================] - 1s 4ms/step - loss: 0.0031 - mean_absolute_error: 0.0247 - val_loss: 31.9132 - val_mean_absolute_error: 3.1796\n",
      "Epoch 53/100\n",
      "161/161 [==============================] - 1s 4ms/step - loss: 0.0033 - mean_absolute_error: 0.0263 - val_loss: 31.6521 - val_mean_absolute_error: 3.1631\n",
      "Epoch 54/100\n",
      "161/161 [==============================] - 1s 4ms/step - loss: 0.0032 - mean_absolute_error: 0.0247 - val_loss: 32.0797 - val_mean_absolute_error: 3.2320\n",
      "Epoch 55/100\n",
      "161/161 [==============================] - 1s 4ms/step - loss: 0.0030 - mean_absolute_error: 0.0233 - val_loss: 31.6474 - val_mean_absolute_error: 3.1605\n",
      "Epoch 56/100\n",
      "161/161 [==============================] - 1s 4ms/step - loss: 0.0038 - mean_absolute_error: 0.0279 - val_loss: 34.7668 - val_mean_absolute_error: 3.4201\n",
      "Epoch 57/100\n",
      "161/161 [==============================] - 1s 4ms/step - loss: 0.0030 - mean_absolute_error: 0.0249 - val_loss: 34.0732 - val_mean_absolute_error: 3.3567\n",
      "Epoch 58/100\n",
      "161/161 [==============================] - 1s 4ms/step - loss: 0.0028 - mean_absolute_error: 0.0223 - val_loss: 33.6870 - val_mean_absolute_error: 3.3492\n",
      "Epoch 59/100\n",
      "161/161 [==============================] - 1s 4ms/step - loss: 0.0031 - mean_absolute_error: 0.0243 - val_loss: 33.6271 - val_mean_absolute_error: 3.3303\n",
      "Epoch 60/100\n",
      "161/161 [==============================] - 1s 4ms/step - loss: 0.0029 - mean_absolute_error: 0.0241 - val_loss: 34.8735 - val_mean_absolute_error: 3.4294\n",
      "Epoch 61/100\n",
      "161/161 [==============================] - 1s 4ms/step - loss: 0.0027 - mean_absolute_error: 0.0229 - val_loss: 33.7540 - val_mean_absolute_error: 3.3238\n",
      "Epoch 62/100\n",
      "161/161 [==============================] - 1s 4ms/step - loss: 0.0031 - mean_absolute_error: 0.0236 - val_loss: 32.8973 - val_mean_absolute_error: 3.2575\n",
      "Epoch 63/100\n",
      "161/161 [==============================] - 1s 4ms/step - loss: 0.0028 - mean_absolute_error: 0.0230 - val_loss: 34.3133 - val_mean_absolute_error: 3.4141\n",
      "Epoch 64/100\n",
      "161/161 [==============================] - 1s 4ms/step - loss: 0.0027 - mean_absolute_error: 0.0227 - val_loss: 36.2187 - val_mean_absolute_error: 3.5470\n",
      "Epoch 65/100\n",
      "161/161 [==============================] - 1s 4ms/step - loss: 0.0027 - mean_absolute_error: 0.0225 - val_loss: 35.0452 - val_mean_absolute_error: 3.4275\n",
      "Epoch 66/100\n",
      "161/161 [==============================] - 1s 4ms/step - loss: 0.0026 - mean_absolute_error: 0.0221 - val_loss: 34.5427 - val_mean_absolute_error: 3.3773\n",
      "Epoch 67/100\n",
      "161/161 [==============================] - 1s 4ms/step - loss: 0.0029 - mean_absolute_error: 0.0233 - val_loss: 37.4787 - val_mean_absolute_error: 3.6462\n",
      "Epoch 68/100\n",
      "161/161 [==============================] - 1s 4ms/step - loss: 0.0030 - mean_absolute_error: 0.0237 - val_loss: 36.0185 - val_mean_absolute_error: 3.5532\n",
      "Epoch 69/100\n",
      "161/161 [==============================] - 1s 4ms/step - loss: 0.0032 - mean_absolute_error: 0.0260 - val_loss: 36.8828 - val_mean_absolute_error: 3.5707\n",
      "Epoch 70/100\n",
      "161/161 [==============================] - 1s 4ms/step - loss: 0.0030 - mean_absolute_error: 0.0235 - val_loss: 35.6567 - val_mean_absolute_error: 3.4817\n",
      "Epoch 71/100\n",
      "161/161 [==============================] - 1s 4ms/step - loss: 0.0027 - mean_absolute_error: 0.0231 - val_loss: 34.0187 - val_mean_absolute_error: 3.3558\n",
      "Epoch 72/100\n",
      "161/161 [==============================] - 1s 4ms/step - loss: 0.0029 - mean_absolute_error: 0.0234 - val_loss: 36.9280 - val_mean_absolute_error: 3.5938\n",
      "Epoch 73/100\n",
      "161/161 [==============================] - 1s 4ms/step - loss: 0.0027 - mean_absolute_error: 0.0213 - val_loss: 36.4344 - val_mean_absolute_error: 3.5666\n",
      "Epoch 74/100\n",
      "161/161 [==============================] - 1s 4ms/step - loss: 0.0032 - mean_absolute_error: 0.0249 - val_loss: 35.6853 - val_mean_absolute_error: 3.4771\n",
      "Epoch 75/100\n",
      "161/161 [==============================] - 1s 4ms/step - loss: 0.0028 - mean_absolute_error: 0.0220 - val_loss: 36.6965 - val_mean_absolute_error: 3.5689\n",
      "Epoch 76/100\n",
      "161/161 [==============================] - 1s 4ms/step - loss: 0.0027 - mean_absolute_error: 0.0214 - val_loss: 37.1307 - val_mean_absolute_error: 3.6537\n",
      "Epoch 77/100\n",
      "161/161 [==============================] - 1s 4ms/step - loss: 0.0025 - mean_absolute_error: 0.0214 - val_loss: 33.9664 - val_mean_absolute_error: 3.3454\n",
      "Epoch 78/100\n",
      "161/161 [==============================] - 1s 4ms/step - loss: 0.0031 - mean_absolute_error: 0.0251 - val_loss: 33.7520 - val_mean_absolute_error: 3.3315\n",
      "Epoch 79/100\n",
      "161/161 [==============================] - 1s 4ms/step - loss: 0.0028 - mean_absolute_error: 0.0233 - val_loss: 34.6437 - val_mean_absolute_error: 3.4132\n",
      "Epoch 80/100\n",
      "161/161 [==============================] - 1s 4ms/step - loss: 0.0030 - mean_absolute_error: 0.0238 - val_loss: 37.0217 - val_mean_absolute_error: 3.6099\n",
      "Epoch 81/100\n",
      "161/161 [==============================] - 1s 4ms/step - loss: 0.0031 - mean_absolute_error: 0.0235 - val_loss: 37.2424 - val_mean_absolute_error: 3.6559\n",
      "Epoch 82/100\n",
      "161/161 [==============================] - 1s 4ms/step - loss: 0.0029 - mean_absolute_error: 0.0238 - val_loss: 35.7759 - val_mean_absolute_error: 3.4899\n",
      "Epoch 83/100\n",
      "161/161 [==============================] - 1s 4ms/step - loss: 0.0028 - mean_absolute_error: 0.0220 - val_loss: 37.1440 - val_mean_absolute_error: 3.6160\n",
      "Epoch 84/100\n",
      "161/161 [==============================] - 1s 4ms/step - loss: 0.0027 - mean_absolute_error: 0.0222 - val_loss: 38.7469 - val_mean_absolute_error: 3.7809\n",
      "Epoch 85/100\n",
      "161/161 [==============================] - 1s 4ms/step - loss: 0.0029 - mean_absolute_error: 0.0242 - val_loss: 37.6203 - val_mean_absolute_error: 3.6471\n",
      "Epoch 86/100\n",
      "161/161 [==============================] - 1s 4ms/step - loss: 0.0028 - mean_absolute_error: 0.0227 - val_loss: 37.7772 - val_mean_absolute_error: 3.6570\n",
      "Epoch 87/100\n",
      "161/161 [==============================] - 1s 4ms/step - loss: 0.0029 - mean_absolute_error: 0.0232 - val_loss: 35.4288 - val_mean_absolute_error: 3.4719\n",
      "Epoch 88/100\n",
      "161/161 [==============================] - 1s 4ms/step - loss: 0.0029 - mean_absolute_error: 0.0239 - val_loss: 38.5634 - val_mean_absolute_error: 3.7549\n",
      "Epoch 89/100\n",
      "161/161 [==============================] - 1s 4ms/step - loss: 0.0028 - mean_absolute_error: 0.0219 - val_loss: 36.2299 - val_mean_absolute_error: 3.5410\n",
      "Epoch 90/100\n",
      "161/161 [==============================] - 1s 4ms/step - loss: 0.0027 - mean_absolute_error: 0.0225 - val_loss: 38.2320 - val_mean_absolute_error: 3.7470\n",
      "Epoch 91/100\n",
      "161/161 [==============================] - 1s 4ms/step - loss: 0.0027 - mean_absolute_error: 0.0231 - val_loss: 34.9931 - val_mean_absolute_error: 3.4652\n",
      "Epoch 92/100\n",
      "161/161 [==============================] - 1s 4ms/step - loss: 0.0026 - mean_absolute_error: 0.0214 - val_loss: 35.4324 - val_mean_absolute_error: 3.4894\n",
      "Epoch 93/100\n",
      "161/161 [==============================] - 1s 4ms/step - loss: 0.0028 - mean_absolute_error: 0.0244 - val_loss: 36.8112 - val_mean_absolute_error: 3.5892\n",
      "Epoch 94/100\n",
      "161/161 [==============================] - 1s 4ms/step - loss: 0.0027 - mean_absolute_error: 0.0224 - val_loss: 36.0053 - val_mean_absolute_error: 3.5085\n",
      "Epoch 95/100\n",
      "161/161 [==============================] - 1s 4ms/step - loss: 0.0029 - mean_absolute_error: 0.0235 - val_loss: 35.5361 - val_mean_absolute_error: 3.4716\n",
      "Epoch 96/100\n",
      "161/161 [==============================] - 1s 4ms/step - loss: 0.0028 - mean_absolute_error: 0.0226 - val_loss: 37.3104 - val_mean_absolute_error: 3.6268\n",
      "Epoch 97/100\n",
      "161/161 [==============================] - 1s 4ms/step - loss: 0.0026 - mean_absolute_error: 0.0212 - val_loss: 35.7675 - val_mean_absolute_error: 3.4972\n",
      "Epoch 98/100\n",
      "161/161 [==============================] - 1s 4ms/step - loss: 0.0031 - mean_absolute_error: 0.0257 - val_loss: 37.1661 - val_mean_absolute_error: 3.6534\n",
      "Epoch 99/100\n",
      "161/161 [==============================] - 1s 4ms/step - loss: 0.0030 - mean_absolute_error: 0.0237 - val_loss: 36.8029 - val_mean_absolute_error: 3.6084\n",
      "Epoch 100/100\n",
      "161/161 [==============================] - 1s 4ms/step - loss: 0.0027 - mean_absolute_error: 0.0222 - val_loss: 36.8765 - val_mean_absolute_error: 3.6045\n"
     ]
    },
    {
     "data": {
      "text/plain": [
       "<keras.src.callbacks.History at 0x1ad16470580>"
      ]
     },
     "execution_count": 26,
     "metadata": {},
     "output_type": "execute_result"
    }
   ],
   "source": [
    "# Train the Model\n",
    "model.fit(X_train, y_train, validation_data=(X_validation, y_validation), epochs=100)"
   ]
  },
  {
   "cell_type": "code",
   "execution_count": 27,
   "id": "313003f4-9318-4f1f-9550-654af63a7ada",
   "metadata": {},
   "outputs": [],
   "source": [
    "def plot_model_performance(dates_vector:np.ndarray, predictions_vector:np.ndarray, y_vector:np.ndarray, plot_legend:list) -> None:\n",
    "    # This function helps plot the performance of the model during Trainning, Validation and Testing\n",
    "    \"\"\"\n",
    "    := param: dates_vector - Array with the corresponding dates\n",
    "    := param: predictions_vector - Array with the corresponding predictions made by the model\n",
    "    := param: y_vector - Array with the real values from the stock market price history\n",
    "    := param: plot_legend - Description to differentiate the multiple vectors\n",
    "    \"\"\"\n",
    "    plt.plot(dates_vector, predictions_vector)\n",
    "    plt.plot(dates_vector, y_vector)\n",
    "    plt.legend(plot_legend);"
   ]
  },
  {
   "cell_type": "code",
   "execution_count": 28,
   "id": "63745b45-6e02-46c1-9d47-b926c5dbdbae",
   "metadata": {},
   "outputs": [
    {
     "name": "stdout",
     "output_type": "stream",
     "text": [
      "161/161 [==============================] - 1s 2ms/step\n"
     ]
    },
    {
     "data": {
      "image/png": "[encoded data removed]",
      "text/plain": [
       "<Figure size 640x480 with 1 Axes>"
      ]
     },
     "metadata": {},
     "output_type": "display_data"
    }
   ],
   "source": [
    "# -> Visualize the Trainning Performance\n",
    "\n",
    "# Get the Trainning Predictions\n",
    "train_preds = model.predict(X_train).flatten()\n",
    "\n",
    "# Plot the Trainning Performance Data\n",
    "plot_model_performance(dates_train, train_preds, y_train, ['Trainning Predictions', 'Trainning Observations'])"
   ]
  },
  {
   "cell_type": "code",
   "execution_count": 29,
   "id": "492e08ef-ac3c-4248-a2ce-3736e7baa343",
   "metadata": {},
   "outputs": [
    {
     "name": "stdout",
     "output_type": "stream",
     "text": [
      "21/21 [==============================] - 0s 2ms/step\n"
     ]
    },
    {
     "data": {
      "image/png": "[encoded data removed]",
      "text/plain": [
       "<Figure size 640x480 with 1 Axes>"
      ]
     },
     "metadata": {},
     "output_type": "display_data"
    }
   ],
   "source": [
    "# -> Visualize the Validation Performance\n",
    "\n",
    "# Get the Validation Predictions\n",
    "validation_preds = model.predict(X_validation).flatten()\n",
    "\n",
    "# Plot the Validation Performance Data\n",
    "plot_model_performance(dates_validation, validation_preds, y_validation, ['Validation Predictions', 'Validation Observations'])"
   ]
  },
  {
   "cell_type": "code",
   "execution_count": 30,
   "id": "d7ab3ca6-681f-403a-b918-f258878ea8ab",
   "metadata": {},
   "outputs": [
    {
     "name": "stdout",
     "output_type": "stream",
     "text": [
      "21/21 [==============================] - 0s 2ms/step\n"
     ]
    },
    {
     "data": {
      "image/png": "[encoded data removed]",
      "text/plain": [
       "<Figure size 640x480 with 1 Axes>"
      ]
     },
     "metadata": {},
     "output_type": "display_data"
    }
   ],
   "source": [
    "# -> Visualize Test Performance\n",
    "\n",
    "# Get the Test Predictions\n",
    "test_preds = model.predict(X_test).flatten()\n",
    "\n",
    "# Plot the Test Performance Data\n",
    "plot_model_performance(dates_test, test_preds, y_test, ['Testing Predictions', 'Testing Observations'])"
   ]
  },
  {
   "cell_type": "code",
   "execution_count": 33,
   "id": "21b85f3e-75e5-4270-a59e-5fadb6db788f",
   "metadata": {},
   "outputs": [],
   "source": [
    "def plot_model_overall_performance(dates_list:list, preds_list:list, y_list:list, plot_legend:list) -> None:\n",
    "    # This function allows to Visualize the Model's performance throughout Train, Validation and Testing\n",
    "    \"\"\"\n",
    "    := param: dates_list - Python List with all the vectors composed by the dates at each phase: Train, Validation and Test\n",
    "    := param: preds_list - Python List with all the vectors composed by the model's prediction during Trainning, Valdiation and Testing\n",
    "    := param: y_list - Python List with all the vectors composed by the actual / real values used in Trainning, Validation and Testing\n",
    "    := param: plot_legend - Description to differentiate the multiple vectors\n",
    "    \"\"\"\n",
    "    \n",
    "    # Checking the size of the given lists to make sure they match\n",
    "    assert len(dates_list) == len(preds_list) and len(preds_list) == len(y_list), \"Lists with different sizes!\"\n",
    "    \n",
    "    # Iterate through the data and adding it to the plot\n",
    "    for i in range(len(dates_list)):\n",
    "        plt.plot(dates_list[i], preds_list[i])\n",
    "        plt.plot(dates_list[i], y_list[i])\n",
    "\n",
    "    # Add a Legend\n",
    "    plt.legend(plot_legend);"
   ]
  },
  {
   "cell_type": "code",
   "execution_count": 32,
   "id": "dde10537-0a60-4dca-8627-a05899429342",
   "metadata": {},
   "outputs": [
    {
     "data": {
      "image/png": "[encoded data removed]",
      "text/plain": [
       "<Figure size 640x480 with 1 Axes>"
      ]
     },
     "metadata": {},
     "output_type": "display_data"
    }
   ],
   "source": [
    "# -> Visualize the Model's performance throughout the all process\n",
    "\n",
    "# Initialize some python lists with the data\n",
    "dates_list = [dates_train, dates_validation, dates_test]\n",
    "preds_list = [train_preds, validation_preds, test_preds]\n",
    "y_list = [y_train, y_validation, y_test]\n",
    "legend = ['Training Predictions',\n",
    "          'Training Observations',\n",
    "          'Validation Predictions',\n",
    "          'Validation Observations',\n",
    "          'Testing Predictions',\n",
    "          'Testing Observations']\n",
    "\n",
    "# Plot the Data\n",
    "plot_model_overall_performance(dates_list, preds_list, y_list, legend)"
   ]
  }
 ],
 "metadata": {
  "kernelspec": {
   "display_name": "Python 3 (ipykernel)",
   "language": "python",
   "name": "python3"
  },
  "language_info": {
   "codemirror_mode": {
    "name": "ipython",
    "version": 3
   },
   "file_extension": ".py",
   "mimetype": "text/x-python",
   "name": "python",
   "nbconvert_exporter": "python",
   "pygments_lexer": "ipython3",
   "version": "3.8.0"
  }
 },
 "nbformat": 4,
 "nbformat_minor": 5
}
